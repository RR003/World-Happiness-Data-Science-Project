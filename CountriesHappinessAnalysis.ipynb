{
  "cells": [
    {
      "cell_type": "markdown",
      "id": "19b787b2",
      "metadata": {
        "id": "19b787b2"
      },
      "source": [
        "# **CSE351 FINAL PROJECT**\n",
        "\n",
        "## What makes people in a country happy?\n",
        "Iman Ali, Rahul Raja & Acero"
      ]
    },
    {
      "cell_type": "code",
      "execution_count": null,
      "id": "e2448577",
      "metadata": {
        "id": "e2448577"
      },
      "outputs": [],
      "source": [
        "# Import required libraries\n",
        "import pandas as pd\n",
        "import numpy as np\n",
        "import seaborn as sns\n",
        "import matplotlib.pyplot as plt\n",
        "from sklearn.linear_model import LinearRegression\n",
        "from sklearn.metrics import mean_squared_error\n",
        "from scipy.stats import pearsonr"
      ]
    },
    {
      "cell_type": "markdown",
      "id": "810e31a0",
      "metadata": {
        "id": "810e31a0"
      },
      "source": [
        "## **Load the data**\n",
        "Data Source: https://worldhappiness.report"
      ]
    },
    {
      "cell_type": "code",
      "source": [
        "## google colab command to import data\n",
        "from google.colab import files\n",
        "data1 = files.upload()\n",
        "data2 = files.upload()\n",
        "data3 = files.upload()\n",
        "data4 = files.upload()\n",
        "data5 = files.upload()"
      ],
      "metadata": {
        "colab": {
          "resources": {
            "http://localhost:8080/nbextensions/google.colab/files.js": {
              "data": "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",
              "ok": true,
              "headers": [
                [
                  "content-type",
                  "application/javascript"
                ]
              ],
              "status": 200,
              "status_text": ""
            }
          },
          "base_uri": "https://localhost:8080/",
          "height": 297
        },
        "id": "4c-GKjhEMfD2",
        "outputId": "dc057087-c993-4032-87d7-75a1a83f5494"
      },
      "id": "4c-GKjhEMfD2",
      "execution_count": null,
      "outputs": [
        {
          "output_type": "display_data",
          "data": {
            "text/plain": [
              "<IPython.core.display.HTML object>"
            ],
            "text/html": [
              "\n",
              "     <input type=\"file\" id=\"files-5ea32287-caf9-4dec-a2a1-3f4516bb3572\" name=\"files[]\" multiple disabled\n",
              "        style=\"border:none\" />\n",
              "     <output id=\"result-5ea32287-caf9-4dec-a2a1-3f4516bb3572\">\n",
              "      Upload widget is only available when the cell has been executed in the\n",
              "      current browser session. Please rerun this cell to enable.\n",
              "      </output>\n",
              "      <script src=\"/nbextensions/google.colab/files.js\"></script> "
            ]
          },
          "metadata": {}
        },
        {
          "output_type": "stream",
          "name": "stdout",
          "text": [
            "Saving 2015.csv to 2015.csv\n"
          ]
        },
        {
          "output_type": "display_data",
          "data": {
            "text/plain": [
              "<IPython.core.display.HTML object>"
            ],
            "text/html": [
              "\n",
              "     <input type=\"file\" id=\"files-695609a2-bf75-4a19-9181-8c7abd351833\" name=\"files[]\" multiple disabled\n",
              "        style=\"border:none\" />\n",
              "     <output id=\"result-695609a2-bf75-4a19-9181-8c7abd351833\">\n",
              "      Upload widget is only available when the cell has been executed in the\n",
              "      current browser session. Please rerun this cell to enable.\n",
              "      </output>\n",
              "      <script src=\"/nbextensions/google.colab/files.js\"></script> "
            ]
          },
          "metadata": {}
        },
        {
          "output_type": "stream",
          "name": "stdout",
          "text": [
            "Saving 2016.csv to 2016.csv\n"
          ]
        },
        {
          "output_type": "display_data",
          "data": {
            "text/plain": [
              "<IPython.core.display.HTML object>"
            ],
            "text/html": [
              "\n",
              "     <input type=\"file\" id=\"files-c4c0b63e-5352-4aca-b7f7-a85af2799ec8\" name=\"files[]\" multiple disabled\n",
              "        style=\"border:none\" />\n",
              "     <output id=\"result-c4c0b63e-5352-4aca-b7f7-a85af2799ec8\">\n",
              "      Upload widget is only available when the cell has been executed in the\n",
              "      current browser session. Please rerun this cell to enable.\n",
              "      </output>\n",
              "      <script src=\"/nbextensions/google.colab/files.js\"></script> "
            ]
          },
          "metadata": {}
        },
        {
          "output_type": "stream",
          "name": "stdout",
          "text": [
            "Saving 2017.csv to 2017.csv\n"
          ]
        },
        {
          "output_type": "display_data",
          "data": {
            "text/plain": [
              "<IPython.core.display.HTML object>"
            ],
            "text/html": [
              "\n",
              "     <input type=\"file\" id=\"files-3552dc33-4607-4724-90fd-5e6da862180a\" name=\"files[]\" multiple disabled\n",
              "        style=\"border:none\" />\n",
              "     <output id=\"result-3552dc33-4607-4724-90fd-5e6da862180a\">\n",
              "      Upload widget is only available when the cell has been executed in the\n",
              "      current browser session. Please rerun this cell to enable.\n",
              "      </output>\n",
              "      <script src=\"/nbextensions/google.colab/files.js\"></script> "
            ]
          },
          "metadata": {}
        },
        {
          "output_type": "stream",
          "name": "stdout",
          "text": [
            "Saving 2018.csv to 2018.csv\n"
          ]
        },
        {
          "output_type": "display_data",
          "data": {
            "text/plain": [
              "<IPython.core.display.HTML object>"
            ],
            "text/html": [
              "\n",
              "     <input type=\"file\" id=\"files-63b06065-c759-4add-82b7-8084ab06b27c\" name=\"files[]\" multiple disabled\n",
              "        style=\"border:none\" />\n",
              "     <output id=\"result-63b06065-c759-4add-82b7-8084ab06b27c\">\n",
              "      Upload widget is only available when the cell has been executed in the\n",
              "      current browser session. Please rerun this cell to enable.\n",
              "      </output>\n",
              "      <script src=\"/nbextensions/google.colab/files.js\"></script> "
            ]
          },
          "metadata": {}
        },
        {
          "output_type": "stream",
          "name": "stdout",
          "text": [
            "Saving 2019.csv to 2019.csv\n"
          ]
        }
      ]
    },
    {
      "cell_type": "code",
      "execution_count": null,
      "id": "3a80504a",
      "metadata": {
        "id": "3a80504a"
      },
      "outputs": [],
      "source": [
        "# Use pandas to load data frames\n",
        "\n",
        "happiness15 = pd.read_csv(\"2015.csv\")\n",
        "happiness16 = pd.read_csv(\"2016.csv\")\n",
        "happiness17 = pd.read_csv(\"2017.csv\")\n",
        "happiness18 = pd.read_csv(\"2018.csv\")\n",
        "happiness19 = pd.read_csv(\"2019.csv\")\n",
        "\n",
        "## happiness15 = pd.read_csv(\"world_happiness_data/2015.csv\")\n",
        "## happiness16 = pd.read_csv(\"world_happiness_data/2016.csv\")\n",
        "## happiness17 = pd.read_csv(\"world_happiness_data/2017.csv\")\n",
        "## happiness18 = pd.read_csv(\"world_happiness_data/2018.csv\")\n",
        "## happiness19 = pd.read_csv(\"world_happiness_data/2019.csv\")"
      ]
    },
    {
      "cell_type": "markdown",
      "id": "72702307",
      "metadata": {
        "id": "72702307"
      },
      "source": [
        "# **EDA**\n",
        "### Get familiar with the dataset and decide what features and observations will be useful \n",
        "### (by Iman Ali)"
      ]
    },
    {
      "cell_type": "code",
      "execution_count": null,
      "id": "dfffc265",
      "metadata": {
        "scrolled": true,
        "id": "dfffc265",
        "colab": {
          "base_uri": "https://localhost:8080/",
          "height": 354
        },
        "outputId": "75150248-b9de-4237-b93f-45370f395e34"
      },
      "outputs": [
        {
          "output_type": "execute_result",
          "data": {
            "text/plain": [
              "       Country          Region  Happiness Rank  Happiness Score  \\\n",
              "0  Switzerland  Western Europe               1            7.587   \n",
              "1      Iceland  Western Europe               2            7.561   \n",
              "2      Denmark  Western Europe               3            7.527   \n",
              "3       Norway  Western Europe               4            7.522   \n",
              "4       Canada   North America               5            7.427   \n",
              "\n",
              "   Standard Error  Economy (GDP per Capita)   Family  \\\n",
              "0         0.03411                   1.39651  1.34951   \n",
              "1         0.04884                   1.30232  1.40223   \n",
              "2         0.03328                   1.32548  1.36058   \n",
              "3         0.03880                   1.45900  1.33095   \n",
              "4         0.03553                   1.32629  1.32261   \n",
              "\n",
              "   Health (Life Expectancy)  Freedom  Trust (Government Corruption)  \\\n",
              "0                   0.94143  0.66557                        0.41978   \n",
              "1                   0.94784  0.62877                        0.14145   \n",
              "2                   0.87464  0.64938                        0.48357   \n",
              "3                   0.88521  0.66973                        0.36503   \n",
              "4                   0.90563  0.63297                        0.32957   \n",
              "\n",
              "   Generosity  Dystopia Residual  \n",
              "0     0.29678            2.51738  \n",
              "1     0.43630            2.70201  \n",
              "2     0.34139            2.49204  \n",
              "3     0.34699            2.46531  \n",
              "4     0.45811            2.45176  "
            ],
            "text/html": [
              "\n",
              "  <div id=\"df-6cf74d86-c5d6-4ba6-8d22-94caeb29355f\">\n",
              "    <div class=\"colab-df-container\">\n",
              "      <div>\n",
              "<style scoped>\n",
              "    .dataframe tbody tr th:only-of-type {\n",
              "        vertical-align: middle;\n",
              "    }\n",
              "\n",
              "    .dataframe tbody tr th {\n",
              "        vertical-align: top;\n",
              "    }\n",
              "\n",
              "    .dataframe thead th {\n",
              "        text-align: right;\n",
              "    }\n",
              "</style>\n",
              "<table border=\"1\" class=\"dataframe\">\n",
              "  <thead>\n",
              "    <tr style=\"text-align: right;\">\n",
              "      <th></th>\n",
              "      <th>Country</th>\n",
              "      <th>Region</th>\n",
              "      <th>Happiness Rank</th>\n",
              "      <th>Happiness Score</th>\n",
              "      <th>Standard Error</th>\n",
              "      <th>Economy (GDP per Capita)</th>\n",
              "      <th>Family</th>\n",
              "      <th>Health (Life Expectancy)</th>\n",
              "      <th>Freedom</th>\n",
              "      <th>Trust (Government Corruption)</th>\n",
              "      <th>Generosity</th>\n",
              "      <th>Dystopia Residual</th>\n",
              "    </tr>\n",
              "  </thead>\n",
              "  <tbody>\n",
              "    <tr>\n",
              "      <th>0</th>\n",
              "      <td>Switzerland</td>\n",
              "      <td>Western Europe</td>\n",
              "      <td>1</td>\n",
              "      <td>7.587</td>\n",
              "      <td>0.03411</td>\n",
              "      <td>1.39651</td>\n",
              "      <td>1.34951</td>\n",
              "      <td>0.94143</td>\n",
              "      <td>0.66557</td>\n",
              "      <td>0.41978</td>\n",
              "      <td>0.29678</td>\n",
              "      <td>2.51738</td>\n",
              "    </tr>\n",
              "    <tr>\n",
              "      <th>1</th>\n",
              "      <td>Iceland</td>\n",
              "      <td>Western Europe</td>\n",
              "      <td>2</td>\n",
              "      <td>7.561</td>\n",
              "      <td>0.04884</td>\n",
              "      <td>1.30232</td>\n",
              "      <td>1.40223</td>\n",
              "      <td>0.94784</td>\n",
              "      <td>0.62877</td>\n",
              "      <td>0.14145</td>\n",
              "      <td>0.43630</td>\n",
              "      <td>2.70201</td>\n",
              "    </tr>\n",
              "    <tr>\n",
              "      <th>2</th>\n",
              "      <td>Denmark</td>\n",
              "      <td>Western Europe</td>\n",
              "      <td>3</td>\n",
              "      <td>7.527</td>\n",
              "      <td>0.03328</td>\n",
              "      <td>1.32548</td>\n",
              "      <td>1.36058</td>\n",
              "      <td>0.87464</td>\n",
              "      <td>0.64938</td>\n",
              "      <td>0.48357</td>\n",
              "      <td>0.34139</td>\n",
              "      <td>2.49204</td>\n",
              "    </tr>\n",
              "    <tr>\n",
              "      <th>3</th>\n",
              "      <td>Norway</td>\n",
              "      <td>Western Europe</td>\n",
              "      <td>4</td>\n",
              "      <td>7.522</td>\n",
              "      <td>0.03880</td>\n",
              "      <td>1.45900</td>\n",
              "      <td>1.33095</td>\n",
              "      <td>0.88521</td>\n",
              "      <td>0.66973</td>\n",
              "      <td>0.36503</td>\n",
              "      <td>0.34699</td>\n",
              "      <td>2.46531</td>\n",
              "    </tr>\n",
              "    <tr>\n",
              "      <th>4</th>\n",
              "      <td>Canada</td>\n",
              "      <td>North America</td>\n",
              "      <td>5</td>\n",
              "      <td>7.427</td>\n",
              "      <td>0.03553</td>\n",
              "      <td>1.32629</td>\n",
              "      <td>1.32261</td>\n",
              "      <td>0.90563</td>\n",
              "      <td>0.63297</td>\n",
              "      <td>0.32957</td>\n",
              "      <td>0.45811</td>\n",
              "      <td>2.45176</td>\n",
              "    </tr>\n",
              "  </tbody>\n",
              "</table>\n",
              "</div>\n",
              "      <button class=\"colab-df-convert\" onclick=\"convertToInteractive('df-6cf74d86-c5d6-4ba6-8d22-94caeb29355f')\"\n",
              "              title=\"Convert this dataframe to an interactive table.\"\n",
              "              style=\"display:none;\">\n",
              "        \n",
              "  <svg xmlns=\"http://www.w3.org/2000/svg\" height=\"24px\"viewBox=\"0 0 24 24\"\n",
              "       width=\"24px\">\n",
              "    <path d=\"M0 0h24v24H0V0z\" fill=\"none\"/>\n",
              "    <path d=\"M18.56 5.44l.94 2.06.94-2.06 2.06-.94-2.06-.94-.94-2.06-.94 2.06-2.06.94zm-11 1L8.5 8.5l.94-2.06 2.06-.94-2.06-.94L8.5 2.5l-.94 2.06-2.06.94zm10 10l.94 2.06.94-2.06 2.06-.94-2.06-.94-.94-2.06-.94 2.06-2.06.94z\"/><path d=\"M17.41 7.96l-1.37-1.37c-.4-.4-.92-.59-1.43-.59-.52 0-1.04.2-1.43.59L10.3 9.45l-7.72 7.72c-.78.78-.78 2.05 0 2.83L4 21.41c.39.39.9.59 1.41.59.51 0 1.02-.2 1.41-.59l7.78-7.78 2.81-2.81c.8-.78.8-2.07 0-2.86zM5.41 20L4 18.59l7.72-7.72 1.47 1.35L5.41 20z\"/>\n",
              "  </svg>\n",
              "      </button>\n",
              "      \n",
              "  <style>\n",
              "    .colab-df-container {\n",
              "      display:flex;\n",
              "      flex-wrap:wrap;\n",
              "      gap: 12px;\n",
              "    }\n",
              "\n",
              "    .colab-df-convert {\n",
              "      background-color: #E8F0FE;\n",
              "      border: none;\n",
              "      border-radius: 50%;\n",
              "      cursor: pointer;\n",
              "      display: none;\n",
              "      fill: #1967D2;\n",
              "      height: 32px;\n",
              "      padding: 0 0 0 0;\n",
              "      width: 32px;\n",
              "    }\n",
              "\n",
              "    .colab-df-convert:hover {\n",
              "      background-color: #E2EBFA;\n",
              "      box-shadow: 0px 1px 2px rgba(60, 64, 67, 0.3), 0px 1px 3px 1px rgba(60, 64, 67, 0.15);\n",
              "      fill: #174EA6;\n",
              "    }\n",
              "\n",
              "    [theme=dark] .colab-df-convert {\n",
              "      background-color: #3B4455;\n",
              "      fill: #D2E3FC;\n",
              "    }\n",
              "\n",
              "    [theme=dark] .colab-df-convert:hover {\n",
              "      background-color: #434B5C;\n",
              "      box-shadow: 0px 1px 3px 1px rgba(0, 0, 0, 0.15);\n",
              "      filter: drop-shadow(0px 1px 2px rgba(0, 0, 0, 0.3));\n",
              "      fill: #FFFFFF;\n",
              "    }\n",
              "  </style>\n",
              "\n",
              "      <script>\n",
              "        const buttonEl =\n",
              "          document.querySelector('#df-6cf74d86-c5d6-4ba6-8d22-94caeb29355f button.colab-df-convert');\n",
              "        buttonEl.style.display =\n",
              "          google.colab.kernel.accessAllowed ? 'block' : 'none';\n",
              "\n",
              "        async function convertToInteractive(key) {\n",
              "          const element = document.querySelector('#df-6cf74d86-c5d6-4ba6-8d22-94caeb29355f');\n",
              "          const dataTable =\n",
              "            await google.colab.kernel.invokeFunction('convertToInteractive',\n",
              "                                                     [key], {});\n",
              "          if (!dataTable) return;\n",
              "\n",
              "          const docLinkHtml = 'Like what you see? Visit the ' +\n",
              "            '<a target=\"_blank\" href=https://colab.research.google.com/notebooks/data_table.ipynb>data table notebook</a>'\n",
              "            + ' to learn more about interactive tables.';\n",
              "          element.innerHTML = '';\n",
              "          dataTable['output_type'] = 'display_data';\n",
              "          await google.colab.output.renderOutput(dataTable, element);\n",
              "          const docLink = document.createElement('div');\n",
              "          docLink.innerHTML = docLinkHtml;\n",
              "          element.appendChild(docLink);\n",
              "        }\n",
              "      </script>\n",
              "    </div>\n",
              "  </div>\n",
              "  "
            ]
          },
          "metadata": {},
          "execution_count": 4
        }
      ],
      "source": [
        "# Display first 5 rows of the 2015 data set\n",
        "happiness15.head()"
      ]
    },
    {
      "cell_type": "code",
      "source": [
        "# Display first 5 rows of the 2019 data set\n",
        "happiness19.head()"
      ],
      "metadata": {
        "id": "rxXu4Dd3DR7b",
        "colab": {
          "base_uri": "https://localhost:8080/",
          "height": 268
        },
        "outputId": "c2e577de-e521-4369-90c1-675dfcd5f842"
      },
      "id": "rxXu4Dd3DR7b",
      "execution_count": null,
      "outputs": [
        {
          "output_type": "execute_result",
          "data": {
            "text/plain": [
              "   Overall rank Country or region  Score  GDP per capita  Social support  \\\n",
              "0             1           Finland  7.769           1.340           1.587   \n",
              "1             2           Denmark  7.600           1.383           1.573   \n",
              "2             3            Norway  7.554           1.488           1.582   \n",
              "3             4           Iceland  7.494           1.380           1.624   \n",
              "4             5       Netherlands  7.488           1.396           1.522   \n",
              "\n",
              "   Healthy life expectancy  Freedom to make life choices  Generosity  \\\n",
              "0                    0.986                         0.596       0.153   \n",
              "1                    0.996                         0.592       0.252   \n",
              "2                    1.028                         0.603       0.271   \n",
              "3                    1.026                         0.591       0.354   \n",
              "4                    0.999                         0.557       0.322   \n",
              "\n",
              "   Perceptions of corruption  \n",
              "0                      0.393  \n",
              "1                      0.410  \n",
              "2                      0.341  \n",
              "3                      0.118  \n",
              "4                      0.298  "
            ],
            "text/html": [
              "\n",
              "  <div id=\"df-3f19b638-20b9-478a-98d0-c95cb8a1d99d\">\n",
              "    <div class=\"colab-df-container\">\n",
              "      <div>\n",
              "<style scoped>\n",
              "    .dataframe tbody tr th:only-of-type {\n",
              "        vertical-align: middle;\n",
              "    }\n",
              "\n",
              "    .dataframe tbody tr th {\n",
              "        vertical-align: top;\n",
              "    }\n",
              "\n",
              "    .dataframe thead th {\n",
              "        text-align: right;\n",
              "    }\n",
              "</style>\n",
              "<table border=\"1\" class=\"dataframe\">\n",
              "  <thead>\n",
              "    <tr style=\"text-align: right;\">\n",
              "      <th></th>\n",
              "      <th>Overall rank</th>\n",
              "      <th>Country or region</th>\n",
              "      <th>Score</th>\n",
              "      <th>GDP per capita</th>\n",
              "      <th>Social support</th>\n",
              "      <th>Healthy life expectancy</th>\n",
              "      <th>Freedom to make life choices</th>\n",
              "      <th>Generosity</th>\n",
              "      <th>Perceptions of corruption</th>\n",
              "    </tr>\n",
              "  </thead>\n",
              "  <tbody>\n",
              "    <tr>\n",
              "      <th>0</th>\n",
              "      <td>1</td>\n",
              "      <td>Finland</td>\n",
              "      <td>7.769</td>\n",
              "      <td>1.340</td>\n",
              "      <td>1.587</td>\n",
              "      <td>0.986</td>\n",
              "      <td>0.596</td>\n",
              "      <td>0.153</td>\n",
              "      <td>0.393</td>\n",
              "    </tr>\n",
              "    <tr>\n",
              "      <th>1</th>\n",
              "      <td>2</td>\n",
              "      <td>Denmark</td>\n",
              "      <td>7.600</td>\n",
              "      <td>1.383</td>\n",
              "      <td>1.573</td>\n",
              "      <td>0.996</td>\n",
              "      <td>0.592</td>\n",
              "      <td>0.252</td>\n",
              "      <td>0.410</td>\n",
              "    </tr>\n",
              "    <tr>\n",
              "      <th>2</th>\n",
              "      <td>3</td>\n",
              "      <td>Norway</td>\n",
              "      <td>7.554</td>\n",
              "      <td>1.488</td>\n",
              "      <td>1.582</td>\n",
              "      <td>1.028</td>\n",
              "      <td>0.603</td>\n",
              "      <td>0.271</td>\n",
              "      <td>0.341</td>\n",
              "    </tr>\n",
              "    <tr>\n",
              "      <th>3</th>\n",
              "      <td>4</td>\n",
              "      <td>Iceland</td>\n",
              "      <td>7.494</td>\n",
              "      <td>1.380</td>\n",
              "      <td>1.624</td>\n",
              "      <td>1.026</td>\n",
              "      <td>0.591</td>\n",
              "      <td>0.354</td>\n",
              "      <td>0.118</td>\n",
              "    </tr>\n",
              "    <tr>\n",
              "      <th>4</th>\n",
              "      <td>5</td>\n",
              "      <td>Netherlands</td>\n",
              "      <td>7.488</td>\n",
              "      <td>1.396</td>\n",
              "      <td>1.522</td>\n",
              "      <td>0.999</td>\n",
              "      <td>0.557</td>\n",
              "      <td>0.322</td>\n",
              "      <td>0.298</td>\n",
              "    </tr>\n",
              "  </tbody>\n",
              "</table>\n",
              "</div>\n",
              "      <button class=\"colab-df-convert\" onclick=\"convertToInteractive('df-3f19b638-20b9-478a-98d0-c95cb8a1d99d')\"\n",
              "              title=\"Convert this dataframe to an interactive table.\"\n",
              "              style=\"display:none;\">\n",
              "        \n",
              "  <svg xmlns=\"http://www.w3.org/2000/svg\" height=\"24px\"viewBox=\"0 0 24 24\"\n",
              "       width=\"24px\">\n",
              "    <path d=\"M0 0h24v24H0V0z\" fill=\"none\"/>\n",
              "    <path d=\"M18.56 5.44l.94 2.06.94-2.06 2.06-.94-2.06-.94-.94-2.06-.94 2.06-2.06.94zm-11 1L8.5 8.5l.94-2.06 2.06-.94-2.06-.94L8.5 2.5l-.94 2.06-2.06.94zm10 10l.94 2.06.94-2.06 2.06-.94-2.06-.94-.94-2.06-.94 2.06-2.06.94z\"/><path d=\"M17.41 7.96l-1.37-1.37c-.4-.4-.92-.59-1.43-.59-.52 0-1.04.2-1.43.59L10.3 9.45l-7.72 7.72c-.78.78-.78 2.05 0 2.83L4 21.41c.39.39.9.59 1.41.59.51 0 1.02-.2 1.41-.59l7.78-7.78 2.81-2.81c.8-.78.8-2.07 0-2.86zM5.41 20L4 18.59l7.72-7.72 1.47 1.35L5.41 20z\"/>\n",
              "  </svg>\n",
              "      </button>\n",
              "      \n",
              "  <style>\n",
              "    .colab-df-container {\n",
              "      display:flex;\n",
              "      flex-wrap:wrap;\n",
              "      gap: 12px;\n",
              "    }\n",
              "\n",
              "    .colab-df-convert {\n",
              "      background-color: #E8F0FE;\n",
              "      border: none;\n",
              "      border-radius: 50%;\n",
              "      cursor: pointer;\n",
              "      display: none;\n",
              "      fill: #1967D2;\n",
              "      height: 32px;\n",
              "      padding: 0 0 0 0;\n",
              "      width: 32px;\n",
              "    }\n",
              "\n",
              "    .colab-df-convert:hover {\n",
              "      background-color: #E2EBFA;\n",
              "      box-shadow: 0px 1px 2px rgba(60, 64, 67, 0.3), 0px 1px 3px 1px rgba(60, 64, 67, 0.15);\n",
              "      fill: #174EA6;\n",
              "    }\n",
              "\n",
              "    [theme=dark] .colab-df-convert {\n",
              "      background-color: #3B4455;\n",
              "      fill: #D2E3FC;\n",
              "    }\n",
              "\n",
              "    [theme=dark] .colab-df-convert:hover {\n",
              "      background-color: #434B5C;\n",
              "      box-shadow: 0px 1px 3px 1px rgba(0, 0, 0, 0.15);\n",
              "      filter: drop-shadow(0px 1px 2px rgba(0, 0, 0, 0.3));\n",
              "      fill: #FFFFFF;\n",
              "    }\n",
              "  </style>\n",
              "\n",
              "      <script>\n",
              "        const buttonEl =\n",
              "          document.querySelector('#df-3f19b638-20b9-478a-98d0-c95cb8a1d99d button.colab-df-convert');\n",
              "        buttonEl.style.display =\n",
              "          google.colab.kernel.accessAllowed ? 'block' : 'none';\n",
              "\n",
              "        async function convertToInteractive(key) {\n",
              "          const element = document.querySelector('#df-3f19b638-20b9-478a-98d0-c95cb8a1d99d');\n",
              "          const dataTable =\n",
              "            await google.colab.kernel.invokeFunction('convertToInteractive',\n",
              "                                                     [key], {});\n",
              "          if (!dataTable) return;\n",
              "\n",
              "          const docLinkHtml = 'Like what you see? Visit the ' +\n",
              "            '<a target=\"_blank\" href=https://colab.research.google.com/notebooks/data_table.ipynb>data table notebook</a>'\n",
              "            + ' to learn more about interactive tables.';\n",
              "          element.innerHTML = '';\n",
              "          dataTable['output_type'] = 'display_data';\n",
              "          await google.colab.output.renderOutput(dataTable, element);\n",
              "          const docLink = document.createElement('div');\n",
              "          docLink.innerHTML = docLinkHtml;\n",
              "          element.appendChild(docLink);\n",
              "        }\n",
              "      </script>\n",
              "    </div>\n",
              "  </div>\n",
              "  "
            ]
          },
          "metadata": {},
          "execution_count": 5
        }
      ]
    },
    {
      "cell_type": "code",
      "source": [
        "# Above exploration shows that different years have different attributes\n",
        "# Data columns are inconsistent for each year\n",
        "\n",
        "# Check name and type of columns in every years data\n",
        "happiness15.dtypes"
      ],
      "metadata": {
        "id": "rLh9Q6JSCINC",
        "colab": {
          "base_uri": "https://localhost:8080/"
        },
        "outputId": "7186fcdd-922a-4286-f1f8-1c5c0e05a3c2"
      },
      "id": "rLh9Q6JSCINC",
      "execution_count": null,
      "outputs": [
        {
          "output_type": "execute_result",
          "data": {
            "text/plain": [
              "Country                           object\n",
              "Region                            object\n",
              "Happiness Rank                     int64\n",
              "Happiness Score                  float64\n",
              "Standard Error                   float64\n",
              "Economy (GDP per Capita)         float64\n",
              "Family                           float64\n",
              "Health (Life Expectancy)         float64\n",
              "Freedom                          float64\n",
              "Trust (Government Corruption)    float64\n",
              "Generosity                       float64\n",
              "Dystopia Residual                float64\n",
              "dtype: object"
            ]
          },
          "metadata": {},
          "execution_count": 6
        }
      ]
    },
    {
      "cell_type": "code",
      "source": [
        "happiness16.dtypes"
      ],
      "metadata": {
        "id": "_q23j-WkDezA",
        "colab": {
          "base_uri": "https://localhost:8080/"
        },
        "outputId": "f06fb74a-78a5-415b-d0bd-9c340fa68841"
      },
      "id": "_q23j-WkDezA",
      "execution_count": null,
      "outputs": [
        {
          "output_type": "execute_result",
          "data": {
            "text/plain": [
              "Country                           object\n",
              "Region                            object\n",
              "Happiness Rank                     int64\n",
              "Happiness Score                  float64\n",
              "Lower Confidence Interval        float64\n",
              "Upper Confidence Interval        float64\n",
              "Economy (GDP per Capita)         float64\n",
              "Family                           float64\n",
              "Health (Life Expectancy)         float64\n",
              "Freedom                          float64\n",
              "Trust (Government Corruption)    float64\n",
              "Generosity                       float64\n",
              "Dystopia Residual                float64\n",
              "dtype: object"
            ]
          },
          "metadata": {},
          "execution_count": 7
        }
      ]
    },
    {
      "cell_type": "code",
      "source": [
        "happiness17.dtypes"
      ],
      "metadata": {
        "id": "vq36VQnYDiHx",
        "colab": {
          "base_uri": "https://localhost:8080/"
        },
        "outputId": "7d16132e-9c69-4b59-bf34-dc6c28986d34"
      },
      "id": "vq36VQnYDiHx",
      "execution_count": null,
      "outputs": [
        {
          "output_type": "execute_result",
          "data": {
            "text/plain": [
              "Country                           object\n",
              "Happiness.Rank                     int64\n",
              "Happiness.Score                  float64\n",
              "Whisker.high                     float64\n",
              "Whisker.low                      float64\n",
              "Economy..GDP.per.Capita.         float64\n",
              "Family                           float64\n",
              "Health..Life.Expectancy.         float64\n",
              "Freedom                          float64\n",
              "Generosity                       float64\n",
              "Trust..Government.Corruption.    float64\n",
              "Dystopia.Residual                float64\n",
              "dtype: object"
            ]
          },
          "metadata": {},
          "execution_count": 8
        }
      ]
    },
    {
      "cell_type": "code",
      "source": [
        "happiness18.dtypes"
      ],
      "metadata": {
        "id": "7OQ58M_HDkuN",
        "colab": {
          "base_uri": "https://localhost:8080/"
        },
        "outputId": "c921ac93-9f30-4645-d005-aa6569ed1edb"
      },
      "id": "7OQ58M_HDkuN",
      "execution_count": null,
      "outputs": [
        {
          "output_type": "execute_result",
          "data": {
            "text/plain": [
              "Overall rank                      int64\n",
              "Country or region                object\n",
              "Score                           float64\n",
              "GDP per capita                  float64\n",
              "Social support                  float64\n",
              "Healthy life expectancy         float64\n",
              "Freedom to make life choices    float64\n",
              "Generosity                      float64\n",
              "Perceptions of corruption       float64\n",
              "dtype: object"
            ]
          },
          "metadata": {},
          "execution_count": 9
        }
      ]
    },
    {
      "cell_type": "code",
      "source": [
        "happiness19.dtypes"
      ],
      "metadata": {
        "id": "g9_v-AuUDnHq",
        "colab": {
          "base_uri": "https://localhost:8080/"
        },
        "outputId": "a30035dc-9c0e-4fdc-a95f-a12f2a513132"
      },
      "id": "g9_v-AuUDnHq",
      "execution_count": null,
      "outputs": [
        {
          "output_type": "execute_result",
          "data": {
            "text/plain": [
              "Overall rank                      int64\n",
              "Country or region                object\n",
              "Score                           float64\n",
              "GDP per capita                  float64\n",
              "Social support                  float64\n",
              "Healthy life expectancy         float64\n",
              "Freedom to make life choices    float64\n",
              "Generosity                      float64\n",
              "Perceptions of corruption       float64\n",
              "dtype: object"
            ]
          },
          "metadata": {},
          "execution_count": 10
        }
      ]
    },
    {
      "cell_type": "markdown",
      "source": [
        "## **Clean and Merge the data (Task 1)**\n",
        "### By Iman Ali"
      ],
      "metadata": {
        "id": "ajqXgdnEuJ-h"
      },
      "id": "ajqXgdnEuJ-h"
    },
    {
      "cell_type": "code",
      "source": [
        "# Format all data to be uniform and consistent with each other\n",
        "# by renaming columns to :  \n",
        "# Country - Rank - Score - GDP per Capita - Life Expectancy - Family/Social Support - Freedom - Corruption - Generosity \n",
        "\n",
        "# This step will eliminate conflicts when merging the data sets\n",
        "# and filter only the useful features/observations of the data for our analysis.\n",
        "\n",
        "# 2015 \n",
        "happiness15.rename(columns={\n",
        "    \"Country\": \"Country\",\n",
        "    \"Happiness Rank\": \"Rank\",\n",
        "    \"Happiness Score\": \"Score\",\n",
        "    \"Economy (GDP per Capita)\": \"GDP per Capita\",\n",
        "    \"Health (Life Expectancy)\": \"Life Expectancy\",\n",
        "    \"Family\": \"Family/Social Support\",\n",
        "    \"Freedom\": \"Freedom\",\n",
        "    \"Trust (Government Corruption)\": \"Corruption\",\n",
        "    \"Generosity\": \"Generosity\"\n",
        "},inplace=True)\n",
        "happiness15.drop(['Region', 'Standard Error', 'Dystopia Residual'], axis=1, inplace=True)\n",
        "\n",
        "# 2016\n",
        "happiness16.rename(columns={\n",
        "    \"Country\": \"Country\",\n",
        "    \"Happiness Rank\": \"Rank\",\n",
        "    \"Happiness Score\": \"Score\",\n",
        "    \"Economy (GDP per Capita)\": \"GDP per Capita\",\n",
        "    \"Health (Life Expectancy)\": \"Life Expectancy\",\n",
        "    \"Family\": \"Family/Social Support\",\n",
        "    \"Freedom\": \"Freedom\",\n",
        "    \"Trust (Government Corruption)\": \"Corruption\",\n",
        "    \"Generosity\": \"Generosity\"\n",
        "},inplace=True)\n",
        "happiness16.drop(['Region', 'Lower Confidence Interval', 'Upper Confidence Interval', 'Dystopia Residual'], axis=1, inplace=True)\n",
        "\n",
        "# 2017\n",
        "happiness17.rename(columns={\n",
        "    \"Country\": \"Country\",\n",
        "    \"Happiness.Rank\": \"Rank\",\n",
        "    \"Happiness.Score\": \"Score\",\n",
        "    \"Economy..GDP.per.Capita.\": \"GDP per Capita\",\n",
        "    \"Health..Life.Expectancy.\": \"Life Expectancy\",\n",
        "    \"Family\": \"Family/Social Support\",\n",
        "    \"Freedom\": \"Freedom\",\n",
        "    \"Trust..Government.Corruption.\": \"Corruption\",\n",
        "    \"Generosity\": \"Generosity\"\n",
        "},inplace=True)\n",
        "happiness17.drop(['Whisker.high', 'Whisker.low', 'Dystopia.Residual'], axis=1, inplace=True)\n",
        "\n",
        "# 2018\n",
        "happiness18.rename(columns={\n",
        "    \"Country or region\": \"Country\",\n",
        "    \"Overall rank\": \"Rank\",\n",
        "    \"Score\": \"Score\",\n",
        "    \"GDP per capita\": \"GDP per Capita\",\n",
        "    \"Healthy life expectancy\": \"Life Expectancy\",\n",
        "    \"Social support\": \"Family/Social Support\",\n",
        "    \"Freedom to make life choices\": \"Freedom\",\n",
        "    \"Perceptions of corruption\": \"Corruption\",\n",
        "    \"Generosity\": \"Generosity\"\n",
        "},inplace=True)\n",
        "\n",
        "# 2019\n",
        "happiness19.rename(columns={\n",
        "    \"Country or region\": \"Country\",\n",
        "    \"Overall rank\": \"Rank\",\n",
        "    \"Score\": \"Score\",\n",
        "    \"GDP per capita\": \"GDP per Capita\",\n",
        "    \"Healthy life expectancy\": \"Life Expectancy\",\n",
        "    \"Social support\": \"Family/Social Support\",\n",
        "    \"Freedom to make life choices\": \"Freedom\",\n",
        "    \"Perceptions of corruption\": \"Corruption\",\n",
        "    \"Generosity\": \"Generosity\"\n",
        "},inplace=True)"
      ],
      "metadata": {
        "id": "Cx5sEW6BEhI4"
      },
      "id": "Cx5sEW6BEhI4",
      "execution_count": null,
      "outputs": []
    },
    {
      "cell_type": "code",
      "execution_count": null,
      "id": "c0b8624e",
      "metadata": {
        "id": "c0b8624e"
      },
      "outputs": [],
      "source": [
        "# Add year column to each data frame\n",
        "# So after data is merged, its year information is available\n",
        "\n",
        "happiness15[\"Year\"] = 2015\n",
        "happiness16[\"Year\"] = 2016\n",
        "happiness17[\"Year\"] = 2017\n",
        "happiness18[\"Year\"] = 2018\n",
        "happiness19[\"Year\"] = 2019"
      ]
    },
    {
      "cell_type": "code",
      "source": [
        "# Merging data\n",
        "# Creating one dataframe table for all of the years combined\n",
        "\n",
        "frames = [happiness15, happiness16, happiness17, happiness18, happiness19]\n",
        "happiness = pd.concat(frames)\n",
        "happiness"
      ],
      "metadata": {
        "id": "1aWZnemjNgwd",
        "colab": {
          "base_uri": "https://localhost:8080/",
          "height": 419
        },
        "outputId": "f6536ca3-4a33-4a65-95c9-521914c28a37"
      },
      "id": "1aWZnemjNgwd",
      "execution_count": null,
      "outputs": [
        {
          "output_type": "execute_result",
          "data": {
            "text/plain": [
              "                      Country  Rank  Score  GDP per Capita  \\\n",
              "0                 Switzerland     1  7.587         1.39651   \n",
              "1                     Iceland     2  7.561         1.30232   \n",
              "2                     Denmark     3  7.527         1.32548   \n",
              "3                      Norway     4  7.522         1.45900   \n",
              "4                      Canada     5  7.427         1.32629   \n",
              "..                        ...   ...    ...             ...   \n",
              "151                    Rwanda   152  3.334         0.35900   \n",
              "152                  Tanzania   153  3.231         0.47600   \n",
              "153               Afghanistan   154  3.203         0.35000   \n",
              "154  Central African Republic   155  3.083         0.02600   \n",
              "155               South Sudan   156  2.853         0.30600   \n",
              "\n",
              "     Family/Social Support  Life Expectancy  Freedom  Corruption  Generosity  \\\n",
              "0                  1.34951          0.94143  0.66557     0.41978     0.29678   \n",
              "1                  1.40223          0.94784  0.62877     0.14145     0.43630   \n",
              "2                  1.36058          0.87464  0.64938     0.48357     0.34139   \n",
              "3                  1.33095          0.88521  0.66973     0.36503     0.34699   \n",
              "4                  1.32261          0.90563  0.63297     0.32957     0.45811   \n",
              "..                     ...              ...      ...         ...         ...   \n",
              "151                0.71100          0.61400  0.55500     0.41100     0.21700   \n",
              "152                0.88500          0.49900  0.41700     0.14700     0.27600   \n",
              "153                0.51700          0.36100  0.00000     0.02500     0.15800   \n",
              "154                0.00000          0.10500  0.22500     0.03500     0.23500   \n",
              "155                0.57500          0.29500  0.01000     0.09100     0.20200   \n",
              "\n",
              "     Year  \n",
              "0    2015  \n",
              "1    2015  \n",
              "2    2015  \n",
              "3    2015  \n",
              "4    2015  \n",
              "..    ...  \n",
              "151  2019  \n",
              "152  2019  \n",
              "153  2019  \n",
              "154  2019  \n",
              "155  2019  \n",
              "\n",
              "[782 rows x 10 columns]"
            ],
            "text/html": [
              "\n",
              "  <div id=\"df-b079fe5d-0817-4a18-9a3a-d7c17f5c26a8\">\n",
              "    <div class=\"colab-df-container\">\n",
              "      <div>\n",
              "<style scoped>\n",
              "    .dataframe tbody tr th:only-of-type {\n",
              "        vertical-align: middle;\n",
              "    }\n",
              "\n",
              "    .dataframe tbody tr th {\n",
              "        vertical-align: top;\n",
              "    }\n",
              "\n",
              "    .dataframe thead th {\n",
              "        text-align: right;\n",
              "    }\n",
              "</style>\n",
              "<table border=\"1\" class=\"dataframe\">\n",
              "  <thead>\n",
              "    <tr style=\"text-align: right;\">\n",
              "      <th></th>\n",
              "      <th>Country</th>\n",
              "      <th>Rank</th>\n",
              "      <th>Score</th>\n",
              "      <th>GDP per Capita</th>\n",
              "      <th>Family/Social Support</th>\n",
              "      <th>Life Expectancy</th>\n",
              "      <th>Freedom</th>\n",
              "      <th>Corruption</th>\n",
              "      <th>Generosity</th>\n",
              "      <th>Year</th>\n",
              "    </tr>\n",
              "  </thead>\n",
              "  <tbody>\n",
              "    <tr>\n",
              "      <th>0</th>\n",
              "      <td>Switzerland</td>\n",
              "      <td>1</td>\n",
              "      <td>7.587</td>\n",
              "      <td>1.39651</td>\n",
              "      <td>1.34951</td>\n",
              "      <td>0.94143</td>\n",
              "      <td>0.66557</td>\n",
              "      <td>0.41978</td>\n",
              "      <td>0.29678</td>\n",
              "      <td>2015</td>\n",
              "    </tr>\n",
              "    <tr>\n",
              "      <th>1</th>\n",
              "      <td>Iceland</td>\n",
              "      <td>2</td>\n",
              "      <td>7.561</td>\n",
              "      <td>1.30232</td>\n",
              "      <td>1.40223</td>\n",
              "      <td>0.94784</td>\n",
              "      <td>0.62877</td>\n",
              "      <td>0.14145</td>\n",
              "      <td>0.43630</td>\n",
              "      <td>2015</td>\n",
              "    </tr>\n",
              "    <tr>\n",
              "      <th>2</th>\n",
              "      <td>Denmark</td>\n",
              "      <td>3</td>\n",
              "      <td>7.527</td>\n",
              "      <td>1.32548</td>\n",
              "      <td>1.36058</td>\n",
              "      <td>0.87464</td>\n",
              "      <td>0.64938</td>\n",
              "      <td>0.48357</td>\n",
              "      <td>0.34139</td>\n",
              "      <td>2015</td>\n",
              "    </tr>\n",
              "    <tr>\n",
              "      <th>3</th>\n",
              "      <td>Norway</td>\n",
              "      <td>4</td>\n",
              "      <td>7.522</td>\n",
              "      <td>1.45900</td>\n",
              "      <td>1.33095</td>\n",
              "      <td>0.88521</td>\n",
              "      <td>0.66973</td>\n",
              "      <td>0.36503</td>\n",
              "      <td>0.34699</td>\n",
              "      <td>2015</td>\n",
              "    </tr>\n",
              "    <tr>\n",
              "      <th>4</th>\n",
              "      <td>Canada</td>\n",
              "      <td>5</td>\n",
              "      <td>7.427</td>\n",
              "      <td>1.32629</td>\n",
              "      <td>1.32261</td>\n",
              "      <td>0.90563</td>\n",
              "      <td>0.63297</td>\n",
              "      <td>0.32957</td>\n",
              "      <td>0.45811</td>\n",
              "      <td>2015</td>\n",
              "    </tr>\n",
              "    <tr>\n",
              "      <th>...</th>\n",
              "      <td>...</td>\n",
              "      <td>...</td>\n",
              "      <td>...</td>\n",
              "      <td>...</td>\n",
              "      <td>...</td>\n",
              "      <td>...</td>\n",
              "      <td>...</td>\n",
              "      <td>...</td>\n",
              "      <td>...</td>\n",
              "      <td>...</td>\n",
              "    </tr>\n",
              "    <tr>\n",
              "      <th>151</th>\n",
              "      <td>Rwanda</td>\n",
              "      <td>152</td>\n",
              "      <td>3.334</td>\n",
              "      <td>0.35900</td>\n",
              "      <td>0.71100</td>\n",
              "      <td>0.61400</td>\n",
              "      <td>0.55500</td>\n",
              "      <td>0.41100</td>\n",
              "      <td>0.21700</td>\n",
              "      <td>2019</td>\n",
              "    </tr>\n",
              "    <tr>\n",
              "      <th>152</th>\n",
              "      <td>Tanzania</td>\n",
              "      <td>153</td>\n",
              "      <td>3.231</td>\n",
              "      <td>0.47600</td>\n",
              "      <td>0.88500</td>\n",
              "      <td>0.49900</td>\n",
              "      <td>0.41700</td>\n",
              "      <td>0.14700</td>\n",
              "      <td>0.27600</td>\n",
              "      <td>2019</td>\n",
              "    </tr>\n",
              "    <tr>\n",
              "      <th>153</th>\n",
              "      <td>Afghanistan</td>\n",
              "      <td>154</td>\n",
              "      <td>3.203</td>\n",
              "      <td>0.35000</td>\n",
              "      <td>0.51700</td>\n",
              "      <td>0.36100</td>\n",
              "      <td>0.00000</td>\n",
              "      <td>0.02500</td>\n",
              "      <td>0.15800</td>\n",
              "      <td>2019</td>\n",
              "    </tr>\n",
              "    <tr>\n",
              "      <th>154</th>\n",
              "      <td>Central African Republic</td>\n",
              "      <td>155</td>\n",
              "      <td>3.083</td>\n",
              "      <td>0.02600</td>\n",
              "      <td>0.00000</td>\n",
              "      <td>0.10500</td>\n",
              "      <td>0.22500</td>\n",
              "      <td>0.03500</td>\n",
              "      <td>0.23500</td>\n",
              "      <td>2019</td>\n",
              "    </tr>\n",
              "    <tr>\n",
              "      <th>155</th>\n",
              "      <td>South Sudan</td>\n",
              "      <td>156</td>\n",
              "      <td>2.853</td>\n",
              "      <td>0.30600</td>\n",
              "      <td>0.57500</td>\n",
              "      <td>0.29500</td>\n",
              "      <td>0.01000</td>\n",
              "      <td>0.09100</td>\n",
              "      <td>0.20200</td>\n",
              "      <td>2019</td>\n",
              "    </tr>\n",
              "  </tbody>\n",
              "</table>\n",
              "<p>782 rows × 10 columns</p>\n",
              "</div>\n",
              "      <button class=\"colab-df-convert\" onclick=\"convertToInteractive('df-b079fe5d-0817-4a18-9a3a-d7c17f5c26a8')\"\n",
              "              title=\"Convert this dataframe to an interactive table.\"\n",
              "              style=\"display:none;\">\n",
              "        \n",
              "  <svg xmlns=\"http://www.w3.org/2000/svg\" height=\"24px\"viewBox=\"0 0 24 24\"\n",
              "       width=\"24px\">\n",
              "    <path d=\"M0 0h24v24H0V0z\" fill=\"none\"/>\n",
              "    <path d=\"M18.56 5.44l.94 2.06.94-2.06 2.06-.94-2.06-.94-.94-2.06-.94 2.06-2.06.94zm-11 1L8.5 8.5l.94-2.06 2.06-.94-2.06-.94L8.5 2.5l-.94 2.06-2.06.94zm10 10l.94 2.06.94-2.06 2.06-.94-2.06-.94-.94-2.06-.94 2.06-2.06.94z\"/><path d=\"M17.41 7.96l-1.37-1.37c-.4-.4-.92-.59-1.43-.59-.52 0-1.04.2-1.43.59L10.3 9.45l-7.72 7.72c-.78.78-.78 2.05 0 2.83L4 21.41c.39.39.9.59 1.41.59.51 0 1.02-.2 1.41-.59l7.78-7.78 2.81-2.81c.8-.78.8-2.07 0-2.86zM5.41 20L4 18.59l7.72-7.72 1.47 1.35L5.41 20z\"/>\n",
              "  </svg>\n",
              "      </button>\n",
              "      \n",
              "  <style>\n",
              "    .colab-df-container {\n",
              "      display:flex;\n",
              "      flex-wrap:wrap;\n",
              "      gap: 12px;\n",
              "    }\n",
              "\n",
              "    .colab-df-convert {\n",
              "      background-color: #E8F0FE;\n",
              "      border: none;\n",
              "      border-radius: 50%;\n",
              "      cursor: pointer;\n",
              "      display: none;\n",
              "      fill: #1967D2;\n",
              "      height: 32px;\n",
              "      padding: 0 0 0 0;\n",
              "      width: 32px;\n",
              "    }\n",
              "\n",
              "    .colab-df-convert:hover {\n",
              "      background-color: #E2EBFA;\n",
              "      box-shadow: 0px 1px 2px rgba(60, 64, 67, 0.3), 0px 1px 3px 1px rgba(60, 64, 67, 0.15);\n",
              "      fill: #174EA6;\n",
              "    }\n",
              "\n",
              "    [theme=dark] .colab-df-convert {\n",
              "      background-color: #3B4455;\n",
              "      fill: #D2E3FC;\n",
              "    }\n",
              "\n",
              "    [theme=dark] .colab-df-convert:hover {\n",
              "      background-color: #434B5C;\n",
              "      box-shadow: 0px 1px 3px 1px rgba(0, 0, 0, 0.15);\n",
              "      filter: drop-shadow(0px 1px 2px rgba(0, 0, 0, 0.3));\n",
              "      fill: #FFFFFF;\n",
              "    }\n",
              "  </style>\n",
              "\n",
              "      <script>\n",
              "        const buttonEl =\n",
              "          document.querySelector('#df-b079fe5d-0817-4a18-9a3a-d7c17f5c26a8 button.colab-df-convert');\n",
              "        buttonEl.style.display =\n",
              "          google.colab.kernel.accessAllowed ? 'block' : 'none';\n",
              "\n",
              "        async function convertToInteractive(key) {\n",
              "          const element = document.querySelector('#df-b079fe5d-0817-4a18-9a3a-d7c17f5c26a8');\n",
              "          const dataTable =\n",
              "            await google.colab.kernel.invokeFunction('convertToInteractive',\n",
              "                                                     [key], {});\n",
              "          if (!dataTable) return;\n",
              "\n",
              "          const docLinkHtml = 'Like what you see? Visit the ' +\n",
              "            '<a target=\"_blank\" href=https://colab.research.google.com/notebooks/data_table.ipynb>data table notebook</a>'\n",
              "            + ' to learn more about interactive tables.';\n",
              "          element.innerHTML = '';\n",
              "          dataTable['output_type'] = 'display_data';\n",
              "          await google.colab.output.renderOutput(dataTable, element);\n",
              "          const docLink = document.createElement('div');\n",
              "          docLink.innerHTML = docLinkHtml;\n",
              "          element.appendChild(docLink);\n",
              "        }\n",
              "      </script>\n",
              "    </div>\n",
              "  </div>\n",
              "  "
            ]
          },
          "metadata": {},
          "execution_count": 7
        }
      ]
    },
    {
      "cell_type": "code",
      "source": [
        "# Once we have all the data in a single set,\n",
        "# Clean the data\n",
        "\n",
        "# Confirm there are no duplicates in the data set\n",
        "happiness.duplicated().any()"
      ],
      "metadata": {
        "id": "Uo8DNDcJ4sKj",
        "colab": {
          "base_uri": "https://localhost:8080/"
        },
        "outputId": "f046f66a-c97a-4c56-aa65-acea7000625e"
      },
      "id": "Uo8DNDcJ4sKj",
      "execution_count": null,
      "outputs": [
        {
          "output_type": "execute_result",
          "data": {
            "text/plain": [
              "False"
            ]
          },
          "metadata": {},
          "execution_count": 4199
        }
      ]
    },
    {
      "cell_type": "code",
      "source": [
        "# Check missing values in the data.\n",
        "happiness.isna().sum()"
      ],
      "metadata": {
        "id": "9EYYc010QaTL",
        "colab": {
          "base_uri": "https://localhost:8080/"
        },
        "outputId": "378a7bed-b1aa-49ec-e85c-a56374fc19cf"
      },
      "id": "9EYYc010QaTL",
      "execution_count": null,
      "outputs": [
        {
          "output_type": "execute_result",
          "data": {
            "text/plain": [
              "Country                  0\n",
              "Rank                     0\n",
              "Score                    0\n",
              "GDP per Capita           0\n",
              "Family/Social Support    0\n",
              "Life Expectancy          0\n",
              "Freedom                  0\n",
              "Corruption               1\n",
              "Generosity               0\n",
              "Year                     0\n",
              "dtype: int64"
            ]
          },
          "metadata": {},
          "execution_count": 4200
        }
      ]
    },
    {
      "cell_type": "code",
      "source": [
        "# Check the missing value of corruption\n",
        "happiness[happiness.Corruption.isna()]"
      ],
      "metadata": {
        "id": "eonvUC8yQhUn",
        "colab": {
          "base_uri": "https://localhost:8080/",
          "height": 80
        },
        "outputId": "75902aeb-9b31-4143-a25b-acdaf921b5e2"
      },
      "id": "eonvUC8yQhUn",
      "execution_count": null,
      "outputs": [
        {
          "output_type": "execute_result",
          "data": {
            "text/plain": [
              "                 Country  Rank  Score  GDP per Capita  Family/Social Support  \\\n",
              "19  United Arab Emirates    20  6.774           2.096                  0.776   \n",
              "\n",
              "    Life Expectancy  Freedom  Corruption  Generosity  Year  \n",
              "19             0.67    0.284         NaN       0.186  2018  "
            ],
            "text/html": [
              "\n",
              "  <div id=\"df-2045543e-aa3d-4250-829b-6e36bf88c3a5\">\n",
              "    <div class=\"colab-df-container\">\n",
              "      <div>\n",
              "<style scoped>\n",
              "    .dataframe tbody tr th:only-of-type {\n",
              "        vertical-align: middle;\n",
              "    }\n",
              "\n",
              "    .dataframe tbody tr th {\n",
              "        vertical-align: top;\n",
              "    }\n",
              "\n",
              "    .dataframe thead th {\n",
              "        text-align: right;\n",
              "    }\n",
              "</style>\n",
              "<table border=\"1\" class=\"dataframe\">\n",
              "  <thead>\n",
              "    <tr style=\"text-align: right;\">\n",
              "      <th></th>\n",
              "      <th>Country</th>\n",
              "      <th>Rank</th>\n",
              "      <th>Score</th>\n",
              "      <th>GDP per Capita</th>\n",
              "      <th>Family/Social Support</th>\n",
              "      <th>Life Expectancy</th>\n",
              "      <th>Freedom</th>\n",
              "      <th>Corruption</th>\n",
              "      <th>Generosity</th>\n",
              "      <th>Year</th>\n",
              "    </tr>\n",
              "  </thead>\n",
              "  <tbody>\n",
              "    <tr>\n",
              "      <th>19</th>\n",
              "      <td>United Arab Emirates</td>\n",
              "      <td>20</td>\n",
              "      <td>6.774</td>\n",
              "      <td>2.096</td>\n",
              "      <td>0.776</td>\n",
              "      <td>0.67</td>\n",
              "      <td>0.284</td>\n",
              "      <td>NaN</td>\n",
              "      <td>0.186</td>\n",
              "      <td>2018</td>\n",
              "    </tr>\n",
              "  </tbody>\n",
              "</table>\n",
              "</div>\n",
              "      <button class=\"colab-df-convert\" onclick=\"convertToInteractive('df-2045543e-aa3d-4250-829b-6e36bf88c3a5')\"\n",
              "              title=\"Convert this dataframe to an interactive table.\"\n",
              "              style=\"display:none;\">\n",
              "        \n",
              "  <svg xmlns=\"http://www.w3.org/2000/svg\" height=\"24px\"viewBox=\"0 0 24 24\"\n",
              "       width=\"24px\">\n",
              "    <path d=\"M0 0h24v24H0V0z\" fill=\"none\"/>\n",
              "    <path d=\"M18.56 5.44l.94 2.06.94-2.06 2.06-.94-2.06-.94-.94-2.06-.94 2.06-2.06.94zm-11 1L8.5 8.5l.94-2.06 2.06-.94-2.06-.94L8.5 2.5l-.94 2.06-2.06.94zm10 10l.94 2.06.94-2.06 2.06-.94-2.06-.94-.94-2.06-.94 2.06-2.06.94z\"/><path d=\"M17.41 7.96l-1.37-1.37c-.4-.4-.92-.59-1.43-.59-.52 0-1.04.2-1.43.59L10.3 9.45l-7.72 7.72c-.78.78-.78 2.05 0 2.83L4 21.41c.39.39.9.59 1.41.59.51 0 1.02-.2 1.41-.59l7.78-7.78 2.81-2.81c.8-.78.8-2.07 0-2.86zM5.41 20L4 18.59l7.72-7.72 1.47 1.35L5.41 20z\"/>\n",
              "  </svg>\n",
              "      </button>\n",
              "      \n",
              "  <style>\n",
              "    .colab-df-container {\n",
              "      display:flex;\n",
              "      flex-wrap:wrap;\n",
              "      gap: 12px;\n",
              "    }\n",
              "\n",
              "    .colab-df-convert {\n",
              "      background-color: #E8F0FE;\n",
              "      border: none;\n",
              "      border-radius: 50%;\n",
              "      cursor: pointer;\n",
              "      display: none;\n",
              "      fill: #1967D2;\n",
              "      height: 32px;\n",
              "      padding: 0 0 0 0;\n",
              "      width: 32px;\n",
              "    }\n",
              "\n",
              "    .colab-df-convert:hover {\n",
              "      background-color: #E2EBFA;\n",
              "      box-shadow: 0px 1px 2px rgba(60, 64, 67, 0.3), 0px 1px 3px 1px rgba(60, 64, 67, 0.15);\n",
              "      fill: #174EA6;\n",
              "    }\n",
              "\n",
              "    [theme=dark] .colab-df-convert {\n",
              "      background-color: #3B4455;\n",
              "      fill: #D2E3FC;\n",
              "    }\n",
              "\n",
              "    [theme=dark] .colab-df-convert:hover {\n",
              "      background-color: #434B5C;\n",
              "      box-shadow: 0px 1px 3px 1px rgba(0, 0, 0, 0.15);\n",
              "      filter: drop-shadow(0px 1px 2px rgba(0, 0, 0, 0.3));\n",
              "      fill: #FFFFFF;\n",
              "    }\n",
              "  </style>\n",
              "\n",
              "      <script>\n",
              "        const buttonEl =\n",
              "          document.querySelector('#df-2045543e-aa3d-4250-829b-6e36bf88c3a5 button.colab-df-convert');\n",
              "        buttonEl.style.display =\n",
              "          google.colab.kernel.accessAllowed ? 'block' : 'none';\n",
              "\n",
              "        async function convertToInteractive(key) {\n",
              "          const element = document.querySelector('#df-2045543e-aa3d-4250-829b-6e36bf88c3a5');\n",
              "          const dataTable =\n",
              "            await google.colab.kernel.invokeFunction('convertToInteractive',\n",
              "                                                     [key], {});\n",
              "          if (!dataTable) return;\n",
              "\n",
              "          const docLinkHtml = 'Like what you see? Visit the ' +\n",
              "            '<a target=\"_blank\" href=https://colab.research.google.com/notebooks/data_table.ipynb>data table notebook</a>'\n",
              "            + ' to learn more about interactive tables.';\n",
              "          element.innerHTML = '';\n",
              "          dataTable['output_type'] = 'display_data';\n",
              "          await google.colab.output.renderOutput(dataTable, element);\n",
              "          const docLink = document.createElement('div');\n",
              "          docLink.innerHTML = docLinkHtml;\n",
              "          element.appendChild(docLink);\n",
              "        }\n",
              "      </script>\n",
              "    </div>\n",
              "  </div>\n",
              "  "
            ]
          },
          "metadata": {},
          "execution_count": 4201
        }
      ]
    },
    {
      "cell_type": "code",
      "source": [
        "# Mean imputation\n",
        "# Replace NaN with mean corruption for United Arab Emirates\n",
        "mean_corrup = happiness[happiness.Country == 'United Arab Emirates'].Corruption.mean()\n",
        "\n",
        "happiness[\"Corruption\"].fillna(mean_corrup, inplace = True)\n",
        "happiness[(happiness.Country == 'United Arab Emirates') & (happiness.Year == 2018)]"
      ],
      "metadata": {
        "id": "ZZ83HB3Tq9DW",
        "colab": {
          "base_uri": "https://localhost:8080/",
          "height": 80
        },
        "outputId": "1c4c2e03-9e5b-431e-e931-3d8eaddcb1af"
      },
      "id": "ZZ83HB3Tq9DW",
      "execution_count": null,
      "outputs": [
        {
          "output_type": "execute_result",
          "data": {
            "text/plain": [
              "                 Country  Rank  Score  GDP per Capita  Family/Social Support  \\\n",
              "19  United Arab Emirates    20  6.774           2.096                  0.776   \n",
              "\n",
              "    Life Expectancy  Freedom  Corruption  Generosity  Year  \n",
              "19             0.67    0.284    0.311982       0.186  2018  "
            ],
            "text/html": [
              "\n",
              "  <div id=\"df-4012222b-70b2-4066-912b-f56b83887057\">\n",
              "    <div class=\"colab-df-container\">\n",
              "      <div>\n",
              "<style scoped>\n",
              "    .dataframe tbody tr th:only-of-type {\n",
              "        vertical-align: middle;\n",
              "    }\n",
              "\n",
              "    .dataframe tbody tr th {\n",
              "        vertical-align: top;\n",
              "    }\n",
              "\n",
              "    .dataframe thead th {\n",
              "        text-align: right;\n",
              "    }\n",
              "</style>\n",
              "<table border=\"1\" class=\"dataframe\">\n",
              "  <thead>\n",
              "    <tr style=\"text-align: right;\">\n",
              "      <th></th>\n",
              "      <th>Country</th>\n",
              "      <th>Rank</th>\n",
              "      <th>Score</th>\n",
              "      <th>GDP per Capita</th>\n",
              "      <th>Family/Social Support</th>\n",
              "      <th>Life Expectancy</th>\n",
              "      <th>Freedom</th>\n",
              "      <th>Corruption</th>\n",
              "      <th>Generosity</th>\n",
              "      <th>Year</th>\n",
              "    </tr>\n",
              "  </thead>\n",
              "  <tbody>\n",
              "    <tr>\n",
              "      <th>19</th>\n",
              "      <td>United Arab Emirates</td>\n",
              "      <td>20</td>\n",
              "      <td>6.774</td>\n",
              "      <td>2.096</td>\n",
              "      <td>0.776</td>\n",
              "      <td>0.67</td>\n",
              "      <td>0.284</td>\n",
              "      <td>0.311982</td>\n",
              "      <td>0.186</td>\n",
              "      <td>2018</td>\n",
              "    </tr>\n",
              "  </tbody>\n",
              "</table>\n",
              "</div>\n",
              "      <button class=\"colab-df-convert\" onclick=\"convertToInteractive('df-4012222b-70b2-4066-912b-f56b83887057')\"\n",
              "              title=\"Convert this dataframe to an interactive table.\"\n",
              "              style=\"display:none;\">\n",
              "        \n",
              "  <svg xmlns=\"http://www.w3.org/2000/svg\" height=\"24px\"viewBox=\"0 0 24 24\"\n",
              "       width=\"24px\">\n",
              "    <path d=\"M0 0h24v24H0V0z\" fill=\"none\"/>\n",
              "    <path d=\"M18.56 5.44l.94 2.06.94-2.06 2.06-.94-2.06-.94-.94-2.06-.94 2.06-2.06.94zm-11 1L8.5 8.5l.94-2.06 2.06-.94-2.06-.94L8.5 2.5l-.94 2.06-2.06.94zm10 10l.94 2.06.94-2.06 2.06-.94-2.06-.94-.94-2.06-.94 2.06-2.06.94z\"/><path d=\"M17.41 7.96l-1.37-1.37c-.4-.4-.92-.59-1.43-.59-.52 0-1.04.2-1.43.59L10.3 9.45l-7.72 7.72c-.78.78-.78 2.05 0 2.83L4 21.41c.39.39.9.59 1.41.59.51 0 1.02-.2 1.41-.59l7.78-7.78 2.81-2.81c.8-.78.8-2.07 0-2.86zM5.41 20L4 18.59l7.72-7.72 1.47 1.35L5.41 20z\"/>\n",
              "  </svg>\n",
              "      </button>\n",
              "      \n",
              "  <style>\n",
              "    .colab-df-container {\n",
              "      display:flex;\n",
              "      flex-wrap:wrap;\n",
              "      gap: 12px;\n",
              "    }\n",
              "\n",
              "    .colab-df-convert {\n",
              "      background-color: #E8F0FE;\n",
              "      border: none;\n",
              "      border-radius: 50%;\n",
              "      cursor: pointer;\n",
              "      display: none;\n",
              "      fill: #1967D2;\n",
              "      height: 32px;\n",
              "      padding: 0 0 0 0;\n",
              "      width: 32px;\n",
              "    }\n",
              "\n",
              "    .colab-df-convert:hover {\n",
              "      background-color: #E2EBFA;\n",
              "      box-shadow: 0px 1px 2px rgba(60, 64, 67, 0.3), 0px 1px 3px 1px rgba(60, 64, 67, 0.15);\n",
              "      fill: #174EA6;\n",
              "    }\n",
              "\n",
              "    [theme=dark] .colab-df-convert {\n",
              "      background-color: #3B4455;\n",
              "      fill: #D2E3FC;\n",
              "    }\n",
              "\n",
              "    [theme=dark] .colab-df-convert:hover {\n",
              "      background-color: #434B5C;\n",
              "      box-shadow: 0px 1px 3px 1px rgba(0, 0, 0, 0.15);\n",
              "      filter: drop-shadow(0px 1px 2px rgba(0, 0, 0, 0.3));\n",
              "      fill: #FFFFFF;\n",
              "    }\n",
              "  </style>\n",
              "\n",
              "      <script>\n",
              "        const buttonEl =\n",
              "          document.querySelector('#df-4012222b-70b2-4066-912b-f56b83887057 button.colab-df-convert');\n",
              "        buttonEl.style.display =\n",
              "          google.colab.kernel.accessAllowed ? 'block' : 'none';\n",
              "\n",
              "        async function convertToInteractive(key) {\n",
              "          const element = document.querySelector('#df-4012222b-70b2-4066-912b-f56b83887057');\n",
              "          const dataTable =\n",
              "            await google.colab.kernel.invokeFunction('convertToInteractive',\n",
              "                                                     [key], {});\n",
              "          if (!dataTable) return;\n",
              "\n",
              "          const docLinkHtml = 'Like what you see? Visit the ' +\n",
              "            '<a target=\"_blank\" href=https://colab.research.google.com/notebooks/data_table.ipynb>data table notebook</a>'\n",
              "            + ' to learn more about interactive tables.';\n",
              "          element.innerHTML = '';\n",
              "          dataTable['output_type'] = 'display_data';\n",
              "          await google.colab.output.renderOutput(dataTable, element);\n",
              "          const docLink = document.createElement('div');\n",
              "          docLink.innerHTML = docLinkHtml;\n",
              "          element.appendChild(docLink);\n",
              "        }\n",
              "      </script>\n",
              "    </div>\n",
              "  </div>\n",
              "  "
            ]
          },
          "metadata": {},
          "execution_count": 8
        }
      ]
    },
    {
      "cell_type": "code",
      "source": [
        "# Double check no null values anymore\n",
        "happiness.isna().sum()"
      ],
      "metadata": {
        "id": "z7HFQ56xsZdl",
        "colab": {
          "base_uri": "https://localhost:8080/"
        },
        "outputId": "29efcb7c-77ec-4a3c-803e-fe1d69af1931"
      },
      "id": "z7HFQ56xsZdl",
      "execution_count": null,
      "outputs": [
        {
          "output_type": "execute_result",
          "data": {
            "text/plain": [
              "Country                  0\n",
              "Rank                     0\n",
              "Score                    0\n",
              "GDP per Capita           0\n",
              "Family/Social Support    0\n",
              "Life Expectancy          0\n",
              "Freedom                  0\n",
              "Corruption               0\n",
              "Generosity               0\n",
              "Year                     0\n",
              "dtype: int64"
            ]
          },
          "metadata": {},
          "execution_count": 4203
        }
      ]
    },
    {
      "cell_type": "markdown",
      "source": [
        "## **Central Tendencies of happiness score over the years?  (Task 2)**\n",
        "### Did they increase or decrease?\n",
        "### By Iman Ali"
      ],
      "metadata": {
        "id": "1g5XqgMttwuP"
      },
      "id": "1g5XqgMttwuP"
    },
    {
      "cell_type": "code",
      "source": [
        "# Generate descriptive statistics of happiness score overall\n",
        "happiness[['Score']].describe()"
      ],
      "metadata": {
        "id": "jiGvBuKgu91x",
        "colab": {
          "base_uri": "https://localhost:8080/",
          "height": 300
        },
        "outputId": "b1abec55-9da7-4451-d46f-b0a05b9090c2"
      },
      "id": "jiGvBuKgu91x",
      "execution_count": null,
      "outputs": [
        {
          "output_type": "execute_result",
          "data": {
            "text/plain": [
              "            Score\n",
              "count  782.000000\n",
              "mean     5.379018\n",
              "std      1.127456\n",
              "min      2.693000\n",
              "25%      4.509750\n",
              "50%      5.322000\n",
              "75%      6.189500\n",
              "max      7.769000"
            ],
            "text/html": [
              "\n",
              "  <div id=\"df-f9ef127c-7b72-4abd-9b49-a907af17b72f\">\n",
              "    <div class=\"colab-df-container\">\n",
              "      <div>\n",
              "<style scoped>\n",
              "    .dataframe tbody tr th:only-of-type {\n",
              "        vertical-align: middle;\n",
              "    }\n",
              "\n",
              "    .dataframe tbody tr th {\n",
              "        vertical-align: top;\n",
              "    }\n",
              "\n",
              "    .dataframe thead th {\n",
              "        text-align: right;\n",
              "    }\n",
              "</style>\n",
              "<table border=\"1\" class=\"dataframe\">\n",
              "  <thead>\n",
              "    <tr style=\"text-align: right;\">\n",
              "      <th></th>\n",
              "      <th>Score</th>\n",
              "    </tr>\n",
              "  </thead>\n",
              "  <tbody>\n",
              "    <tr>\n",
              "      <th>count</th>\n",
              "      <td>782.000000</td>\n",
              "    </tr>\n",
              "    <tr>\n",
              "      <th>mean</th>\n",
              "      <td>5.379018</td>\n",
              "    </tr>\n",
              "    <tr>\n",
              "      <th>std</th>\n",
              "      <td>1.127456</td>\n",
              "    </tr>\n",
              "    <tr>\n",
              "      <th>min</th>\n",
              "      <td>2.693000</td>\n",
              "    </tr>\n",
              "    <tr>\n",
              "      <th>25%</th>\n",
              "      <td>4.509750</td>\n",
              "    </tr>\n",
              "    <tr>\n",
              "      <th>50%</th>\n",
              "      <td>5.322000</td>\n",
              "    </tr>\n",
              "    <tr>\n",
              "      <th>75%</th>\n",
              "      <td>6.189500</td>\n",
              "    </tr>\n",
              "    <tr>\n",
              "      <th>max</th>\n",
              "      <td>7.769000</td>\n",
              "    </tr>\n",
              "  </tbody>\n",
              "</table>\n",
              "</div>\n",
              "      <button class=\"colab-df-convert\" onclick=\"convertToInteractive('df-f9ef127c-7b72-4abd-9b49-a907af17b72f')\"\n",
              "              title=\"Convert this dataframe to an interactive table.\"\n",
              "              style=\"display:none;\">\n",
              "        \n",
              "  <svg xmlns=\"http://www.w3.org/2000/svg\" height=\"24px\"viewBox=\"0 0 24 24\"\n",
              "       width=\"24px\">\n",
              "    <path d=\"M0 0h24v24H0V0z\" fill=\"none\"/>\n",
              "    <path d=\"M18.56 5.44l.94 2.06.94-2.06 2.06-.94-2.06-.94-.94-2.06-.94 2.06-2.06.94zm-11 1L8.5 8.5l.94-2.06 2.06-.94-2.06-.94L8.5 2.5l-.94 2.06-2.06.94zm10 10l.94 2.06.94-2.06 2.06-.94-2.06-.94-.94-2.06-.94 2.06-2.06.94z\"/><path d=\"M17.41 7.96l-1.37-1.37c-.4-.4-.92-.59-1.43-.59-.52 0-1.04.2-1.43.59L10.3 9.45l-7.72 7.72c-.78.78-.78 2.05 0 2.83L4 21.41c.39.39.9.59 1.41.59.51 0 1.02-.2 1.41-.59l7.78-7.78 2.81-2.81c.8-.78.8-2.07 0-2.86zM5.41 20L4 18.59l7.72-7.72 1.47 1.35L5.41 20z\"/>\n",
              "  </svg>\n",
              "      </button>\n",
              "      \n",
              "  <style>\n",
              "    .colab-df-container {\n",
              "      display:flex;\n",
              "      flex-wrap:wrap;\n",
              "      gap: 12px;\n",
              "    }\n",
              "\n",
              "    .colab-df-convert {\n",
              "      background-color: #E8F0FE;\n",
              "      border: none;\n",
              "      border-radius: 50%;\n",
              "      cursor: pointer;\n",
              "      display: none;\n",
              "      fill: #1967D2;\n",
              "      height: 32px;\n",
              "      padding: 0 0 0 0;\n",
              "      width: 32px;\n",
              "    }\n",
              "\n",
              "    .colab-df-convert:hover {\n",
              "      background-color: #E2EBFA;\n",
              "      box-shadow: 0px 1px 2px rgba(60, 64, 67, 0.3), 0px 1px 3px 1px rgba(60, 64, 67, 0.15);\n",
              "      fill: #174EA6;\n",
              "    }\n",
              "\n",
              "    [theme=dark] .colab-df-convert {\n",
              "      background-color: #3B4455;\n",
              "      fill: #D2E3FC;\n",
              "    }\n",
              "\n",
              "    [theme=dark] .colab-df-convert:hover {\n",
              "      background-color: #434B5C;\n",
              "      box-shadow: 0px 1px 3px 1px rgba(0, 0, 0, 0.15);\n",
              "      filter: drop-shadow(0px 1px 2px rgba(0, 0, 0, 0.3));\n",
              "      fill: #FFFFFF;\n",
              "    }\n",
              "  </style>\n",
              "\n",
              "      <script>\n",
              "        const buttonEl =\n",
              "          document.querySelector('#df-f9ef127c-7b72-4abd-9b49-a907af17b72f button.colab-df-convert');\n",
              "        buttonEl.style.display =\n",
              "          google.colab.kernel.accessAllowed ? 'block' : 'none';\n",
              "\n",
              "        async function convertToInteractive(key) {\n",
              "          const element = document.querySelector('#df-f9ef127c-7b72-4abd-9b49-a907af17b72f');\n",
              "          const dataTable =\n",
              "            await google.colab.kernel.invokeFunction('convertToInteractive',\n",
              "                                                     [key], {});\n",
              "          if (!dataTable) return;\n",
              "\n",
              "          const docLinkHtml = 'Like what you see? Visit the ' +\n",
              "            '<a target=\"_blank\" href=https://colab.research.google.com/notebooks/data_table.ipynb>data table notebook</a>'\n",
              "            + ' to learn more about interactive tables.';\n",
              "          element.innerHTML = '';\n",
              "          dataTable['output_type'] = 'display_data';\n",
              "          await google.colab.output.renderOutput(dataTable, element);\n",
              "          const docLink = document.createElement('div');\n",
              "          docLink.innerHTML = docLinkHtml;\n",
              "          element.appendChild(docLink);\n",
              "        }\n",
              "      </script>\n",
              "    </div>\n",
              "  </div>\n",
              "  "
            ]
          },
          "metadata": {},
          "execution_count": 4204
        }
      ]
    },
    {
      "cell_type": "code",
      "source": [
        "# Generate descriptive statistics of happiness score each year\n",
        "happinessYearly = happiness.groupby('Year')\n",
        "happinessYearly['Score'].describe()"
      ],
      "metadata": {
        "id": "tcbKuTkrwcuN",
        "colab": {
          "base_uri": "https://localhost:8080/",
          "height": 235
        },
        "outputId": "7283c5a9-b984-45b4-dadc-ed1e20d416d6"
      },
      "id": "tcbKuTkrwcuN",
      "execution_count": null,
      "outputs": [
        {
          "output_type": "execute_result",
          "data": {
            "text/plain": [
              "      count      mean       std    min      25%     50%      75%    max\n",
              "Year                                                                   \n",
              "2015  158.0  5.375734  1.145010  2.839  4.52600  5.2325  6.24375  7.587\n",
              "2016  157.0  5.382185  1.141674  2.905  4.40400  5.3140  6.26900  7.526\n",
              "2017  155.0  5.354019  1.131230  2.693  4.50550  5.2790  6.10150  7.537\n",
              "2018  156.0  5.375917  1.119506  2.905  4.45375  5.3780  6.16850  7.632\n",
              "2019  156.0  5.407096  1.113120  2.853  4.54450  5.3795  6.18450  7.769"
            ],
            "text/html": [
              "\n",
              "  <div id=\"df-8b9948b5-d7b6-48a8-81d5-7700022e6380\">\n",
              "    <div class=\"colab-df-container\">\n",
              "      <div>\n",
              "<style scoped>\n",
              "    .dataframe tbody tr th:only-of-type {\n",
              "        vertical-align: middle;\n",
              "    }\n",
              "\n",
              "    .dataframe tbody tr th {\n",
              "        vertical-align: top;\n",
              "    }\n",
              "\n",
              "    .dataframe thead th {\n",
              "        text-align: right;\n",
              "    }\n",
              "</style>\n",
              "<table border=\"1\" class=\"dataframe\">\n",
              "  <thead>\n",
              "    <tr style=\"text-align: right;\">\n",
              "      <th></th>\n",
              "      <th>count</th>\n",
              "      <th>mean</th>\n",
              "      <th>std</th>\n",
              "      <th>min</th>\n",
              "      <th>25%</th>\n",
              "      <th>50%</th>\n",
              "      <th>75%</th>\n",
              "      <th>max</th>\n",
              "    </tr>\n",
              "    <tr>\n",
              "      <th>Year</th>\n",
              "      <th></th>\n",
              "      <th></th>\n",
              "      <th></th>\n",
              "      <th></th>\n",
              "      <th></th>\n",
              "      <th></th>\n",
              "      <th></th>\n",
              "      <th></th>\n",
              "    </tr>\n",
              "  </thead>\n",
              "  <tbody>\n",
              "    <tr>\n",
              "      <th>2015</th>\n",
              "      <td>158.0</td>\n",
              "      <td>5.375734</td>\n",
              "      <td>1.145010</td>\n",
              "      <td>2.839</td>\n",
              "      <td>4.52600</td>\n",
              "      <td>5.2325</td>\n",
              "      <td>6.24375</td>\n",
              "      <td>7.587</td>\n",
              "    </tr>\n",
              "    <tr>\n",
              "      <th>2016</th>\n",
              "      <td>157.0</td>\n",
              "      <td>5.382185</td>\n",
              "      <td>1.141674</td>\n",
              "      <td>2.905</td>\n",
              "      <td>4.40400</td>\n",
              "      <td>5.3140</td>\n",
              "      <td>6.26900</td>\n",
              "      <td>7.526</td>\n",
              "    </tr>\n",
              "    <tr>\n",
              "      <th>2017</th>\n",
              "      <td>155.0</td>\n",
              "      <td>5.354019</td>\n",
              "      <td>1.131230</td>\n",
              "      <td>2.693</td>\n",
              "      <td>4.50550</td>\n",
              "      <td>5.2790</td>\n",
              "      <td>6.10150</td>\n",
              "      <td>7.537</td>\n",
              "    </tr>\n",
              "    <tr>\n",
              "      <th>2018</th>\n",
              "      <td>156.0</td>\n",
              "      <td>5.375917</td>\n",
              "      <td>1.119506</td>\n",
              "      <td>2.905</td>\n",
              "      <td>4.45375</td>\n",
              "      <td>5.3780</td>\n",
              "      <td>6.16850</td>\n",
              "      <td>7.632</td>\n",
              "    </tr>\n",
              "    <tr>\n",
              "      <th>2019</th>\n",
              "      <td>156.0</td>\n",
              "      <td>5.407096</td>\n",
              "      <td>1.113120</td>\n",
              "      <td>2.853</td>\n",
              "      <td>4.54450</td>\n",
              "      <td>5.3795</td>\n",
              "      <td>6.18450</td>\n",
              "      <td>7.769</td>\n",
              "    </tr>\n",
              "  </tbody>\n",
              "</table>\n",
              "</div>\n",
              "      <button class=\"colab-df-convert\" onclick=\"convertToInteractive('df-8b9948b5-d7b6-48a8-81d5-7700022e6380')\"\n",
              "              title=\"Convert this dataframe to an interactive table.\"\n",
              "              style=\"display:none;\">\n",
              "        \n",
              "  <svg xmlns=\"http://www.w3.org/2000/svg\" height=\"24px\"viewBox=\"0 0 24 24\"\n",
              "       width=\"24px\">\n",
              "    <path d=\"M0 0h24v24H0V0z\" fill=\"none\"/>\n",
              "    <path d=\"M18.56 5.44l.94 2.06.94-2.06 2.06-.94-2.06-.94-.94-2.06-.94 2.06-2.06.94zm-11 1L8.5 8.5l.94-2.06 2.06-.94-2.06-.94L8.5 2.5l-.94 2.06-2.06.94zm10 10l.94 2.06.94-2.06 2.06-.94-2.06-.94-.94-2.06-.94 2.06-2.06.94z\"/><path d=\"M17.41 7.96l-1.37-1.37c-.4-.4-.92-.59-1.43-.59-.52 0-1.04.2-1.43.59L10.3 9.45l-7.72 7.72c-.78.78-.78 2.05 0 2.83L4 21.41c.39.39.9.59 1.41.59.51 0 1.02-.2 1.41-.59l7.78-7.78 2.81-2.81c.8-.78.8-2.07 0-2.86zM5.41 20L4 18.59l7.72-7.72 1.47 1.35L5.41 20z\"/>\n",
              "  </svg>\n",
              "      </button>\n",
              "      \n",
              "  <style>\n",
              "    .colab-df-container {\n",
              "      display:flex;\n",
              "      flex-wrap:wrap;\n",
              "      gap: 12px;\n",
              "    }\n",
              "\n",
              "    .colab-df-convert {\n",
              "      background-color: #E8F0FE;\n",
              "      border: none;\n",
              "      border-radius: 50%;\n",
              "      cursor: pointer;\n",
              "      display: none;\n",
              "      fill: #1967D2;\n",
              "      height: 32px;\n",
              "      padding: 0 0 0 0;\n",
              "      width: 32px;\n",
              "    }\n",
              "\n",
              "    .colab-df-convert:hover {\n",
              "      background-color: #E2EBFA;\n",
              "      box-shadow: 0px 1px 2px rgba(60, 64, 67, 0.3), 0px 1px 3px 1px rgba(60, 64, 67, 0.15);\n",
              "      fill: #174EA6;\n",
              "    }\n",
              "\n",
              "    [theme=dark] .colab-df-convert {\n",
              "      background-color: #3B4455;\n",
              "      fill: #D2E3FC;\n",
              "    }\n",
              "\n",
              "    [theme=dark] .colab-df-convert:hover {\n",
              "      background-color: #434B5C;\n",
              "      box-shadow: 0px 1px 3px 1px rgba(0, 0, 0, 0.15);\n",
              "      filter: drop-shadow(0px 1px 2px rgba(0, 0, 0, 0.3));\n",
              "      fill: #FFFFFF;\n",
              "    }\n",
              "  </style>\n",
              "\n",
              "      <script>\n",
              "        const buttonEl =\n",
              "          document.querySelector('#df-8b9948b5-d7b6-48a8-81d5-7700022e6380 button.colab-df-convert');\n",
              "        buttonEl.style.display =\n",
              "          google.colab.kernel.accessAllowed ? 'block' : 'none';\n",
              "\n",
              "        async function convertToInteractive(key) {\n",
              "          const element = document.querySelector('#df-8b9948b5-d7b6-48a8-81d5-7700022e6380');\n",
              "          const dataTable =\n",
              "            await google.colab.kernel.invokeFunction('convertToInteractive',\n",
              "                                                     [key], {});\n",
              "          if (!dataTable) return;\n",
              "\n",
              "          const docLinkHtml = 'Like what you see? Visit the ' +\n",
              "            '<a target=\"_blank\" href=https://colab.research.google.com/notebooks/data_table.ipynb>data table notebook</a>'\n",
              "            + ' to learn more about interactive tables.';\n",
              "          element.innerHTML = '';\n",
              "          dataTable['output_type'] = 'display_data';\n",
              "          await google.colab.output.renderOutput(dataTable, element);\n",
              "          const docLink = document.createElement('div');\n",
              "          docLink.innerHTML = docLinkHtml;\n",
              "          element.appendChild(docLink);\n",
              "        }\n",
              "      </script>\n",
              "    </div>\n",
              "  </div>\n",
              "  "
            ]
          },
          "metadata": {},
          "execution_count": 9
        }
      ]
    },
    {
      "cell_type": "code",
      "source": [
        "# Yearly mean\n",
        "happinessYearly = happinessYearly['Score'].mean()\n",
        "happinessYearly"
      ],
      "metadata": {
        "id": "R5G0pT000F_8",
        "colab": {
          "base_uri": "https://localhost:8080/"
        },
        "outputId": "4cc20a83-e595-434f-e9b7-25deb899be7c"
      },
      "id": "R5G0pT000F_8",
      "execution_count": null,
      "outputs": [
        {
          "output_type": "execute_result",
          "data": {
            "text/plain": [
              "Year\n",
              "2015    5.375734\n",
              "2016    5.382185\n",
              "2017    5.354019\n",
              "2018    5.375917\n",
              "2019    5.407096\n",
              "Name: Score, dtype: float64"
            ]
          },
          "metadata": {},
          "execution_count": 10
        }
      ]
    },
    {
      "cell_type": "code",
      "source": [
        "# Plotting the trend of happiness score over the years \n",
        "plt.figure(figsize=(10,6))\n",
        "graph = sns.barplot(x=\"Year\", y=\"Score\", data=happiness)\n",
        "plt.title(\"Mean Happiness Score per Year\", fontsize=25);\n",
        "plt.xlabel(\"Year\", fontsize=15)\n",
        "plt.ylabel(\"Happiness Score Mean\", fontsize=15)\n",
        "\n",
        "\n",
        "# Exaggerate the Y axis to show the slight difference in mean values\n",
        "graph.set_ylim(5.3, 5.43)"
      ],
      "metadata": {
        "id": "ygXvlVzTxu4b",
        "colab": {
          "base_uri": "https://localhost:8080/",
          "height": 435
        },
        "outputId": "e234942a-2bad-40a8-d4c7-83e2fc2bfe28"
      },
      "id": "ygXvlVzTxu4b",
      "execution_count": null,
      "outputs": [
        {
          "output_type": "execute_result",
          "data": {
            "text/plain": [
              "(5.3, 5.43)"
            ]
          },
          "metadata": {},
          "execution_count": 11
        },
        {
          "output_type": "display_data",
          "data": {
            "text/plain": [
              "<Figure size 720x432 with 1 Axes>"
            ],
            "image/png": "[encoded data removed]"
          },
          "metadata": {
            "needs_background": "light"
          }
        }
      ]
    },
    {
      "cell_type": "code",
      "source": [
        "# Plot the mean of Score of all countries or regions from 2015 to 2018\n",
        "plt.figure(figsize=(10, 6))\n",
        "plt.plot(happinessYearly, label=\"Mean Happiness score\")\n",
        "\n",
        "plt.title(\"Mean Happiness Score over the years\", fontsize=25)\n",
        "plt.xlabel(\"Year\", fontsize=15)\n",
        "plt.ylabel(\"Happiness Score Mean\", fontsize=15)\n",
        "plt.xticks([2015, 2016, 2017, 2018, 2019])\n",
        "plt.show()"
      ],
      "metadata": {
        "id": "SojTntdH4h5l",
        "colab": {
          "base_uri": "https://localhost:8080/",
          "height": 418
        },
        "outputId": "8a31b153-fa42-41f9-84e7-26ebef31137a"
      },
      "id": "SojTntdH4h5l",
      "execution_count": null,
      "outputs": [
        {
          "output_type": "display_data",
          "data": {
            "text/plain": [
              "<Figure size 720x432 with 1 Axes>"
            ],
            "image/png": "[encoded data removed]"
          },
          "metadata": {
            "needs_background": "light"
          }
        }
      ]
    },
    {
      "cell_type": "code",
      "source": [
        "# Mean seems to increase each year by a very small amount\n",
        "# The only exception is from 2016 to 2017 when the mean happiness\n",
        "# score drops a bit, but then continues increasing again."
      ],
      "metadata": {
        "id": "RjSKwqbf38_5"
      },
      "id": "RjSKwqbf38_5",
      "execution_count": null,
      "outputs": []
    },
    {
      "cell_type": "code",
      "source": [
        "# Yearly median\n",
        "happinessMedian = happiness.groupby('Year')['Score'].median()\n",
        "happinessMedian"
      ],
      "metadata": {
        "id": "H_N-L0nDhERc",
        "colab": {
          "base_uri": "https://localhost:8080/"
        },
        "outputId": "54a2fe21-90a4-4e94-e3ab-f4a42a34a4cc"
      },
      "id": "H_N-L0nDhERc",
      "execution_count": null,
      "outputs": [
        {
          "output_type": "execute_result",
          "data": {
            "text/plain": [
              "Year\n",
              "2015    5.2325\n",
              "2016    5.3140\n",
              "2017    5.2790\n",
              "2018    5.3780\n",
              "2019    5.3795\n",
              "Name: Score, dtype: float64"
            ]
          },
          "metadata": {},
          "execution_count": 13
        }
      ]
    },
    {
      "cell_type": "code",
      "source": [
        "# Plot the median of Score of all countries or regions from 2015 to 2018\n",
        "plt.figure(figsize=(10, 6))\n",
        "graph = sns.barplot([\"2015\", \"2016\", \"2017\", \"2018\", \"2019\"], happinessMedian)\n",
        "\n",
        "# Exaggerate the Y axis to show the slight difference in median values\n",
        "graph.set_ylim(5.10, 5.43)\n",
        "\n",
        "plt.title(\"Median Happiness Score over the years\", fontsize=25)\n",
        "plt.xlabel(\"Year\", fontsize=15)\n",
        "plt.ylabel(\"Happiness Score Median\", fontsize=15)\n",
        "plt.show()"
      ],
      "metadata": {
        "id": "aEdZbWrFtvnV",
        "colab": {
          "base_uri": "https://localhost:8080/",
          "height": 472
        },
        "outputId": "651fa4d9-d658-44c4-922b-ae9741f0a25c"
      },
      "id": "aEdZbWrFtvnV",
      "execution_count": null,
      "outputs": [
        {
          "output_type": "stream",
          "name": "stderr",
          "text": [
            "/usr/local/lib/python3.7/dist-packages/seaborn/_decorators.py:43: FutureWarning: Pass the following variables as keyword args: x, y. From version 0.12, the only valid positional argument will be `data`, and passing other arguments without an explicit keyword will result in an error or misinterpretation.\n",
            "  FutureWarning\n"
          ]
        },
        {
          "output_type": "display_data",
          "data": {
            "text/plain": [
              "<Figure size 720x432 with 1 Axes>"
            ],
            "image/png": "[encoded data removed]"
          },
          "metadata": {
            "needs_background": "light"
          }
        }
      ]
    },
    {
      "cell_type": "code",
      "source": [
        "# Plot the median of Score of all countries or regions from 2015 to 2018\n",
        "plt.figure(figsize=(10, 6))\n",
        "plt.plot(happinessMedian, label=\"Median Happiness score\")\n",
        "\n",
        "plt.title(\"Median Happiness Score over the years\", fontsize=25)\n",
        "plt.xlabel(\"Year\", fontsize=15)\n",
        "plt.ylabel(\"Happiness Score Median\", fontsize=15)\n",
        "plt.xticks([2015, 2016, 2017, 2018, 2019])\n",
        "plt.show()"
      ],
      "metadata": {
        "id": "eNqj0C4mshmV",
        "colab": {
          "base_uri": "https://localhost:8080/",
          "height": 418
        },
        "outputId": "b180dae9-d62f-45cd-bfb8-f98e60574019"
      },
      "id": "eNqj0C4mshmV",
      "execution_count": null,
      "outputs": [
        {
          "output_type": "display_data",
          "data": {
            "text/plain": [
              "<Figure size 720x432 with 1 Axes>"
            ],
            "image/png": "[encoded data removed]"
          },
          "metadata": {
            "needs_background": "light"
          }
        }
      ]
    },
    {
      "cell_type": "code",
      "source": [
        "# Median follows the same trend as mean\n",
        "# The median happiness score increases from 2015-2019\n",
        "# with the exception of the year 2016 - 2017"
      ],
      "metadata": {
        "id": "Y62bK9hbuqrC"
      },
      "id": "Y62bK9hbuqrC",
      "execution_count": null,
      "outputs": []
    },
    {
      "cell_type": "markdown",
      "source": [
        "## Analyzing Rankings (Task 3)\n",
        "### by Rahul Raja"
      ],
      "metadata": {
        "id": "qcVUCz50Rxh4"
      },
      "id": "qcVUCz50Rxh4"
    },
    {
      "cell_type": "code",
      "source": [
        "# Which countries have stable rankings over the years? \n",
        "\n",
        "## we are going to analyze the overall change in rankings over the years\n",
        "happiness_copy = happiness.copy()\n",
        "\n",
        "grouped_happiness = happiness_copy.groupby(\"Country\")[\"Country\"].count()\n",
        "grouped_happiness = grouped_happiness[grouped_happiness == 5]\n",
        "\n",
        "hap15 = happiness15[['Country', 'Rank']]\n",
        "hap16 = happiness16[['Country', 'Rank']]\n",
        "hap17 = happiness17[['Country', 'Rank']]\n",
        "hap18 = happiness18[['Country', 'Rank']]\n",
        "hap19 = happiness19[['Country', 'Rank']]\n",
        "\n",
        "\n",
        "countries = grouped_happiness.keys()\n",
        "## print(countries)\n",
        "total_change = []\n",
        "\n",
        "##  Used for testing #### \n",
        "# country = \"Canada\"\n",
        "# print(hap15.loc[hap15['Country'] == country].iat[0,1])\n",
        "# print(hap16.loc[hap16['Country'] == country].iat[0,1])\n",
        "# print(hap17.loc[hap17['Country'] == country].iat[0,1])\n",
        "# print(hap18.loc[hap18['Country'] == country].iat[0,1])\n",
        "# print(hap19.loc[hap19['Country'] == country].iat[0,1])\n",
        "\n",
        "\n",
        "## iterating through all the countries to calculate the overall rank change from the year range [2015, 2019]\n",
        "for i in range(len(countries)):\n",
        "    country = countries[i]\n",
        "    diff1 = abs(hap15.loc[hap15['Country'] == country].iat[0,1]- hap16.loc[hap16['Country'] == country].iat[0,1])\n",
        "    ## print(diff1)\n",
        "    diff2 = abs(hap16.loc[hap16['Country'] == country].iat[0,1]- hap17.loc[hap17['Country'] == country].iat[0,1])\n",
        "    diff3 = abs(hap17.loc[hap17['Country'] == country].iat[0,1]- hap18.loc[hap18['Country'] == country].iat[0,1])\n",
        "    diff4 = abs(hap18.loc[hap18['Country'] == country].iat[0,1]- hap19.loc[hap19['Country'] == country].iat[0,1])\n",
        "    finalDiff = diff1 + diff2 + diff3 + diff4\n",
        "    ## print(finalDiff)\n",
        "    total_change.append(finalDiff)\n",
        "\n",
        "## creating a new dataframe to store this information\n",
        "data={\"Countries\":countries, \"Rank_Change\":total_change}\n",
        "stable_table = pd.DataFrame(data)\n",
        "\n",
        "## sort it by ascending values (low -> high)\n",
        "stable_table = stable_table.sort_values(by=[\"Rank_Change\"], ascending=True)\n",
        "    \n",
        "stable_table.head(20)  \n",
        "    \n",
        "## Rank Change is defined as the total amount of variation in the ranks between 2015 - 2019, which is a good measure for stable ranking.\n",
        "## The top 20 countries with the most stable rankings are shown below.\n",
        "## The top 5 include New Zealand, Iceland, Netherlands, Australia, and Canada.\n",
        "\n",
        "\n",
        "\n",
        "\n",
        "\n",
        "\n"
      ],
      "metadata": {
        "id": "-2YrZpLL7fY3",
        "colab": {
          "base_uri": "https://localhost:8080/",
          "height": 676
        },
        "outputId": "03747c68-80a3-4210-c5a4-edec08260f8c"
      },
      "id": "-2YrZpLL7fY3",
      "execution_count": null,
      "outputs": [
        {
          "output_type": "execute_result",
          "data": {
            "text/plain": [
              "         Countries  Rank_Change\n",
              "91     New Zealand            1\n",
              "53         Iceland            2\n",
              "90     Netherlands            2\n",
              "5        Australia            3\n",
              "23          Canada            4\n",
              "107         Rwanda            4\n",
              "119         Sweden            5\n",
              "120    Switzerland            5\n",
              "6          Austria            5\n",
              "41         Finland            5\n",
              "34         Denmark            5\n",
              "11         Belgium            5\n",
              "95          Norway            5\n",
              "65      Kazakhstan            6\n",
              "76      Madagascar            6\n",
              "30      Costa Rica            6\n",
              "123       Tanzania            7\n",
              "121          Syria            7\n",
              "113       Slovakia            7\n",
              "133  United States            8"
            ],
            "text/html": [
              "\n",
              "  <div id=\"df-2e56cb94-278e-4ac9-a24d-8ec4638a49cb\">\n",
              "    <div class=\"colab-df-container\">\n",
              "      <div>\n",
              "<style scoped>\n",
              "    .dataframe tbody tr th:only-of-type {\n",
              "        vertical-align: middle;\n",
              "    }\n",
              "\n",
              "    .dataframe tbody tr th {\n",
              "        vertical-align: top;\n",
              "    }\n",
              "\n",
              "    .dataframe thead th {\n",
              "        text-align: right;\n",
              "    }\n",
              "</style>\n",
              "<table border=\"1\" class=\"dataframe\">\n",
              "  <thead>\n",
              "    <tr style=\"text-align: right;\">\n",
              "      <th></th>\n",
              "      <th>Countries</th>\n",
              "      <th>Rank_Change</th>\n",
              "    </tr>\n",
              "  </thead>\n",
              "  <tbody>\n",
              "    <tr>\n",
              "      <th>91</th>\n",
              "      <td>New Zealand</td>\n",
              "      <td>1</td>\n",
              "    </tr>\n",
              "    <tr>\n",
              "      <th>53</th>\n",
              "      <td>Iceland</td>\n",
              "      <td>2</td>\n",
              "    </tr>\n",
              "    <tr>\n",
              "      <th>90</th>\n",
              "      <td>Netherlands</td>\n",
              "      <td>2</td>\n",
              "    </tr>\n",
              "    <tr>\n",
              "      <th>5</th>\n",
              "      <td>Australia</td>\n",
              "      <td>3</td>\n",
              "    </tr>\n",
              "    <tr>\n",
              "      <th>23</th>\n",
              "      <td>Canada</td>\n",
              "      <td>4</td>\n",
              "    </tr>\n",
              "    <tr>\n",
              "      <th>107</th>\n",
              "      <td>Rwanda</td>\n",
              "      <td>4</td>\n",
              "    </tr>\n",
              "    <tr>\n",
              "      <th>119</th>\n",
              "      <td>Sweden</td>\n",
              "      <td>5</td>\n",
              "    </tr>\n",
              "    <tr>\n",
              "      <th>120</th>\n",
              "      <td>Switzerland</td>\n",
              "      <td>5</td>\n",
              "    </tr>\n",
              "    <tr>\n",
              "      <th>6</th>\n",
              "      <td>Austria</td>\n",
              "      <td>5</td>\n",
              "    </tr>\n",
              "    <tr>\n",
              "      <th>41</th>\n",
              "      <td>Finland</td>\n",
              "      <td>5</td>\n",
              "    </tr>\n",
              "    <tr>\n",
              "      <th>34</th>\n",
              "      <td>Denmark</td>\n",
              "      <td>5</td>\n",
              "    </tr>\n",
              "    <tr>\n",
              "      <th>11</th>\n",
              "      <td>Belgium</td>\n",
              "      <td>5</td>\n",
              "    </tr>\n",
              "    <tr>\n",
              "      <th>95</th>\n",
              "      <td>Norway</td>\n",
              "      <td>5</td>\n",
              "    </tr>\n",
              "    <tr>\n",
              "      <th>65</th>\n",
              "      <td>Kazakhstan</td>\n",
              "      <td>6</td>\n",
              "    </tr>\n",
              "    <tr>\n",
              "      <th>76</th>\n",
              "      <td>Madagascar</td>\n",
              "      <td>6</td>\n",
              "    </tr>\n",
              "    <tr>\n",
              "      <th>30</th>\n",
              "      <td>Costa Rica</td>\n",
              "      <td>6</td>\n",
              "    </tr>\n",
              "    <tr>\n",
              "      <th>123</th>\n",
              "      <td>Tanzania</td>\n",
              "      <td>7</td>\n",
              "    </tr>\n",
              "    <tr>\n",
              "      <th>121</th>\n",
              "      <td>Syria</td>\n",
              "      <td>7</td>\n",
              "    </tr>\n",
              "    <tr>\n",
              "      <th>113</th>\n",
              "      <td>Slovakia</td>\n",
              "      <td>7</td>\n",
              "    </tr>\n",
              "    <tr>\n",
              "      <th>133</th>\n",
              "      <td>United States</td>\n",
              "      <td>8</td>\n",
              "    </tr>\n",
              "  </tbody>\n",
              "</table>\n",
              "</div>\n",
              "      <button class=\"colab-df-convert\" onclick=\"convertToInteractive('df-2e56cb94-278e-4ac9-a24d-8ec4638a49cb')\"\n",
              "              title=\"Convert this dataframe to an interactive table.\"\n",
              "              style=\"display:none;\">\n",
              "        \n",
              "  <svg xmlns=\"http://www.w3.org/2000/svg\" height=\"24px\"viewBox=\"0 0 24 24\"\n",
              "       width=\"24px\">\n",
              "    <path d=\"M0 0h24v24H0V0z\" fill=\"none\"/>\n",
              "    <path d=\"M18.56 5.44l.94 2.06.94-2.06 2.06-.94-2.06-.94-.94-2.06-.94 2.06-2.06.94zm-11 1L8.5 8.5l.94-2.06 2.06-.94-2.06-.94L8.5 2.5l-.94 2.06-2.06.94zm10 10l.94 2.06.94-2.06 2.06-.94-2.06-.94-.94-2.06-.94 2.06-2.06.94z\"/><path d=\"M17.41 7.96l-1.37-1.37c-.4-.4-.92-.59-1.43-.59-.52 0-1.04.2-1.43.59L10.3 9.45l-7.72 7.72c-.78.78-.78 2.05 0 2.83L4 21.41c.39.39.9.59 1.41.59.51 0 1.02-.2 1.41-.59l7.78-7.78 2.81-2.81c.8-.78.8-2.07 0-2.86zM5.41 20L4 18.59l7.72-7.72 1.47 1.35L5.41 20z\"/>\n",
              "  </svg>\n",
              "      </button>\n",
              "      \n",
              "  <style>\n",
              "    .colab-df-container {\n",
              "      display:flex;\n",
              "      flex-wrap:wrap;\n",
              "      gap: 12px;\n",
              "    }\n",
              "\n",
              "    .colab-df-convert {\n",
              "      background-color: #E8F0FE;\n",
              "      border: none;\n",
              "      border-radius: 50%;\n",
              "      cursor: pointer;\n",
              "      display: none;\n",
              "      fill: #1967D2;\n",
              "      height: 32px;\n",
              "      padding: 0 0 0 0;\n",
              "      width: 32px;\n",
              "    }\n",
              "\n",
              "    .colab-df-convert:hover {\n",
              "      background-color: #E2EBFA;\n",
              "      box-shadow: 0px 1px 2px rgba(60, 64, 67, 0.3), 0px 1px 3px 1px rgba(60, 64, 67, 0.15);\n",
              "      fill: #174EA6;\n",
              "    }\n",
              "\n",
              "    [theme=dark] .colab-df-convert {\n",
              "      background-color: #3B4455;\n",
              "      fill: #D2E3FC;\n",
              "    }\n",
              "\n",
              "    [theme=dark] .colab-df-convert:hover {\n",
              "      background-color: #434B5C;\n",
              "      box-shadow: 0px 1px 3px 1px rgba(0, 0, 0, 0.15);\n",
              "      filter: drop-shadow(0px 1px 2px rgba(0, 0, 0, 0.3));\n",
              "      fill: #FFFFFF;\n",
              "    }\n",
              "  </style>\n",
              "\n",
              "      <script>\n",
              "        const buttonEl =\n",
              "          document.querySelector('#df-2e56cb94-278e-4ac9-a24d-8ec4638a49cb button.colab-df-convert');\n",
              "        buttonEl.style.display =\n",
              "          google.colab.kernel.accessAllowed ? 'block' : 'none';\n",
              "\n",
              "        async function convertToInteractive(key) {\n",
              "          const element = document.querySelector('#df-2e56cb94-278e-4ac9-a24d-8ec4638a49cb');\n",
              "          const dataTable =\n",
              "            await google.colab.kernel.invokeFunction('convertToInteractive',\n",
              "                                                     [key], {});\n",
              "          if (!dataTable) return;\n",
              "\n",
              "          const docLinkHtml = 'Like what you see? Visit the ' +\n",
              "            '<a target=\"_blank\" href=https://colab.research.google.com/notebooks/data_table.ipynb>data table notebook</a>'\n",
              "            + ' to learn more about interactive tables.';\n",
              "          element.innerHTML = '';\n",
              "          dataTable['output_type'] = 'display_data';\n",
              "          await google.colab.output.renderOutput(dataTable, element);\n",
              "          const docLink = document.createElement('div');\n",
              "          docLink.innerHTML = docLinkHtml;\n",
              "          element.appendChild(docLink);\n",
              "        }\n",
              "      </script>\n",
              "    </div>\n",
              "  </div>\n",
              "  "
            ]
          },
          "metadata": {},
          "execution_count": 4214
        }
      ]
    },
    {
      "cell_type": "code",
      "source": [
        "## Which countries improved their rankings? \n",
        "\n",
        "## The way we are going to analyze this is by looking at overall chage from inital rank in 2015 to the last ranking that take place in 2019\n",
        "\n",
        "## combining both 2015 and 2019 data together\n",
        "frame2 = [happiness15, happiness19]\n",
        "diff = pd.concat(frame2)\n",
        "\n",
        "grouped_happiness = diff.groupby(\"Country\")[\"Country\"].count()\n",
        "grouped_happiness = grouped_happiness[grouped_happiness == 2] ## use the info that is included in both of the years\n",
        "\n",
        "countries = grouped_happiness.keys()\n",
        "\n",
        "hap15 = happiness15[['Country', 'Rank']]\n",
        "hap19 = happiness19[['Country', 'Rank']]\n",
        "rank_change = []\n",
        "\n",
        "#### Testing ### \n",
        "## country = \"Afghanistan\"\n",
        "## print(hap15.loc[hap15['Country'] == country].iat[0,1])\n",
        "## print(hap19.loc[hap19['Country'] == country].iat[0,1])\n",
        "\n",
        "## iterating through to calculate the differences with the countries listed\n",
        "for i in range(len(countries)):\n",
        "  country = countries[i]\n",
        "  rc = hap15.loc[hap15['Country'] == country].iat[0,1] - hap19.loc[hap19['Country'] == country].iat[0,1] ## if pos, then inc, else then dec\n",
        "  rank_change.append(rc)\n",
        "\n",
        "## print(rank_change)\n",
        "\n",
        "## creating a dataframe to store the results   \n",
        "data={\"Countries\":countries, \"Overall_Change\":rank_change}\n",
        "overall_change_table = pd.DataFrame(data)\n",
        "\n",
        "\n",
        "overall_change_table = overall_change_table.sort_values(by=[\"Overall_Change\"], ascending=False) ## Since pos values are ones that increased rankings\n",
        "    \n",
        "overall_change_table.head(20)\n",
        "\n",
        "## Table below shows the top 20 countries that have increased their happiness rankings from 2015 - 2019\n",
        "## Top 5 countries include Benin, Ivory Coast, Honduras, Hungary, and Gabon\n",
        "\n",
        "\n"
      ],
      "metadata": {
        "id": "GwxcrNWzESy8",
        "colab": {
          "base_uri": "https://localhost:8080/",
          "height": 676
        },
        "outputId": "55318758-8c67-4564-a8b4-41b770a82a6f"
      },
      "id": "GwxcrNWzESy8",
      "execution_count": null,
      "outputs": [
        {
          "output_type": "execute_result",
          "data": {
            "text/plain": [
              "               Countries  Overall_Change\n",
              "12                 Benin              53\n",
              "64           Ivory Coast              52\n",
              "53              Honduras              46\n",
              "55               Hungary              42\n",
              "45                 Gabon              39\n",
              "111              Romania              38\n",
              "22              Cameroon              37\n",
              "19          Burkina Faso              37\n",
              "18              Bulgaria              37\n",
              "74                Latvia              36\n",
              "30   Congo (Brazzaville)              36\n",
              "21              Cambodia              36\n",
              "130           Tajikistan              32\n",
              "51                Guinea              32\n",
              "115              Senegal              31\n",
              "99                 Niger              30\n",
              "70                Kosovo              23\n",
              "109             Portugal              22\n",
              "107          Philippines              21\n",
              "37    Dominican Republic              21"
            ],
            "text/html": [
              "\n",
              "  <div id=\"df-c21b4e9c-880d-42de-abc3-0e10b44a13f7\">\n",
              "    <div class=\"colab-df-container\">\n",
              "      <div>\n",
              "<style scoped>\n",
              "    .dataframe tbody tr th:only-of-type {\n",
              "        vertical-align: middle;\n",
              "    }\n",
              "\n",
              "    .dataframe tbody tr th {\n",
              "        vertical-align: top;\n",
              "    }\n",
              "\n",
              "    .dataframe thead th {\n",
              "        text-align: right;\n",
              "    }\n",
              "</style>\n",
              "<table border=\"1\" class=\"dataframe\">\n",
              "  <thead>\n",
              "    <tr style=\"text-align: right;\">\n",
              "      <th></th>\n",
              "      <th>Countries</th>\n",
              "      <th>Overall_Change</th>\n",
              "    </tr>\n",
              "  </thead>\n",
              "  <tbody>\n",
              "    <tr>\n",
              "      <th>12</th>\n",
              "      <td>Benin</td>\n",
              "      <td>53</td>\n",
              "    </tr>\n",
              "    <tr>\n",
              "      <th>64</th>\n",
              "      <td>Ivory Coast</td>\n",
              "      <td>52</td>\n",
              "    </tr>\n",
              "    <tr>\n",
              "      <th>53</th>\n",
              "      <td>Honduras</td>\n",
              "      <td>46</td>\n",
              "    </tr>\n",
              "    <tr>\n",
              "      <th>55</th>\n",
              "      <td>Hungary</td>\n",
              "      <td>42</td>\n",
              "    </tr>\n",
              "    <tr>\n",
              "      <th>45</th>\n",
              "      <td>Gabon</td>\n",
              "      <td>39</td>\n",
              "    </tr>\n",
              "    <tr>\n",
              "      <th>111</th>\n",
              "      <td>Romania</td>\n",
              "      <td>38</td>\n",
              "    </tr>\n",
              "    <tr>\n",
              "      <th>22</th>\n",
              "      <td>Cameroon</td>\n",
              "      <td>37</td>\n",
              "    </tr>\n",
              "    <tr>\n",
              "      <th>19</th>\n",
              "      <td>Burkina Faso</td>\n",
              "      <td>37</td>\n",
              "    </tr>\n",
              "    <tr>\n",
              "      <th>18</th>\n",
              "      <td>Bulgaria</td>\n",
              "      <td>37</td>\n",
              "    </tr>\n",
              "    <tr>\n",
              "      <th>74</th>\n",
              "      <td>Latvia</td>\n",
              "      <td>36</td>\n",
              "    </tr>\n",
              "    <tr>\n",
              "      <th>30</th>\n",
              "      <td>Congo (Brazzaville)</td>\n",
              "      <td>36</td>\n",
              "    </tr>\n",
              "    <tr>\n",
              "      <th>21</th>\n",
              "      <td>Cambodia</td>\n",
              "      <td>36</td>\n",
              "    </tr>\n",
              "    <tr>\n",
              "      <th>130</th>\n",
              "      <td>Tajikistan</td>\n",
              "      <td>32</td>\n",
              "    </tr>\n",
              "    <tr>\n",
              "      <th>51</th>\n",
              "      <td>Guinea</td>\n",
              "      <td>32</td>\n",
              "    </tr>\n",
              "    <tr>\n",
              "      <th>115</th>\n",
              "      <td>Senegal</td>\n",
              "      <td>31</td>\n",
              "    </tr>\n",
              "    <tr>\n",
              "      <th>99</th>\n",
              "      <td>Niger</td>\n",
              "      <td>30</td>\n",
              "    </tr>\n",
              "    <tr>\n",
              "      <th>70</th>\n",
              "      <td>Kosovo</td>\n",
              "      <td>23</td>\n",
              "    </tr>\n",
              "    <tr>\n",
              "      <th>109</th>\n",
              "      <td>Portugal</td>\n",
              "      <td>22</td>\n",
              "    </tr>\n",
              "    <tr>\n",
              "      <th>107</th>\n",
              "      <td>Philippines</td>\n",
              "      <td>21</td>\n",
              "    </tr>\n",
              "    <tr>\n",
              "      <th>37</th>\n",
              "      <td>Dominican Republic</td>\n",
              "      <td>21</td>\n",
              "    </tr>\n",
              "  </tbody>\n",
              "</table>\n",
              "</div>\n",
              "      <button class=\"colab-df-convert\" onclick=\"convertToInteractive('df-c21b4e9c-880d-42de-abc3-0e10b44a13f7')\"\n",
              "              title=\"Convert this dataframe to an interactive table.\"\n",
              "              style=\"display:none;\">\n",
              "        \n",
              "  <svg xmlns=\"http://www.w3.org/2000/svg\" height=\"24px\"viewBox=\"0 0 24 24\"\n",
              "       width=\"24px\">\n",
              "    <path d=\"M0 0h24v24H0V0z\" fill=\"none\"/>\n",
              "    <path d=\"M18.56 5.44l.94 2.06.94-2.06 2.06-.94-2.06-.94-.94-2.06-.94 2.06-2.06.94zm-11 1L8.5 8.5l.94-2.06 2.06-.94-2.06-.94L8.5 2.5l-.94 2.06-2.06.94zm10 10l.94 2.06.94-2.06 2.06-.94-2.06-.94-.94-2.06-.94 2.06-2.06.94z\"/><path d=\"M17.41 7.96l-1.37-1.37c-.4-.4-.92-.59-1.43-.59-.52 0-1.04.2-1.43.59L10.3 9.45l-7.72 7.72c-.78.78-.78 2.05 0 2.83L4 21.41c.39.39.9.59 1.41.59.51 0 1.02-.2 1.41-.59l7.78-7.78 2.81-2.81c.8-.78.8-2.07 0-2.86zM5.41 20L4 18.59l7.72-7.72 1.47 1.35L5.41 20z\"/>\n",
              "  </svg>\n",
              "      </button>\n",
              "      \n",
              "  <style>\n",
              "    .colab-df-container {\n",
              "      display:flex;\n",
              "      flex-wrap:wrap;\n",
              "      gap: 12px;\n",
              "    }\n",
              "\n",
              "    .colab-df-convert {\n",
              "      background-color: #E8F0FE;\n",
              "      border: none;\n",
              "      border-radius: 50%;\n",
              "      cursor: pointer;\n",
              "      display: none;\n",
              "      fill: #1967D2;\n",
              "      height: 32px;\n",
              "      padding: 0 0 0 0;\n",
              "      width: 32px;\n",
              "    }\n",
              "\n",
              "    .colab-df-convert:hover {\n",
              "      background-color: #E2EBFA;\n",
              "      box-shadow: 0px 1px 2px rgba(60, 64, 67, 0.3), 0px 1px 3px 1px rgba(60, 64, 67, 0.15);\n",
              "      fill: #174EA6;\n",
              "    }\n",
              "\n",
              "    [theme=dark] .colab-df-convert {\n",
              "      background-color: #3B4455;\n",
              "      fill: #D2E3FC;\n",
              "    }\n",
              "\n",
              "    [theme=dark] .colab-df-convert:hover {\n",
              "      background-color: #434B5C;\n",
              "      box-shadow: 0px 1px 3px 1px rgba(0, 0, 0, 0.15);\n",
              "      filter: drop-shadow(0px 1px 2px rgba(0, 0, 0, 0.3));\n",
              "      fill: #FFFFFF;\n",
              "    }\n",
              "  </style>\n",
              "\n",
              "      <script>\n",
              "        const buttonEl =\n",
              "          document.querySelector('#df-c21b4e9c-880d-42de-abc3-0e10b44a13f7 button.colab-df-convert');\n",
              "        buttonEl.style.display =\n",
              "          google.colab.kernel.accessAllowed ? 'block' : 'none';\n",
              "\n",
              "        async function convertToInteractive(key) {\n",
              "          const element = document.querySelector('#df-c21b4e9c-880d-42de-abc3-0e10b44a13f7');\n",
              "          const dataTable =\n",
              "            await google.colab.kernel.invokeFunction('convertToInteractive',\n",
              "                                                     [key], {});\n",
              "          if (!dataTable) return;\n",
              "\n",
              "          const docLinkHtml = 'Like what you see? Visit the ' +\n",
              "            '<a target=\"_blank\" href=https://colab.research.google.com/notebooks/data_table.ipynb>data table notebook</a>'\n",
              "            + ' to learn more about interactive tables.';\n",
              "          element.innerHTML = '';\n",
              "          dataTable['output_type'] = 'display_data';\n",
              "          await google.colab.output.renderOutput(dataTable, element);\n",
              "          const docLink = document.createElement('div');\n",
              "          docLink.innerHTML = docLinkHtml;\n",
              "          element.appendChild(docLink);\n",
              "        }\n",
              "      </script>\n",
              "    </div>\n",
              "  </div>\n",
              "  "
            ]
          },
          "metadata": {},
          "execution_count": 4215
        }
      ]
    },
    {
      "cell_type": "markdown",
      "source": [
        "## Visualize the relationship between happiness score and other features such as GDP, social support, freedom, etc. (Task 4)\n",
        "### by Rahul Raja"
      ],
      "metadata": {
        "id": "yzu4V92SSDIu"
      },
      "id": "yzu4V92SSDIu"
    },
    {
      "cell_type": "code",
      "source": [
        "# Testing the relationship between gdp and happiness scores\n",
        "\n",
        "h_score = happiness[\"Score\"]\n",
        "gdp = happiness[\"GDP per Capita\"]\n",
        "\n",
        "plt.figure(figsize=(10, 8))\n",
        "plt.plot(gdp,h_score , 'o', color='black'); \n",
        "plt.title(\"GDP per Capita vs Happiness Score\",fontweight='bold', fontsize=25)\n",
        "plt.xlabel(\"GDP per Capita\", fontsize=15)\n",
        "plt.ylabel(\"Happiness Score\", fontsize=15)\n",
        "plt.show()"
      ],
      "metadata": {
        "id": "CUxwtCwMRtt3",
        "colab": {
          "base_uri": "https://localhost:8080/",
          "height": 527
        },
        "outputId": "a1f8dbbe-84cd-43ae-e2a2-4eb7c6b32a62"
      },
      "id": "CUxwtCwMRtt3",
      "execution_count": null,
      "outputs": [
        {
          "output_type": "display_data",
          "data": {
            "text/plain": [
              "<Figure size 720x576 with 1 Axes>"
            ],
            "image/png": "[encoded data removed]"
          },
          "metadata": {
            "needs_background": "light"
          }
        }
      ]
    },
    {
      "cell_type": "code",
      "source": [
        "# Correlation between gdp and happiness is 0.789\n",
        "\n",
        "corr1, _ = pearsonr(gdp, h_score)\n",
        "print('Pearsons correlation: %.3f' % corr1) "
      ],
      "metadata": {
        "id": "z1YkBQ1kyGI1",
        "colab": {
          "base_uri": "https://localhost:8080/"
        },
        "outputId": "1ceee003-2846-4d6b-ba56-1ba456a49904"
      },
      "id": "z1YkBQ1kyGI1",
      "execution_count": null,
      "outputs": [
        {
          "output_type": "stream",
          "name": "stdout",
          "text": [
            "Pearsons correlation: 0.789\n"
          ]
        }
      ]
    },
    {
      "cell_type": "code",
      "source": [
        "# Testing the relationship between social_support and happiness scores\n",
        "\n",
        "social_support = happiness[\"Family/Social Support\"]\n",
        "\n",
        "plt.figure(figsize=(10, 8))\n",
        "plt.plot(social_support ,h_score , 'o', color='red'); \n",
        "plt.title(\"Social Support vs Happiness Score\",fontweight='bold', fontsize=25)\n",
        "plt.xlabel(\"Social Support\", fontsize=15)\n",
        "plt.ylabel(\"Happiness Score\", fontsize=15)\n",
        "plt.show()"
      ],
      "metadata": {
        "id": "D8YcIKgjWD6-",
        "colab": {
          "base_uri": "https://localhost:8080/",
          "height": 527
        },
        "outputId": "5b5891ee-3ff7-4937-bc23-21f37c359732"
      },
      "id": "D8YcIKgjWD6-",
      "execution_count": null,
      "outputs": [
        {
          "output_type": "display_data",
          "data": {
            "text/plain": [
              "<Figure size 720x576 with 1 Axes>"
            ],
            "image/png": "[encoded data removed]"
          },
          "metadata": {
            "needs_background": "light"
          }
        }
      ]
    },
    {
      "cell_type": "code",
      "source": [
        "# Correlation between social support and happiness is 0.649, which is not as strong\n",
        "\n",
        "corr2, _ = pearsonr(social_support, h_score)\n",
        "print('Pearsons correlation: %.3f' % corr2) "
      ],
      "metadata": {
        "id": "PuT_3Z-pzDdv",
        "colab": {
          "base_uri": "https://localhost:8080/"
        },
        "outputId": "7fe49ea2-0680-4d24-b2e2-792ed45ecbb3"
      },
      "id": "PuT_3Z-pzDdv",
      "execution_count": null,
      "outputs": [
        {
          "output_type": "stream",
          "name": "stdout",
          "text": [
            "Pearsons correlation: 0.649\n"
          ]
        }
      ]
    },
    {
      "cell_type": "code",
      "source": [
        "## Testing the relationship between freedom and happiness scores\n",
        "\n",
        "freedom = happiness[\"Freedom\"]\n",
        "\n",
        "plt.figure(figsize=(10, 8))\n",
        "plt.plot(freedom ,h_score , 'o', color='blue'); \n",
        "plt.title(\"Freedom vs Happiness Score\",fontweight='bold', fontsize=25)\n",
        "plt.xlabel(\"Freedom\", fontsize=15)\n",
        "plt.ylabel(\"Happiness Score\", fontsize=15)\n",
        "plt.show()"
      ],
      "metadata": {
        "id": "2m6cJzL6Wyc3",
        "colab": {
          "base_uri": "https://localhost:8080/",
          "height": 527
        },
        "outputId": "bfd12ead-e82c-48f0-d67a-856db1fce595"
      },
      "id": "2m6cJzL6Wyc3",
      "execution_count": null,
      "outputs": [
        {
          "output_type": "display_data",
          "data": {
            "text/plain": [
              "<Figure size 720x576 with 1 Axes>"
            ],
            "image/png": "[encoded data removed]"
          },
          "metadata": {
            "needs_background": "light"
          }
        }
      ]
    },
    {
      "cell_type": "code",
      "source": [
        "# Correlation between freedom and happiness is 0.551, which is not as strong as the other two\n",
        "\n",
        "corr3, _ = pearsonr(freedom, h_score)\n",
        "print('Pearsons correlation: %.3f' % corr3)"
      ],
      "metadata": {
        "id": "OkGuL3VtzlSC",
        "colab": {
          "base_uri": "https://localhost:8080/"
        },
        "outputId": "7030e357-6adc-4a22-c4d7-1371d15245b7"
      },
      "id": "OkGuL3VtzlSC",
      "execution_count": null,
      "outputs": [
        {
          "output_type": "stream",
          "name": "stdout",
          "text": [
            "Pearsons correlation: 0.551\n"
          ]
        }
      ]
    },
    {
      "cell_type": "code",
      "source": [
        "## Testing the relationship between generosity and happiness scores\n",
        "corruption = happiness[\"Generosity\"]\n",
        "\n",
        "plt.figure(figsize=(10, 8))\n",
        "plt.plot(corruption ,h_score , 'o', color='green'); \n",
        "plt.title(\"Generosity vs Happiness Score\",fontweight='bold', fontsize=25)\n",
        "plt.xlabel(\"Generosity\", fontsize=15)\n",
        "plt.ylabel(\"Happiness Score\", fontsize=15)\n",
        "plt.show()"
      ],
      "metadata": {
        "id": "SA2IMTlDXYV9",
        "colab": {
          "base_uri": "https://localhost:8080/",
          "height": 527
        },
        "outputId": "df5e17c9-784f-46b0-ff2c-139ebf471174"
      },
      "id": "SA2IMTlDXYV9",
      "execution_count": null,
      "outputs": [
        {
          "output_type": "display_data",
          "data": {
            "text/plain": [
              "<Figure size 720x576 with 1 Axes>"
            ],
            "image/png": "[encoded data removed]"
          },
          "metadata": {
            "needs_background": "light"
          }
        }
      ]
    },
    {
      "cell_type": "code",
      "source": [
        "# Correlation between generosity and happiness is 0.138, which is not correlated at all\n",
        "\n",
        "corr4, _ = pearsonr(corruption, h_score)\n",
        "print('Pearsons correlation: %.3f' % corr4) "
      ],
      "metadata": {
        "id": "6LhHJU47zfd8",
        "colab": {
          "base_uri": "https://localhost:8080/"
        },
        "outputId": "2381d2dd-9603-4964-f63a-7a074ea6761a"
      },
      "id": "6LhHJU47zfd8",
      "execution_count": null,
      "outputs": [
        {
          "output_type": "stream",
          "name": "stdout",
          "text": [
            "Pearsons correlation: 0.138\n"
          ]
        }
      ]
    },
    {
      "cell_type": "markdown",
      "source": [
        "## Features contributing to happiness (Task 5)\n",
        "### by Acero"
      ],
      "metadata": {
        "id": "eeyhR1m0vOHK"
      },
      "id": "eeyhR1m0vOHK"
    },
    {
      "cell_type": "code",
      "source": [
        "# What Features correlate to happiness? \n",
        "# Dictionary for graph\n",
        "featureDict = {}\n",
        "#What is the correlation between happiness and GDP per capita? Use Spearman because data is an interval type\n",
        "hapScore = happiness[\"Score\"]\n",
        "gdp = happiness[\"GDP per Capita\"]\n",
        "gdpCorr, _ = pearsonr(gdp, hapScore)\n",
        "featureDict[\"GDp per Capita\"] = gdpCorr\n",
        "print('GDP per Capita Pearsons correlation: %.3f' % gdpCorr) "
      ],
      "metadata": {
        "id": "hVb82JxMvTlW",
        "colab": {
          "base_uri": "https://localhost:8080/"
        },
        "outputId": "42a0373e-dca1-4b94-8baf-09407b95ba9e"
      },
      "id": "hVb82JxMvTlW",
      "execution_count": null,
      "outputs": [
        {
          "output_type": "stream",
          "name": "stdout",
          "text": [
            "GDP per Capita Pearsons correlation: 0.789\n"
          ]
        }
      ]
    },
    {
      "cell_type": "code",
      "source": [
        "# Correlation between family and happiness \n",
        "fam = happiness[\"Family/Social Support\"]\n",
        "famCorr, _ = pearsonr(fam, hapScore)\n",
        "featureDict[\"Family\"] = famCorr\n",
        "print('Family value Pearsons correlation: %.3f' % famCorr)"
      ],
      "metadata": {
        "id": "q_9s0LPSgTZa",
        "colab": {
          "base_uri": "https://localhost:8080/"
        },
        "outputId": "0735ec12-3e4f-4b74-b783-4c4014e36e80"
      },
      "id": "q_9s0LPSgTZa",
      "execution_count": null,
      "outputs": [
        {
          "output_type": "stream",
          "name": "stdout",
          "text": [
            "Family value Pearsons correlation: 0.649\n"
          ]
        }
      ]
    },
    {
      "cell_type": "code",
      "source": [
        "# Correlation between life expectancy and happiness\n",
        "lifeExp_val = happiness[\"Life Expectancy\"]\n",
        "LifeCorr, _ = pearsonr(lifeExp_val, hapScore)\n",
        "featureDict[\"Life Expectancy\"] = LifeCorr\n",
        "print('Life Expectancy value Pearsons correlation: %.3f' % LifeCorr)"
      ],
      "metadata": {
        "colab": {
          "base_uri": "https://localhost:8080/"
        },
        "id": "kgKyu-SHhkMs",
        "outputId": "50745ea6-4cca-41f9-ea0e-054e1cf2e5b1"
      },
      "id": "kgKyu-SHhkMs",
      "execution_count": null,
      "outputs": [
        {
          "output_type": "stream",
          "name": "stdout",
          "text": [
            "Life Expectancy value Pearsons correlation: 0.742\n"
          ]
        }
      ]
    },
    {
      "cell_type": "code",
      "source": [
        "# Correlation between Freedom\tand happiness\n",
        "freedom_val = happiness[\"Freedom\"]\n",
        "freedomCorr = pearsonr(freedom_val, hapScore)\n",
        "featureDict[\"Freedom\"] = freedomCorr[0]\n",
        "print('Freedom value Pearsons correlation: %.3f' % freedomCorr[0])"
      ],
      "metadata": {
        "colab": {
          "base_uri": "https://localhost:8080/"
        },
        "id": "Zn_kNRkmlUPE",
        "outputId": "482d6bda-ed4d-41a6-f30d-a130984d2dab"
      },
      "id": "Zn_kNRkmlUPE",
      "execution_count": null,
      "outputs": [
        {
          "output_type": "stream",
          "name": "stdout",
          "text": [
            "Freedom value Pearsons correlation: 0.551\n"
          ]
        }
      ]
    },
    {
      "cell_type": "code",
      "source": [
        "# Correlation between Corruption and happiness\n",
        "corruption_val = happiness[\"Corruption\"]\n",
        "corruptionCorr = pearsonr(corruption_val, hapScore)\n",
        "featureDict[\"Trust\"] = corruptionCorr[0]\n",
        "print('Trust in government value Pearsons correlation: %.3f' % corruptionCorr[0])"
      ],
      "metadata": {
        "colab": {
          "base_uri": "https://localhost:8080/"
        },
        "id": "iminfNSGnx_Q",
        "outputId": "5028c541-75fa-4693-dffa-e45f89349cd2"
      },
      "id": "iminfNSGnx_Q",
      "execution_count": null,
      "outputs": [
        {
          "output_type": "stream",
          "name": "stdout",
          "text": [
            "Trust in government value Pearsons correlation: 0.400\n"
          ]
        }
      ]
    },
    {
      "cell_type": "code",
      "source": [
        "#Correlation between Generosity\tand happiness \n",
        "generosity_val = happiness[\"Generosity\"]\n",
        "generosityCorr = pearsonr(generosity_val, hapScore)\n",
        "featureDict[\"Generosity\"] = generosityCorr[0]\n",
        "print('Generosity value Pearsons correlation: %.3f' % generosityCorr[0])"
      ],
      "metadata": {
        "colab": {
          "base_uri": "https://localhost:8080/"
        },
        "id": "NDg6zfGaoqM1",
        "outputId": "67259569-246f-4eda-f073-14b210bb0395"
      },
      "id": "NDg6zfGaoqM1",
      "execution_count": null,
      "outputs": [
        {
          "output_type": "stream",
          "name": "stdout",
          "text": [
            "Generosity value Pearsons correlation: 0.138\n"
          ]
        }
      ]
    },
    {
      "cell_type": "code",
      "source": [
        "#Year and happiness?\n",
        "year_val = happiness[\"Year\"]\n",
        "yearCorr = pearsonr(year_val, hapScore)\n",
        "featureDict[\"Year\"] = yearCorr[0]\n",
        "print('Year value Pearsons correelation: %.3f' % yearCorr[0])"
      ],
      "metadata": {
        "colab": {
          "base_uri": "https://localhost:8080/"
        },
        "id": "dItQ4gq9pQvX",
        "outputId": "c8d423b8-b582-411e-d1cb-d4e0c69fc570"
      },
      "id": "dItQ4gq9pQvX",
      "execution_count": null,
      "outputs": [
        {
          "output_type": "stream",
          "name": "stdout",
          "text": [
            "Year value Pearsons correelation: 0.007\n"
          ]
        }
      ]
    },
    {
      "cell_type": "code",
      "source": [
        "print(featureDict)"
      ],
      "metadata": {
        "colab": {
          "base_uri": "https://localhost:8080/"
        },
        "id": "tEfQuUDdt219",
        "outputId": "f92cadf1-b278-4a15-9418-1eeced8e6b0b"
      },
      "id": "tEfQuUDdt219",
      "execution_count": null,
      "outputs": [
        {
          "output_type": "stream",
          "name": "stdout",
          "text": [
            "{'GDp per Capita': 0.7892839967085103, 'Family': 0.648799344751751, 'Life Expectancy': 0.742455742204549, 'Freedom': 0.5512580029074602, 'Trust': 0.40002621428627116, 'Generosity': 0.13757773385931887, 'Year': 0.0070646866931392835}\n"
          ]
        }
      ]
    },
    {
      "cell_type": "code",
      "source": [
        "factors = list(featureDict.keys())\n",
        "corrVals = list(featureDict.values())\n",
        "fig = plt.figure(figsize = (10, 8))\n",
        "plt.bar(factors, corrVals, color ='blue', width = 0.4)\n",
        "\n",
        "plt.xlabel(\"Factors\", fontsize = 15)\n",
        "plt.ylabel(\"Pearson Value Correlation\", fontsize=15)\n",
        "plt.title(\"Factors vs Pearson Value Correlation\", fontsize=25)\n",
        "plt.show()"
      ],
      "metadata": {
        "colab": {
          "base_uri": "https://localhost:8080/",
          "height": 527
        },
        "id": "1WVjmv9xuQzf",
        "outputId": "5a9b64c3-cfff-4b91-f39b-21c15903aaf8"
      },
      "id": "1WVjmv9xuQzf",
      "execution_count": null,
      "outputs": [
        {
          "output_type": "display_data",
          "data": {
            "text/plain": [
              "<Figure size 720x576 with 1 Axes>"
            ],
            "image/png": "[encoded data removed]"
          },
          "metadata": {
            "needs_background": "light"
          }
        }
      ]
    },
    {
      "cell_type": "code",
      "source": [
        ""
      ],
      "metadata": {
        "id": "EVUzTnn9vUbE"
      },
      "id": "EVUzTnn9vUbE",
      "execution_count": null,
      "outputs": []
    },
    {
      "cell_type": "markdown",
      "source": [
        "# **If you are the president of a country, what would you do to make citizens happier?**\n",
        "\n",
        "Judging by the factors that are most correlated with the happiness values, we can see that GDP per Capita, as well as Life expectancy are the most correlated. That means increasing GDP per Capita, as well as life expectancy may increase happiness in citizens.\n",
        "\n",
        "To increase GDP per Capita:\n",
        "Because GDP per Capita is the GDP divided by the population, one way to increase the value is by increasing the GDP by creating an economy that produces more products. By investing in industries, especially those that create many exports, the GDP can be increased. Increasing consumption in the country will also raise the GDP per Capita, and this can be done by adopting consumption stimulating policies, such as giving out stimulus checks.\n",
        "\n",
        "To increase life Expectancy:\n",
        "Invest in better health infrastructure, as well as health care. "
      ],
      "metadata": {
        "id": "lI-vc2HbxBEw"
      },
      "id": "lI-vc2HbxBEw"
    },
    {
      "cell_type": "code",
      "source": [
        ""
      ],
      "metadata": {
        "id": "Fd1BgyG7vVXN"
      },
      "id": "Fd1BgyG7vVXN",
      "execution_count": null,
      "outputs": []
    },
    {
      "cell_type": "markdown",
      "source": [
        "# **Modeling and Question Answering**\n",
        "predict the happiness rankings using machine learning approach"
      ],
      "metadata": {
        "id": "RFmZ6MpMz7Lk"
      },
      "id": "RFmZ6MpMz7Lk"
    },
    {
      "cell_type": "markdown",
      "source": [
        "### Splitting into training and testing data (by Iman Ali)"
      ],
      "metadata": {
        "id": "lvNA7qdu0RXC"
      },
      "id": "lvNA7qdu0RXC"
    },
    {
      "cell_type": "code",
      "source": [
        " # Split into training and testing sets\n",
        "\n",
        "# Training set => 2015 - 2018\n",
        "# Testing set => 2019\n",
        "\n",
        "# Extract training set\n",
        "training = happiness[happiness.Year < 2019]\n",
        "\n",
        "# Target variable 'Rank'. But we will predict the 'Score' and then calculate rank by \n",
        "# ordering scores in ascending order. Therefore use 'Score' as y\n",
        "# Therefore Y_train has values of 'Score', and X_train with all other useful fields\n",
        "Y_train = training[['Score']]\n",
        "X_train = training[[\"GDP per Capita\", \"Life Expectancy\", 'Family/Social Support', 'Freedom']]\n",
        "\n",
        "\n",
        "# Display X_train\n",
        "X_train"
      ],
      "metadata": {
        "id": "kBt2ubjc0Yn-",
        "colab": {
          "base_uri": "https://localhost:8080/",
          "height": 423
        },
        "outputId": "1e5b9a84-0cc0-4ef5-8eae-d942c2a40aaa"
      },
      "id": "kBt2ubjc0Yn-",
      "execution_count": null,
      "outputs": [
        {
          "output_type": "execute_result",
          "data": {
            "text/plain": [
              "     GDP per Capita  Life Expectancy  Family/Social Support  Freedom\n",
              "0           1.39651          0.94143                1.34951  0.66557\n",
              "1           1.30232          0.94784                1.40223  0.62877\n",
              "2           1.32548          0.87464                1.36058  0.64938\n",
              "3           1.45900          0.88521                1.33095  0.66973\n",
              "4           1.32629          0.90563                1.32261  0.63297\n",
              "..              ...              ...                    ...      ...\n",
              "151         0.44200          0.34300                1.07300  0.24400\n",
              "152         0.45500          0.38100                0.99100  0.48100\n",
              "153         0.33700          0.17700                0.60800  0.11200\n",
              "154         0.02400          0.01000                0.00000  0.30500\n",
              "155         0.09100          0.14500                0.62700  0.06500\n",
              "\n",
              "[626 rows x 4 columns]"
            ],
            "text/html": [
              "\n",
              "  <div id=\"df-2d5d27a0-e60f-425e-be51-4893ff84cde9\">\n",
              "    <div class=\"colab-df-container\">\n",
              "      <div>\n",
              "<style scoped>\n",
              "    .dataframe tbody tr th:only-of-type {\n",
              "        vertical-align: middle;\n",
              "    }\n",
              "\n",
              "    .dataframe tbody tr th {\n",
              "        vertical-align: top;\n",
              "    }\n",
              "\n",
              "    .dataframe thead th {\n",
              "        text-align: right;\n",
              "    }\n",
              "</style>\n",
              "<table border=\"1\" class=\"dataframe\">\n",
              "  <thead>\n",
              "    <tr style=\"text-align: right;\">\n",
              "      <th></th>\n",
              "      <th>GDP per Capita</th>\n",
              "      <th>Life Expectancy</th>\n",
              "      <th>Family/Social Support</th>\n",
              "      <th>Freedom</th>\n",
              "    </tr>\n",
              "  </thead>\n",
              "  <tbody>\n",
              "    <tr>\n",
              "      <th>0</th>\n",
              "      <td>1.39651</td>\n",
              "      <td>0.94143</td>\n",
              "      <td>1.34951</td>\n",
              "      <td>0.66557</td>\n",
              "    </tr>\n",
              "    <tr>\n",
              "      <th>1</th>\n",
              "      <td>1.30232</td>\n",
              "      <td>0.94784</td>\n",
              "      <td>1.40223</td>\n",
              "      <td>0.62877</td>\n",
              "    </tr>\n",
              "    <tr>\n",
              "      <th>2</th>\n",
              "      <td>1.32548</td>\n",
              "      <td>0.87464</td>\n",
              "      <td>1.36058</td>\n",
              "      <td>0.64938</td>\n",
              "    </tr>\n",
              "    <tr>\n",
              "      <th>3</th>\n",
              "      <td>1.45900</td>\n",
              "      <td>0.88521</td>\n",
              "      <td>1.33095</td>\n",
              "      <td>0.66973</td>\n",
              "    </tr>\n",
              "    <tr>\n",
              "      <th>4</th>\n",
              "      <td>1.32629</td>\n",
              "      <td>0.90563</td>\n",
              "      <td>1.32261</td>\n",
              "      <td>0.63297</td>\n",
              "    </tr>\n",
              "    <tr>\n",
              "      <th>...</th>\n",
              "      <td>...</td>\n",
              "      <td>...</td>\n",
              "      <td>...</td>\n",
              "      <td>...</td>\n",
              "    </tr>\n",
              "    <tr>\n",
              "      <th>151</th>\n",
              "      <td>0.44200</td>\n",
              "      <td>0.34300</td>\n",
              "      <td>1.07300</td>\n",
              "      <td>0.24400</td>\n",
              "    </tr>\n",
              "    <tr>\n",
              "      <th>152</th>\n",
              "      <td>0.45500</td>\n",
              "      <td>0.38100</td>\n",
              "      <td>0.99100</td>\n",
              "      <td>0.48100</td>\n",
              "    </tr>\n",
              "    <tr>\n",
              "      <th>153</th>\n",
              "      <td>0.33700</td>\n",
              "      <td>0.17700</td>\n",
              "      <td>0.60800</td>\n",
              "      <td>0.11200</td>\n",
              "    </tr>\n",
              "    <tr>\n",
              "      <th>154</th>\n",
              "      <td>0.02400</td>\n",
              "      <td>0.01000</td>\n",
              "      <td>0.00000</td>\n",
              "      <td>0.30500</td>\n",
              "    </tr>\n",
              "    <tr>\n",
              "      <th>155</th>\n",
              "      <td>0.09100</td>\n",
              "      <td>0.14500</td>\n",
              "      <td>0.62700</td>\n",
              "      <td>0.06500</td>\n",
              "    </tr>\n",
              "  </tbody>\n",
              "</table>\n",
              "<p>626 rows × 4 columns</p>\n",
              "</div>\n",
              "      <button class=\"colab-df-convert\" onclick=\"convertToInteractive('df-2d5d27a0-e60f-425e-be51-4893ff84cde9')\"\n",
              "              title=\"Convert this dataframe to an interactive table.\"\n",
              "              style=\"display:none;\">\n",
              "        \n",
              "  <svg xmlns=\"http://www.w3.org/2000/svg\" height=\"24px\"viewBox=\"0 0 24 24\"\n",
              "       width=\"24px\">\n",
              "    <path d=\"M0 0h24v24H0V0z\" fill=\"none\"/>\n",
              "    <path d=\"M18.56 5.44l.94 2.06.94-2.06 2.06-.94-2.06-.94-.94-2.06-.94 2.06-2.06.94zm-11 1L8.5 8.5l.94-2.06 2.06-.94-2.06-.94L8.5 2.5l-.94 2.06-2.06.94zm10 10l.94 2.06.94-2.06 2.06-.94-2.06-.94-.94-2.06-.94 2.06-2.06.94z\"/><path d=\"M17.41 7.96l-1.37-1.37c-.4-.4-.92-.59-1.43-.59-.52 0-1.04.2-1.43.59L10.3 9.45l-7.72 7.72c-.78.78-.78 2.05 0 2.83L4 21.41c.39.39.9.59 1.41.59.51 0 1.02-.2 1.41-.59l7.78-7.78 2.81-2.81c.8-.78.8-2.07 0-2.86zM5.41 20L4 18.59l7.72-7.72 1.47 1.35L5.41 20z\"/>\n",
              "  </svg>\n",
              "      </button>\n",
              "      \n",
              "  <style>\n",
              "    .colab-df-container {\n",
              "      display:flex;\n",
              "      flex-wrap:wrap;\n",
              "      gap: 12px;\n",
              "    }\n",
              "\n",
              "    .colab-df-convert {\n",
              "      background-color: #E8F0FE;\n",
              "      border: none;\n",
              "      border-radius: 50%;\n",
              "      cursor: pointer;\n",
              "      display: none;\n",
              "      fill: #1967D2;\n",
              "      height: 32px;\n",
              "      padding: 0 0 0 0;\n",
              "      width: 32px;\n",
              "    }\n",
              "\n",
              "    .colab-df-convert:hover {\n",
              "      background-color: #E2EBFA;\n",
              "      box-shadow: 0px 1px 2px rgba(60, 64, 67, 0.3), 0px 1px 3px 1px rgba(60, 64, 67, 0.15);\n",
              "      fill: #174EA6;\n",
              "    }\n",
              "\n",
              "    [theme=dark] .colab-df-convert {\n",
              "      background-color: #3B4455;\n",
              "      fill: #D2E3FC;\n",
              "    }\n",
              "\n",
              "    [theme=dark] .colab-df-convert:hover {\n",
              "      background-color: #434B5C;\n",
              "      box-shadow: 0px 1px 3px 1px rgba(0, 0, 0, 0.15);\n",
              "      filter: drop-shadow(0px 1px 2px rgba(0, 0, 0, 0.3));\n",
              "      fill: #FFFFFF;\n",
              "    }\n",
              "  </style>\n",
              "\n",
              "      <script>\n",
              "        const buttonEl =\n",
              "          document.querySelector('#df-2d5d27a0-e60f-425e-be51-4893ff84cde9 button.colab-df-convert');\n",
              "        buttonEl.style.display =\n",
              "          google.colab.kernel.accessAllowed ? 'block' : 'none';\n",
              "\n",
              "        async function convertToInteractive(key) {\n",
              "          const element = document.querySelector('#df-2d5d27a0-e60f-425e-be51-4893ff84cde9');\n",
              "          const dataTable =\n",
              "            await google.colab.kernel.invokeFunction('convertToInteractive',\n",
              "                                                     [key], {});\n",
              "          if (!dataTable) return;\n",
              "\n",
              "          const docLinkHtml = 'Like what you see? Visit the ' +\n",
              "            '<a target=\"_blank\" href=https://colab.research.google.com/notebooks/data_table.ipynb>data table notebook</a>'\n",
              "            + ' to learn more about interactive tables.';\n",
              "          element.innerHTML = '';\n",
              "          dataTable['output_type'] = 'display_data';\n",
              "          await google.colab.output.renderOutput(dataTable, element);\n",
              "          const docLink = document.createElement('div');\n",
              "          docLink.innerHTML = docLinkHtml;\n",
              "          element.appendChild(docLink);\n",
              "        }\n",
              "      </script>\n",
              "    </div>\n",
              "  </div>\n",
              "  "
            ]
          },
          "metadata": {},
          "execution_count": 4233
        }
      ]
    },
    {
      "cell_type": "code",
      "source": [
        "# Display Y_train (answers)\n",
        "Y_train"
      ],
      "metadata": {
        "id": "KUE_LQe30Zmg",
        "colab": {
          "base_uri": "https://localhost:8080/",
          "height": 423
        },
        "outputId": "1394eb8e-721a-455f-a209-fcd83282dcd8"
      },
      "id": "KUE_LQe30Zmg",
      "execution_count": null,
      "outputs": [
        {
          "output_type": "execute_result",
          "data": {
            "text/plain": [
              "     Score\n",
              "0    7.587\n",
              "1    7.561\n",
              "2    7.527\n",
              "3    7.522\n",
              "4    7.427\n",
              "..     ...\n",
              "151  3.355\n",
              "152  3.303\n",
              "153  3.254\n",
              "154  3.083\n",
              "155  2.905\n",
              "\n",
              "[626 rows x 1 columns]"
            ],
            "text/html": [
              "\n",
              "  <div id=\"df-c7ce5d58-0390-46ad-a53b-0078e893f13e\">\n",
              "    <div class=\"colab-df-container\">\n",
              "      <div>\n",
              "<style scoped>\n",
              "    .dataframe tbody tr th:only-of-type {\n",
              "        vertical-align: middle;\n",
              "    }\n",
              "\n",
              "    .dataframe tbody tr th {\n",
              "        vertical-align: top;\n",
              "    }\n",
              "\n",
              "    .dataframe thead th {\n",
              "        text-align: right;\n",
              "    }\n",
              "</style>\n",
              "<table border=\"1\" class=\"dataframe\">\n",
              "  <thead>\n",
              "    <tr style=\"text-align: right;\">\n",
              "      <th></th>\n",
              "      <th>Score</th>\n",
              "    </tr>\n",
              "  </thead>\n",
              "  <tbody>\n",
              "    <tr>\n",
              "      <th>0</th>\n",
              "      <td>7.587</td>\n",
              "    </tr>\n",
              "    <tr>\n",
              "      <th>1</th>\n",
              "      <td>7.561</td>\n",
              "    </tr>\n",
              "    <tr>\n",
              "      <th>2</th>\n",
              "      <td>7.527</td>\n",
              "    </tr>\n",
              "    <tr>\n",
              "      <th>3</th>\n",
              "      <td>7.522</td>\n",
              "    </tr>\n",
              "    <tr>\n",
              "      <th>4</th>\n",
              "      <td>7.427</td>\n",
              "    </tr>\n",
              "    <tr>\n",
              "      <th>...</th>\n",
              "      <td>...</td>\n",
              "    </tr>\n",
              "    <tr>\n",
              "      <th>151</th>\n",
              "      <td>3.355</td>\n",
              "    </tr>\n",
              "    <tr>\n",
              "      <th>152</th>\n",
              "      <td>3.303</td>\n",
              "    </tr>\n",
              "    <tr>\n",
              "      <th>153</th>\n",
              "      <td>3.254</td>\n",
              "    </tr>\n",
              "    <tr>\n",
              "      <th>154</th>\n",
              "      <td>3.083</td>\n",
              "    </tr>\n",
              "    <tr>\n",
              "      <th>155</th>\n",
              "      <td>2.905</td>\n",
              "    </tr>\n",
              "  </tbody>\n",
              "</table>\n",
              "<p>626 rows × 1 columns</p>\n",
              "</div>\n",
              "      <button class=\"colab-df-convert\" onclick=\"convertToInteractive('df-c7ce5d58-0390-46ad-a53b-0078e893f13e')\"\n",
              "              title=\"Convert this dataframe to an interactive table.\"\n",
              "              style=\"display:none;\">\n",
              "        \n",
              "  <svg xmlns=\"http://www.w3.org/2000/svg\" height=\"24px\"viewBox=\"0 0 24 24\"\n",
              "       width=\"24px\">\n",
              "    <path d=\"M0 0h24v24H0V0z\" fill=\"none\"/>\n",
              "    <path d=\"M18.56 5.44l.94 2.06.94-2.06 2.06-.94-2.06-.94-.94-2.06-.94 2.06-2.06.94zm-11 1L8.5 8.5l.94-2.06 2.06-.94-2.06-.94L8.5 2.5l-.94 2.06-2.06.94zm10 10l.94 2.06.94-2.06 2.06-.94-2.06-.94-.94-2.06-.94 2.06-2.06.94z\"/><path d=\"M17.41 7.96l-1.37-1.37c-.4-.4-.92-.59-1.43-.59-.52 0-1.04.2-1.43.59L10.3 9.45l-7.72 7.72c-.78.78-.78 2.05 0 2.83L4 21.41c.39.39.9.59 1.41.59.51 0 1.02-.2 1.41-.59l7.78-7.78 2.81-2.81c.8-.78.8-2.07 0-2.86zM5.41 20L4 18.59l7.72-7.72 1.47 1.35L5.41 20z\"/>\n",
              "  </svg>\n",
              "      </button>\n",
              "      \n",
              "  <style>\n",
              "    .colab-df-container {\n",
              "      display:flex;\n",
              "      flex-wrap:wrap;\n",
              "      gap: 12px;\n",
              "    }\n",
              "\n",
              "    .colab-df-convert {\n",
              "      background-color: #E8F0FE;\n",
              "      border: none;\n",
              "      border-radius: 50%;\n",
              "      cursor: pointer;\n",
              "      display: none;\n",
              "      fill: #1967D2;\n",
              "      height: 32px;\n",
              "      padding: 0 0 0 0;\n",
              "      width: 32px;\n",
              "    }\n",
              "\n",
              "    .colab-df-convert:hover {\n",
              "      background-color: #E2EBFA;\n",
              "      box-shadow: 0px 1px 2px rgba(60, 64, 67, 0.3), 0px 1px 3px 1px rgba(60, 64, 67, 0.15);\n",
              "      fill: #174EA6;\n",
              "    }\n",
              "\n",
              "    [theme=dark] .colab-df-convert {\n",
              "      background-color: #3B4455;\n",
              "      fill: #D2E3FC;\n",
              "    }\n",
              "\n",
              "    [theme=dark] .colab-df-convert:hover {\n",
              "      background-color: #434B5C;\n",
              "      box-shadow: 0px 1px 3px 1px rgba(0, 0, 0, 0.15);\n",
              "      filter: drop-shadow(0px 1px 2px rgba(0, 0, 0, 0.3));\n",
              "      fill: #FFFFFF;\n",
              "    }\n",
              "  </style>\n",
              "\n",
              "      <script>\n",
              "        const buttonEl =\n",
              "          document.querySelector('#df-c7ce5d58-0390-46ad-a53b-0078e893f13e button.colab-df-convert');\n",
              "        buttonEl.style.display =\n",
              "          google.colab.kernel.accessAllowed ? 'block' : 'none';\n",
              "\n",
              "        async function convertToInteractive(key) {\n",
              "          const element = document.querySelector('#df-c7ce5d58-0390-46ad-a53b-0078e893f13e');\n",
              "          const dataTable =\n",
              "            await google.colab.kernel.invokeFunction('convertToInteractive',\n",
              "                                                     [key], {});\n",
              "          if (!dataTable) return;\n",
              "\n",
              "          const docLinkHtml = 'Like what you see? Visit the ' +\n",
              "            '<a target=\"_blank\" href=https://colab.research.google.com/notebooks/data_table.ipynb>data table notebook</a>'\n",
              "            + ' to learn more about interactive tables.';\n",
              "          element.innerHTML = '';\n",
              "          dataTable['output_type'] = 'display_data';\n",
              "          await google.colab.output.renderOutput(dataTable, element);\n",
              "          const docLink = document.createElement('div');\n",
              "          docLink.innerHTML = docLinkHtml;\n",
              "          element.appendChild(docLink);\n",
              "        }\n",
              "      </script>\n",
              "    </div>\n",
              "  </div>\n",
              "  "
            ]
          },
          "metadata": {},
          "execution_count": 4234
        }
      ]
    },
    {
      "cell_type": "code",
      "source": [
        "# Extract testing set (2019)\n",
        "testing = happiness[happiness.Year == 2019]\n",
        "\n",
        "# Similar to training data,\n",
        "# Y_test with values of 'Score', and X_test with all other fields\n",
        "Y_test = testing[['Score']]\n",
        "X_test = testing[[\"GDP per Capita\", \"Life Expectancy\", 'Family/Social Support', 'Freedom']]\n",
        "\n",
        "\n",
        "# Display X_test\n",
        "X_test"
      ],
      "metadata": {
        "id": "W0lzO3OJ0aBb",
        "colab": {
          "base_uri": "https://localhost:8080/",
          "height": 423
        },
        "outputId": "e7179c92-6c18-4dbb-f2d1-251a705a4ad7"
      },
      "id": "W0lzO3OJ0aBb",
      "execution_count": null,
      "outputs": [
        {
          "output_type": "execute_result",
          "data": {
            "text/plain": [
              "     GDP per Capita  Life Expectancy  Family/Social Support  Freedom\n",
              "0             1.340            0.986                  1.587    0.596\n",
              "1             1.383            0.996                  1.573    0.592\n",
              "2             1.488            1.028                  1.582    0.603\n",
              "3             1.380            1.026                  1.624    0.591\n",
              "4             1.396            0.999                  1.522    0.557\n",
              "..              ...              ...                    ...      ...\n",
              "151           0.359            0.614                  0.711    0.555\n",
              "152           0.476            0.499                  0.885    0.417\n",
              "153           0.350            0.361                  0.517    0.000\n",
              "154           0.026            0.105                  0.000    0.225\n",
              "155           0.306            0.295                  0.575    0.010\n",
              "\n",
              "[156 rows x 4 columns]"
            ],
            "text/html": [
              "\n",
              "  <div id=\"df-8ac53608-f2ab-4d6a-b5bf-0fec4ceb0479\">\n",
              "    <div class=\"colab-df-container\">\n",
              "      <div>\n",
              "<style scoped>\n",
              "    .dataframe tbody tr th:only-of-type {\n",
              "        vertical-align: middle;\n",
              "    }\n",
              "\n",
              "    .dataframe tbody tr th {\n",
              "        vertical-align: top;\n",
              "    }\n",
              "\n",
              "    .dataframe thead th {\n",
              "        text-align: right;\n",
              "    }\n",
              "</style>\n",
              "<table border=\"1\" class=\"dataframe\">\n",
              "  <thead>\n",
              "    <tr style=\"text-align: right;\">\n",
              "      <th></th>\n",
              "      <th>GDP per Capita</th>\n",
              "      <th>Life Expectancy</th>\n",
              "      <th>Family/Social Support</th>\n",
              "      <th>Freedom</th>\n",
              "    </tr>\n",
              "  </thead>\n",
              "  <tbody>\n",
              "    <tr>\n",
              "      <th>0</th>\n",
              "      <td>1.340</td>\n",
              "      <td>0.986</td>\n",
              "      <td>1.587</td>\n",
              "      <td>0.596</td>\n",
              "    </tr>\n",
              "    <tr>\n",
              "      <th>1</th>\n",
              "      <td>1.383</td>\n",
              "      <td>0.996</td>\n",
              "      <td>1.573</td>\n",
              "      <td>0.592</td>\n",
              "    </tr>\n",
              "    <tr>\n",
              "      <th>2</th>\n",
              "      <td>1.488</td>\n",
              "      <td>1.028</td>\n",
              "      <td>1.582</td>\n",
              "      <td>0.603</td>\n",
              "    </tr>\n",
              "    <tr>\n",
              "      <th>3</th>\n",
              "      <td>1.380</td>\n",
              "      <td>1.026</td>\n",
              "      <td>1.624</td>\n",
              "      <td>0.591</td>\n",
              "    </tr>\n",
              "    <tr>\n",
              "      <th>4</th>\n",
              "      <td>1.396</td>\n",
              "      <td>0.999</td>\n",
              "      <td>1.522</td>\n",
              "      <td>0.557</td>\n",
              "    </tr>\n",
              "    <tr>\n",
              "      <th>...</th>\n",
              "      <td>...</td>\n",
              "      <td>...</td>\n",
              "      <td>...</td>\n",
              "      <td>...</td>\n",
              "    </tr>\n",
              "    <tr>\n",
              "      <th>151</th>\n",
              "      <td>0.359</td>\n",
              "      <td>0.614</td>\n",
              "      <td>0.711</td>\n",
              "      <td>0.555</td>\n",
              "    </tr>\n",
              "    <tr>\n",
              "      <th>152</th>\n",
              "      <td>0.476</td>\n",
              "      <td>0.499</td>\n",
              "      <td>0.885</td>\n",
              "      <td>0.417</td>\n",
              "    </tr>\n",
              "    <tr>\n",
              "      <th>153</th>\n",
              "      <td>0.350</td>\n",
              "      <td>0.361</td>\n",
              "      <td>0.517</td>\n",
              "      <td>0.000</td>\n",
              "    </tr>\n",
              "    <tr>\n",
              "      <th>154</th>\n",
              "      <td>0.026</td>\n",
              "      <td>0.105</td>\n",
              "      <td>0.000</td>\n",
              "      <td>0.225</td>\n",
              "    </tr>\n",
              "    <tr>\n",
              "      <th>155</th>\n",
              "      <td>0.306</td>\n",
              "      <td>0.295</td>\n",
              "      <td>0.575</td>\n",
              "      <td>0.010</td>\n",
              "    </tr>\n",
              "  </tbody>\n",
              "</table>\n",
              "<p>156 rows × 4 columns</p>\n",
              "</div>\n",
              "      <button class=\"colab-df-convert\" onclick=\"convertToInteractive('df-8ac53608-f2ab-4d6a-b5bf-0fec4ceb0479')\"\n",
              "              title=\"Convert this dataframe to an interactive table.\"\n",
              "              style=\"display:none;\">\n",
              "        \n",
              "  <svg xmlns=\"http://www.w3.org/2000/svg\" height=\"24px\"viewBox=\"0 0 24 24\"\n",
              "       width=\"24px\">\n",
              "    <path d=\"M0 0h24v24H0V0z\" fill=\"none\"/>\n",
              "    <path d=\"M18.56 5.44l.94 2.06.94-2.06 2.06-.94-2.06-.94-.94-2.06-.94 2.06-2.06.94zm-11 1L8.5 8.5l.94-2.06 2.06-.94-2.06-.94L8.5 2.5l-.94 2.06-2.06.94zm10 10l.94 2.06.94-2.06 2.06-.94-2.06-.94-.94-2.06-.94 2.06-2.06.94z\"/><path d=\"M17.41 7.96l-1.37-1.37c-.4-.4-.92-.59-1.43-.59-.52 0-1.04.2-1.43.59L10.3 9.45l-7.72 7.72c-.78.78-.78 2.05 0 2.83L4 21.41c.39.39.9.59 1.41.59.51 0 1.02-.2 1.41-.59l7.78-7.78 2.81-2.81c.8-.78.8-2.07 0-2.86zM5.41 20L4 18.59l7.72-7.72 1.47 1.35L5.41 20z\"/>\n",
              "  </svg>\n",
              "      </button>\n",
              "      \n",
              "  <style>\n",
              "    .colab-df-container {\n",
              "      display:flex;\n",
              "      flex-wrap:wrap;\n",
              "      gap: 12px;\n",
              "    }\n",
              "\n",
              "    .colab-df-convert {\n",
              "      background-color: #E8F0FE;\n",
              "      border: none;\n",
              "      border-radius: 50%;\n",
              "      cursor: pointer;\n",
              "      display: none;\n",
              "      fill: #1967D2;\n",
              "      height: 32px;\n",
              "      padding: 0 0 0 0;\n",
              "      width: 32px;\n",
              "    }\n",
              "\n",
              "    .colab-df-convert:hover {\n",
              "      background-color: #E2EBFA;\n",
              "      box-shadow: 0px 1px 2px rgba(60, 64, 67, 0.3), 0px 1px 3px 1px rgba(60, 64, 67, 0.15);\n",
              "      fill: #174EA6;\n",
              "    }\n",
              "\n",
              "    [theme=dark] .colab-df-convert {\n",
              "      background-color: #3B4455;\n",
              "      fill: #D2E3FC;\n",
              "    }\n",
              "\n",
              "    [theme=dark] .colab-df-convert:hover {\n",
              "      background-color: #434B5C;\n",
              "      box-shadow: 0px 1px 3px 1px rgba(0, 0, 0, 0.15);\n",
              "      filter: drop-shadow(0px 1px 2px rgba(0, 0, 0, 0.3));\n",
              "      fill: #FFFFFF;\n",
              "    }\n",
              "  </style>\n",
              "\n",
              "      <script>\n",
              "        const buttonEl =\n",
              "          document.querySelector('#df-8ac53608-f2ab-4d6a-b5bf-0fec4ceb0479 button.colab-df-convert');\n",
              "        buttonEl.style.display =\n",
              "          google.colab.kernel.accessAllowed ? 'block' : 'none';\n",
              "\n",
              "        async function convertToInteractive(key) {\n",
              "          const element = document.querySelector('#df-8ac53608-f2ab-4d6a-b5bf-0fec4ceb0479');\n",
              "          const dataTable =\n",
              "            await google.colab.kernel.invokeFunction('convertToInteractive',\n",
              "                                                     [key], {});\n",
              "          if (!dataTable) return;\n",
              "\n",
              "          const docLinkHtml = 'Like what you see? Visit the ' +\n",
              "            '<a target=\"_blank\" href=https://colab.research.google.com/notebooks/data_table.ipynb>data table notebook</a>'\n",
              "            + ' to learn more about interactive tables.';\n",
              "          element.innerHTML = '';\n",
              "          dataTable['output_type'] = 'display_data';\n",
              "          await google.colab.output.renderOutput(dataTable, element);\n",
              "          const docLink = document.createElement('div');\n",
              "          docLink.innerHTML = docLinkHtml;\n",
              "          element.appendChild(docLink);\n",
              "        }\n",
              "      </script>\n",
              "    </div>\n",
              "  </div>\n",
              "  "
            ]
          },
          "metadata": {},
          "execution_count": 4235
        }
      ]
    },
    {
      "cell_type": "code",
      "source": [
        "# Display Y_test (answers)\n",
        "Y_test"
      ],
      "metadata": {
        "id": "VzFtJuXt4W1-",
        "colab": {
          "base_uri": "https://localhost:8080/",
          "height": 423
        },
        "outputId": "0fadae23-ffa5-43ff-8acc-28414c093141"
      },
      "id": "VzFtJuXt4W1-",
      "execution_count": null,
      "outputs": [
        {
          "output_type": "execute_result",
          "data": {
            "text/plain": [
              "     Score\n",
              "0    7.769\n",
              "1    7.600\n",
              "2    7.554\n",
              "3    7.494\n",
              "4    7.488\n",
              "..     ...\n",
              "151  3.334\n",
              "152  3.231\n",
              "153  3.203\n",
              "154  3.083\n",
              "155  2.853\n",
              "\n",
              "[156 rows x 1 columns]"
            ],
            "text/html": [
              "\n",
              "  <div id=\"df-0c26d86b-6271-487e-8d35-baa7764d1f9a\">\n",
              "    <div class=\"colab-df-container\">\n",
              "      <div>\n",
              "<style scoped>\n",
              "    .dataframe tbody tr th:only-of-type {\n",
              "        vertical-align: middle;\n",
              "    }\n",
              "\n",
              "    .dataframe tbody tr th {\n",
              "        vertical-align: top;\n",
              "    }\n",
              "\n",
              "    .dataframe thead th {\n",
              "        text-align: right;\n",
              "    }\n",
              "</style>\n",
              "<table border=\"1\" class=\"dataframe\">\n",
              "  <thead>\n",
              "    <tr style=\"text-align: right;\">\n",
              "      <th></th>\n",
              "      <th>Score</th>\n",
              "    </tr>\n",
              "  </thead>\n",
              "  <tbody>\n",
              "    <tr>\n",
              "      <th>0</th>\n",
              "      <td>7.769</td>\n",
              "    </tr>\n",
              "    <tr>\n",
              "      <th>1</th>\n",
              "      <td>7.600</td>\n",
              "    </tr>\n",
              "    <tr>\n",
              "      <th>2</th>\n",
              "      <td>7.554</td>\n",
              "    </tr>\n",
              "    <tr>\n",
              "      <th>3</th>\n",
              "      <td>7.494</td>\n",
              "    </tr>\n",
              "    <tr>\n",
              "      <th>4</th>\n",
              "      <td>7.488</td>\n",
              "    </tr>\n",
              "    <tr>\n",
              "      <th>...</th>\n",
              "      <td>...</td>\n",
              "    </tr>\n",
              "    <tr>\n",
              "      <th>151</th>\n",
              "      <td>3.334</td>\n",
              "    </tr>\n",
              "    <tr>\n",
              "      <th>152</th>\n",
              "      <td>3.231</td>\n",
              "    </tr>\n",
              "    <tr>\n",
              "      <th>153</th>\n",
              "      <td>3.203</td>\n",
              "    </tr>\n",
              "    <tr>\n",
              "      <th>154</th>\n",
              "      <td>3.083</td>\n",
              "    </tr>\n",
              "    <tr>\n",
              "      <th>155</th>\n",
              "      <td>2.853</td>\n",
              "    </tr>\n",
              "  </tbody>\n",
              "</table>\n",
              "<p>156 rows × 1 columns</p>\n",
              "</div>\n",
              "      <button class=\"colab-df-convert\" onclick=\"convertToInteractive('df-0c26d86b-6271-487e-8d35-baa7764d1f9a')\"\n",
              "              title=\"Convert this dataframe to an interactive table.\"\n",
              "              style=\"display:none;\">\n",
              "        \n",
              "  <svg xmlns=\"http://www.w3.org/2000/svg\" height=\"24px\"viewBox=\"0 0 24 24\"\n",
              "       width=\"24px\">\n",
              "    <path d=\"M0 0h24v24H0V0z\" fill=\"none\"/>\n",
              "    <path d=\"M18.56 5.44l.94 2.06.94-2.06 2.06-.94-2.06-.94-.94-2.06-.94 2.06-2.06.94zm-11 1L8.5 8.5l.94-2.06 2.06-.94-2.06-.94L8.5 2.5l-.94 2.06-2.06.94zm10 10l.94 2.06.94-2.06 2.06-.94-2.06-.94-.94-2.06-.94 2.06-2.06.94z\"/><path d=\"M17.41 7.96l-1.37-1.37c-.4-.4-.92-.59-1.43-.59-.52 0-1.04.2-1.43.59L10.3 9.45l-7.72 7.72c-.78.78-.78 2.05 0 2.83L4 21.41c.39.39.9.59 1.41.59.51 0 1.02-.2 1.41-.59l7.78-7.78 2.81-2.81c.8-.78.8-2.07 0-2.86zM5.41 20L4 18.59l7.72-7.72 1.47 1.35L5.41 20z\"/>\n",
              "  </svg>\n",
              "      </button>\n",
              "      \n",
              "  <style>\n",
              "    .colab-df-container {\n",
              "      display:flex;\n",
              "      flex-wrap:wrap;\n",
              "      gap: 12px;\n",
              "    }\n",
              "\n",
              "    .colab-df-convert {\n",
              "      background-color: #E8F0FE;\n",
              "      border: none;\n",
              "      border-radius: 50%;\n",
              "      cursor: pointer;\n",
              "      display: none;\n",
              "      fill: #1967D2;\n",
              "      height: 32px;\n",
              "      padding: 0 0 0 0;\n",
              "      width: 32px;\n",
              "    }\n",
              "\n",
              "    .colab-df-convert:hover {\n",
              "      background-color: #E2EBFA;\n",
              "      box-shadow: 0px 1px 2px rgba(60, 64, 67, 0.3), 0px 1px 3px 1px rgba(60, 64, 67, 0.15);\n",
              "      fill: #174EA6;\n",
              "    }\n",
              "\n",
              "    [theme=dark] .colab-df-convert {\n",
              "      background-color: #3B4455;\n",
              "      fill: #D2E3FC;\n",
              "    }\n",
              "\n",
              "    [theme=dark] .colab-df-convert:hover {\n",
              "      background-color: #434B5C;\n",
              "      box-shadow: 0px 1px 3px 1px rgba(0, 0, 0, 0.15);\n",
              "      filter: drop-shadow(0px 1px 2px rgba(0, 0, 0, 0.3));\n",
              "      fill: #FFFFFF;\n",
              "    }\n",
              "  </style>\n",
              "\n",
              "      <script>\n",
              "        const buttonEl =\n",
              "          document.querySelector('#df-0c26d86b-6271-487e-8d35-baa7764d1f9a button.colab-df-convert');\n",
              "        buttonEl.style.display =\n",
              "          google.colab.kernel.accessAllowed ? 'block' : 'none';\n",
              "\n",
              "        async function convertToInteractive(key) {\n",
              "          const element = document.querySelector('#df-0c26d86b-6271-487e-8d35-baa7764d1f9a');\n",
              "          const dataTable =\n",
              "            await google.colab.kernel.invokeFunction('convertToInteractive',\n",
              "                                                     [key], {});\n",
              "          if (!dataTable) return;\n",
              "\n",
              "          const docLinkHtml = 'Like what you see? Visit the ' +\n",
              "            '<a target=\"_blank\" href=https://colab.research.google.com/notebooks/data_table.ipynb>data table notebook</a>'\n",
              "            + ' to learn more about interactive tables.';\n",
              "          element.innerHTML = '';\n",
              "          dataTable['output_type'] = 'display_data';\n",
              "          await google.colab.output.renderOutput(dataTable, element);\n",
              "          const docLink = document.createElement('div');\n",
              "          docLink.innerHTML = docLinkHtml;\n",
              "          element.appendChild(docLink);\n",
              "        }\n",
              "      </script>\n",
              "    </div>\n",
              "  </div>\n",
              "  "
            ]
          },
          "metadata": {},
          "execution_count": 4236
        }
      ]
    },
    {
      "cell_type": "markdown",
      "source": [
        "## **Multiple Linear Regression**\n",
        "### Model 1 (by Iman Ali)"
      ],
      "metadata": {
        "id": "X8viFf8h4XyH"
      },
      "id": "X8viFf8h4XyH"
    },
    {
      "cell_type": "code",
      "source": [
        "################################# Set up a multiple linear regression model to train ################################\n",
        "\n",
        "# Use linear regression from the sklearn library \n",
        "lin_reg = LinearRegression()\n",
        "lin_reg.fit(X_train, Y_train)\n",
        "\n",
        "# Use the coefficient and intercept to determine the y = mx + c linear fit\n",
        "print(\"Coefficients: \", lin_reg.coef_)\n",
        "print(\"Intercept: \", lin_reg.intercept_)\n",
        "\n"
      ],
      "metadata": {
        "id": "i7ND_Qdv41lO",
        "colab": {
          "base_uri": "https://localhost:8080/"
        },
        "outputId": "1317b37e-b90d-4f3b-9604-99ffefbcc8c5"
      },
      "id": "i7ND_Qdv41lO",
      "execution_count": null,
      "outputs": [
        {
          "output_type": "stream",
          "name": "stdout",
          "text": [
            "Coefficients:  [[1.14588287 1.16559883 0.5446503  1.85021572]]\n",
            "Intercept:  [2.29937624]\n"
          ]
        }
      ]
    },
    {
      "cell_type": "code",
      "source": [
        "############################ Predict happines rank for each country in 2019 ############################\n",
        "\n",
        "# Use the model to predict values of happiness score for the testing set\n",
        "score_pred = lin_reg.predict(X_test)\n",
        "score_pred = score_pred.flatten()\n",
        "score_pred"
      ],
      "metadata": {
        "id": "wcBiJy2e8-3N",
        "colab": {
          "base_uri": "https://localhost:8080/"
        },
        "outputId": "ef75e37d-66e4-4b5f-b928-d643fa2889cc"
      },
      "id": "wcBiJy2e8-3N",
      "execution_count": null,
      "outputs": [
        {
          "output_type": "execute_result",
          "data": {
            "text/plain": [
              "array([6.95122833, 6.99713132, 7.18000241, 7.05458858, 6.92298988,\n",
              "       7.07886789, 6.93672383, 6.91876274, 6.97478823, 6.84803344,\n",
              "       6.95277675, 6.42395226, 6.4398202 , 7.10143906, 6.65804378,\n",
              "       6.98204113, 6.73089779, 6.69677995, 6.5937132 , 6.48129611,\n",
              "       6.80317813, 6.82484733, 6.05076726, 6.64299524, 6.36057699,\n",
              "       6.10595869, 5.76664591, 6.38503614, 6.98627515, 6.48888671,\n",
              "       6.41678764, 5.88998882, 6.39147266, 7.25619571, 5.60091315,\n",
              "       6.23104534, 6.61210253, 6.19116497, 6.250234  , 6.38856168,\n",
              "       6.03450813, 6.03499706, 6.0458978 , 6.72473665, 5.59439946,\n",
              "       5.76933351, 6.22896374, 6.11832001, 6.37847519, 5.99214983,\n",
              "       6.5905545 , 6.26565152, 5.8923751 , 5.95584326, 6.48364917,\n",
              "       5.93181638, 6.19792008, 6.68433911, 5.61139602, 6.0731395 ,\n",
              "       5.61543657, 5.77684726, 5.93914646, 6.41462242, 5.93057784,\n",
              "       6.58223663, 4.76041201, 5.90998472, 5.72655536, 5.72027625,\n",
              "       5.122282  , 5.75949505, 5.62469728, 5.0189564 , 5.92541942,\n",
              "       6.76457105, 6.05306113, 5.41952847, 5.69827601, 6.24131015,\n",
              "       5.67440413, 5.57067735, 5.58350562, 5.74565284, 4.77578081,\n",
              "       5.49660238, 5.83730061, 5.15345886, 5.32803341, 5.66501719,\n",
              "       5.44662425, 5.69915865, 6.09606345, 5.87816649, 5.50003234,\n",
              "       4.51484311, 5.90011638, 4.74368036, 4.3131559 , 5.07953638,\n",
              "       5.58427249, 4.09618841, 4.78613546, 5.36626631, 5.39013352,\n",
              "       5.40164612, 5.57375678, 5.39988006, 5.43747847, 4.93098116,\n",
              "       4.6384769 , 4.02619322, 5.31966028, 3.89404518, 4.16854675,\n",
              "       5.32155685, 5.49775383, 4.23769801, 5.19407053, 4.3693935 ,\n",
              "       4.89611541, 4.28022844, 4.43875165, 5.15833374, 5.26658953,\n",
              "       5.14324509, 3.93364763, 4.30640471, 3.91831533, 5.91401573,\n",
              "       5.37445569, 3.66336989, 5.18678005, 4.50358943, 4.43360797,\n",
              "       4.4370776 , 5.1080066 , 4.83192464, 3.94604273, 5.18795483,\n",
              "       4.08613336, 3.87700647, 4.0329871 , 4.35645721, 3.44552055,\n",
              "       4.49814197, 3.6156753 , 5.58480523, 3.75147184, 4.21986102,\n",
              "       4.06592603, 4.84054196, 4.68000578, 3.40280063, 2.86785561,\n",
              "       3.32554413])"
            ]
          },
          "metadata": {},
          "execution_count": 4238
        }
      ]
    },
    {
      "cell_type": "code",
      "source": [
        "# Comparing Score Prediction\n",
        "\n",
        "# Actual values vs Predicted\n",
        "x = pd.DataFrame({'Country': testing[\"Country\"].values, 'Actual Score': Y_test['Score'].tolist(), 'Predicted Score': score_pred})\n",
        "x"
      ],
      "metadata": {
        "id": "Cozz9aaX9g1j",
        "colab": {
          "base_uri": "https://localhost:8080/"
        },
        "outputId": "ee47f37f-517c-4c9a-948d-f674cb474383"
      },
      "id": "Cozz9aaX9g1j",
      "execution_count": null,
      "outputs": [
        {
          "output_type": "execute_result",
          "data": {
            "text/plain": [
              "                      Country  Actual Score  Predicted Score\n",
              "0                     Finland         7.769         6.951228\n",
              "1                     Denmark         7.600         6.997131\n",
              "2                      Norway         7.554         7.180002\n",
              "3                     Iceland         7.494         7.054589\n",
              "4                 Netherlands         7.488         6.922990\n",
              "..                        ...           ...              ...\n",
              "151                    Rwanda         3.334         4.840542\n",
              "152                  Tanzania         3.231         4.680006\n",
              "153               Afghanistan         3.203         3.402801\n",
              "154  Central African Republic         3.083         2.867856\n",
              "155               South Sudan         2.853         3.325544\n",
              "\n",
              "[156 rows x 3 columns]"
            ],
            "text/html": [
              "\n",
              "  <div id=\"df-503e6ff3-80e5-48d5-9c68-62f7b48aa084\">\n",
              "    <div class=\"colab-df-container\">\n",
              "      <div>\n",
              "<style scoped>\n",
              "    .dataframe tbody tr th:only-of-type {\n",
              "        vertical-align: middle;\n",
              "    }\n",
              "\n",
              "    .dataframe tbody tr th {\n",
              "        vertical-align: top;\n",
              "    }\n",
              "\n",
              "    .dataframe thead th {\n",
              "        text-align: right;\n",
              "    }\n",
              "</style>\n",
              "<table border=\"1\" class=\"dataframe\">\n",
              "  <thead>\n",
              "    <tr style=\"text-align: right;\">\n",
              "      <th></th>\n",
              "      <th>Country</th>\n",
              "      <th>Actual Score</th>\n",
              "      <th>Predicted Score</th>\n",
              "    </tr>\n",
              "  </thead>\n",
              "  <tbody>\n",
              "    <tr>\n",
              "      <th>0</th>\n",
              "      <td>Finland</td>\n",
              "      <td>7.769</td>\n",
              "      <td>6.951228</td>\n",
              "    </tr>\n",
              "    <tr>\n",
              "      <th>1</th>\n",
              "      <td>Denmark</td>\n",
              "      <td>7.600</td>\n",
              "      <td>6.997131</td>\n",
              "    </tr>\n",
              "    <tr>\n",
              "      <th>2</th>\n",
              "      <td>Norway</td>\n",
              "      <td>7.554</td>\n",
              "      <td>7.180002</td>\n",
              "    </tr>\n",
              "    <tr>\n",
              "      <th>3</th>\n",
              "      <td>Iceland</td>\n",
              "      <td>7.494</td>\n",
              "      <td>7.054589</td>\n",
              "    </tr>\n",
              "    <tr>\n",
              "      <th>4</th>\n",
              "      <td>Netherlands</td>\n",
              "      <td>7.488</td>\n",
              "      <td>6.922990</td>\n",
              "    </tr>\n",
              "    <tr>\n",
              "      <th>...</th>\n",
              "      <td>...</td>\n",
              "      <td>...</td>\n",
              "      <td>...</td>\n",
              "    </tr>\n",
              "    <tr>\n",
              "      <th>151</th>\n",
              "      <td>Rwanda</td>\n",
              "      <td>3.334</td>\n",
              "      <td>4.840542</td>\n",
              "    </tr>\n",
              "    <tr>\n",
              "      <th>152</th>\n",
              "      <td>Tanzania</td>\n",
              "      <td>3.231</td>\n",
              "      <td>4.680006</td>\n",
              "    </tr>\n",
              "    <tr>\n",
              "      <th>153</th>\n",
              "      <td>Afghanistan</td>\n",
              "      <td>3.203</td>\n",
              "      <td>3.402801</td>\n",
              "    </tr>\n",
              "    <tr>\n",
              "      <th>154</th>\n",
              "      <td>Central African Republic</td>\n",
              "      <td>3.083</td>\n",
              "      <td>2.867856</td>\n",
              "    </tr>\n",
              "    <tr>\n",
              "      <th>155</th>\n",
              "      <td>South Sudan</td>\n",
              "      <td>2.853</td>\n",
              "      <td>3.325544</td>\n",
              "    </tr>\n",
              "  </tbody>\n",
              "</table>\n",
              "<p>156 rows × 3 columns</p>\n",
              "</div>\n",
              "      <button class=\"colab-df-convert\" onclick=\"convertToInteractive('df-503e6ff3-80e5-48d5-9c68-62f7b48aa084')\"\n",
              "              title=\"Convert this dataframe to an interactive table.\"\n",
              "              style=\"display:none;\">\n",
              "        \n",
              "  <svg xmlns=\"http://www.w3.org/2000/svg\" height=\"24px\"viewBox=\"0 0 24 24\"\n",
              "       width=\"24px\">\n",
              "    <path d=\"M0 0h24v24H0V0z\" fill=\"none\"/>\n",
              "    <path d=\"M18.56 5.44l.94 2.06.94-2.06 2.06-.94-2.06-.94-.94-2.06-.94 2.06-2.06.94zm-11 1L8.5 8.5l.94-2.06 2.06-.94-2.06-.94L8.5 2.5l-.94 2.06-2.06.94zm10 10l.94 2.06.94-2.06 2.06-.94-2.06-.94-.94-2.06-.94 2.06-2.06.94z\"/><path d=\"M17.41 7.96l-1.37-1.37c-.4-.4-.92-.59-1.43-.59-.52 0-1.04.2-1.43.59L10.3 9.45l-7.72 7.72c-.78.78-.78 2.05 0 2.83L4 21.41c.39.39.9.59 1.41.59.51 0 1.02-.2 1.41-.59l7.78-7.78 2.81-2.81c.8-.78.8-2.07 0-2.86zM5.41 20L4 18.59l7.72-7.72 1.47 1.35L5.41 20z\"/>\n",
              "  </svg>\n",
              "      </button>\n",
              "      \n",
              "  <style>\n",
              "    .colab-df-container {\n",
              "      display:flex;\n",
              "      flex-wrap:wrap;\n",
              "      gap: 12px;\n",
              "    }\n",
              "\n",
              "    .colab-df-convert {\n",
              "      background-color: #E8F0FE;\n",
              "      border: none;\n",
              "      border-radius: 50%;\n",
              "      cursor: pointer;\n",
              "      display: none;\n",
              "      fill: #1967D2;\n",
              "      height: 32px;\n",
              "      padding: 0 0 0 0;\n",
              "      width: 32px;\n",
              "    }\n",
              "\n",
              "    .colab-df-convert:hover {\n",
              "      background-color: #E2EBFA;\n",
              "      box-shadow: 0px 1px 2px rgba(60, 64, 67, 0.3), 0px 1px 3px 1px rgba(60, 64, 67, 0.15);\n",
              "      fill: #174EA6;\n",
              "    }\n",
              "\n",
              "    [theme=dark] .colab-df-convert {\n",
              "      background-color: #3B4455;\n",
              "      fill: #D2E3FC;\n",
              "    }\n",
              "\n",
              "    [theme=dark] .colab-df-convert:hover {\n",
              "      background-color: #434B5C;\n",
              "      box-shadow: 0px 1px 3px 1px rgba(0, 0, 0, 0.15);\n",
              "      filter: drop-shadow(0px 1px 2px rgba(0, 0, 0, 0.3));\n",
              "      fill: #FFFFFF;\n",
              "    }\n",
              "  </style>\n",
              "\n",
              "      <script>\n",
              "        const buttonEl =\n",
              "          document.querySelector('#df-503e6ff3-80e5-48d5-9c68-62f7b48aa084 button.colab-df-convert');\n",
              "        buttonEl.style.display =\n",
              "          google.colab.kernel.accessAllowed ? 'block' : 'none';\n",
              "\n",
              "        async function convertToInteractive(key) {\n",
              "          const element = document.querySelector('#df-503e6ff3-80e5-48d5-9c68-62f7b48aa084');\n",
              "          const dataTable =\n",
              "            await google.colab.kernel.invokeFunction('convertToInteractive',\n",
              "                                                     [key], {});\n",
              "          if (!dataTable) return;\n",
              "\n",
              "          const docLinkHtml = 'Like what you see? Visit the ' +\n",
              "            '<a target=\"_blank\" href=https://colab.research.google.com/notebooks/data_table.ipynb>data table notebook</a>'\n",
              "            + ' to learn more about interactive tables.';\n",
              "          element.innerHTML = '';\n",
              "          dataTable['output_type'] = 'display_data';\n",
              "          await google.colab.output.renderOutput(dataTable, element);\n",
              "          const docLink = document.createElement('div');\n",
              "          docLink.innerHTML = docLinkHtml;\n",
              "          element.appendChild(docLink);\n",
              "        }\n",
              "      </script>\n",
              "    </div>\n",
              "  </div>\n",
              "  "
            ]
          },
          "metadata": {},
          "execution_count": 4239
        }
      ]
    },
    {
      "cell_type": "code",
      "source": [
        "fig, ax = plt.subplots(figsize=(10, 8))\n",
        "plt.scatter(Y_test, score_pred ,s = 10)\n",
        "plt.xlabel('Actual Score',fontsize=15)\n",
        "plt.ylabel('Predicted Score',fontsize=15)\n",
        "plt.title('Actual vs Predicted Happiness Score 2019',fontweight='bold',fontsize=25)\n",
        "\n",
        "min = np.min([ax.get_xlim(), ax.get_ylim()])\n",
        "max = np.max([ax.get_xlim(), ax.get_ylim()])\n",
        "\n",
        "ax.plot([min, max], [min, max])\n",
        "ax.axis('equal')"
      ],
      "metadata": {
        "id": "VQE5vJRoL3SN",
        "colab": {
          "base_uri": "https://localhost:8080/",
          "height": 545
        },
        "outputId": "401d1495-3348-4064-991e-6068a8395ac8"
      },
      "id": "VQE5vJRoL3SN",
      "execution_count": null,
      "outputs": [
        {
          "output_type": "execute_result",
          "data": {
            "text/plain": [
              "(2.3368200000000003, 8.28518, 2.3368200000000003, 8.28518)"
            ]
          },
          "metadata": {},
          "execution_count": 4240
        },
        {
          "output_type": "display_data",
          "data": {
            "text/plain": [
              "<Figure size 720x576 with 1 Axes>"
            ],
            "image/png": "[encoded data removed]"
          },
          "metadata": {
            "needs_background": "light"
          }
        }
      ]
    },
    {
      "cell_type": "code",
      "source": [
        "# Comparing Actual vs Calculated Ranks\n",
        "# (calculating ranks from predicted score values)\n",
        "\n",
        "y = pd.DataFrame({'Country': testing[\"Country\"].values, 'Actual Rank': testing[\"Rank\"].values })\n",
        "y['Predicted Rank'] = x['Predicted Score'].rank(ascending=False)\n",
        "y['Predicted Rank'] = y['Predicted Rank'].astype(int)\n",
        "y"
      ],
      "metadata": {
        "id": "SLRrVkLxIoCz",
        "colab": {
          "base_uri": "https://localhost:8080/",
          "height": 423
        },
        "outputId": "7ce7bfed-ffbd-44e5-fa59-9b2d33c20752"
      },
      "id": "SLRrVkLxIoCz",
      "execution_count": null,
      "outputs": [
        {
          "output_type": "execute_result",
          "data": {
            "text/plain": [
              "                      Country  Actual Rank  Predicted Rank\n",
              "0                     Finland            1              11\n",
              "1                     Denmark            2               6\n",
              "2                      Norway            3               2\n",
              "3                     Iceland            4               5\n",
              "4                 Netherlands            5              13\n",
              "..                        ...          ...             ...\n",
              "151                    Rwanda          152             118\n",
              "152                  Tanzania          153             124\n",
              "153               Afghanistan          154             154\n",
              "154  Central African Republic          155             156\n",
              "155               South Sudan          156             155\n",
              "\n",
              "[156 rows x 3 columns]"
            ],
            "text/html": [
              "\n",
              "  <div id=\"df-9469e597-8230-4f48-a307-dd278445e4e8\">\n",
              "    <div class=\"colab-df-container\">\n",
              "      <div>\n",
              "<style scoped>\n",
              "    .dataframe tbody tr th:only-of-type {\n",
              "        vertical-align: middle;\n",
              "    }\n",
              "\n",
              "    .dataframe tbody tr th {\n",
              "        vertical-align: top;\n",
              "    }\n",
              "\n",
              "    .dataframe thead th {\n",
              "        text-align: right;\n",
              "    }\n",
              "</style>\n",
              "<table border=\"1\" class=\"dataframe\">\n",
              "  <thead>\n",
              "    <tr style=\"text-align: right;\">\n",
              "      <th></th>\n",
              "      <th>Country</th>\n",
              "      <th>Actual Rank</th>\n",
              "      <th>Predicted Rank</th>\n",
              "    </tr>\n",
              "  </thead>\n",
              "  <tbody>\n",
              "    <tr>\n",
              "      <th>0</th>\n",
              "      <td>Finland</td>\n",
              "      <td>1</td>\n",
              "      <td>11</td>\n",
              "    </tr>\n",
              "    <tr>\n",
              "      <th>1</th>\n",
              "      <td>Denmark</td>\n",
              "      <td>2</td>\n",
              "      <td>6</td>\n",
              "    </tr>\n",
              "    <tr>\n",
              "      <th>2</th>\n",
              "      <td>Norway</td>\n",
              "      <td>3</td>\n",
              "      <td>2</td>\n",
              "    </tr>\n",
              "    <tr>\n",
              "      <th>3</th>\n",
              "      <td>Iceland</td>\n",
              "      <td>4</td>\n",
              "      <td>5</td>\n",
              "    </tr>\n",
              "    <tr>\n",
              "      <th>4</th>\n",
              "      <td>Netherlands</td>\n",
              "      <td>5</td>\n",
              "      <td>13</td>\n",
              "    </tr>\n",
              "    <tr>\n",
              "      <th>...</th>\n",
              "      <td>...</td>\n",
              "      <td>...</td>\n",
              "      <td>...</td>\n",
              "    </tr>\n",
              "    <tr>\n",
              "      <th>151</th>\n",
              "      <td>Rwanda</td>\n",
              "      <td>152</td>\n",
              "      <td>118</td>\n",
              "    </tr>\n",
              "    <tr>\n",
              "      <th>152</th>\n",
              "      <td>Tanzania</td>\n",
              "      <td>153</td>\n",
              "      <td>124</td>\n",
              "    </tr>\n",
              "    <tr>\n",
              "      <th>153</th>\n",
              "      <td>Afghanistan</td>\n",
              "      <td>154</td>\n",
              "      <td>154</td>\n",
              "    </tr>\n",
              "    <tr>\n",
              "      <th>154</th>\n",
              "      <td>Central African Republic</td>\n",
              "      <td>155</td>\n",
              "      <td>156</td>\n",
              "    </tr>\n",
              "    <tr>\n",
              "      <th>155</th>\n",
              "      <td>South Sudan</td>\n",
              "      <td>156</td>\n",
              "      <td>155</td>\n",
              "    </tr>\n",
              "  </tbody>\n",
              "</table>\n",
              "<p>156 rows × 3 columns</p>\n",
              "</div>\n",
              "      <button class=\"colab-df-convert\" onclick=\"convertToInteractive('df-9469e597-8230-4f48-a307-dd278445e4e8')\"\n",
              "              title=\"Convert this dataframe to an interactive table.\"\n",
              "              style=\"display:none;\">\n",
              "        \n",
              "  <svg xmlns=\"http://www.w3.org/2000/svg\" height=\"24px\"viewBox=\"0 0 24 24\"\n",
              "       width=\"24px\">\n",
              "    <path d=\"M0 0h24v24H0V0z\" fill=\"none\"/>\n",
              "    <path d=\"M18.56 5.44l.94 2.06.94-2.06 2.06-.94-2.06-.94-.94-2.06-.94 2.06-2.06.94zm-11 1L8.5 8.5l.94-2.06 2.06-.94-2.06-.94L8.5 2.5l-.94 2.06-2.06.94zm10 10l.94 2.06.94-2.06 2.06-.94-2.06-.94-.94-2.06-.94 2.06-2.06.94z\"/><path d=\"M17.41 7.96l-1.37-1.37c-.4-.4-.92-.59-1.43-.59-.52 0-1.04.2-1.43.59L10.3 9.45l-7.72 7.72c-.78.78-.78 2.05 0 2.83L4 21.41c.39.39.9.59 1.41.59.51 0 1.02-.2 1.41-.59l7.78-7.78 2.81-2.81c.8-.78.8-2.07 0-2.86zM5.41 20L4 18.59l7.72-7.72 1.47 1.35L5.41 20z\"/>\n",
              "  </svg>\n",
              "      </button>\n",
              "      \n",
              "  <style>\n",
              "    .colab-df-container {\n",
              "      display:flex;\n",
              "      flex-wrap:wrap;\n",
              "      gap: 12px;\n",
              "    }\n",
              "\n",
              "    .colab-df-convert {\n",
              "      background-color: #E8F0FE;\n",
              "      border: none;\n",
              "      border-radius: 50%;\n",
              "      cursor: pointer;\n",
              "      display: none;\n",
              "      fill: #1967D2;\n",
              "      height: 32px;\n",
              "      padding: 0 0 0 0;\n",
              "      width: 32px;\n",
              "    }\n",
              "\n",
              "    .colab-df-convert:hover {\n",
              "      background-color: #E2EBFA;\n",
              "      box-shadow: 0px 1px 2px rgba(60, 64, 67, 0.3), 0px 1px 3px 1px rgba(60, 64, 67, 0.15);\n",
              "      fill: #174EA6;\n",
              "    }\n",
              "\n",
              "    [theme=dark] .colab-df-convert {\n",
              "      background-color: #3B4455;\n",
              "      fill: #D2E3FC;\n",
              "    }\n",
              "\n",
              "    [theme=dark] .colab-df-convert:hover {\n",
              "      background-color: #434B5C;\n",
              "      box-shadow: 0px 1px 3px 1px rgba(0, 0, 0, 0.15);\n",
              "      filter: drop-shadow(0px 1px 2px rgba(0, 0, 0, 0.3));\n",
              "      fill: #FFFFFF;\n",
              "    }\n",
              "  </style>\n",
              "\n",
              "      <script>\n",
              "        const buttonEl =\n",
              "          document.querySelector('#df-9469e597-8230-4f48-a307-dd278445e4e8 button.colab-df-convert');\n",
              "        buttonEl.style.display =\n",
              "          google.colab.kernel.accessAllowed ? 'block' : 'none';\n",
              "\n",
              "        async function convertToInteractive(key) {\n",
              "          const element = document.querySelector('#df-9469e597-8230-4f48-a307-dd278445e4e8');\n",
              "          const dataTable =\n",
              "            await google.colab.kernel.invokeFunction('convertToInteractive',\n",
              "                                                     [key], {});\n",
              "          if (!dataTable) return;\n",
              "\n",
              "          const docLinkHtml = 'Like what you see? Visit the ' +\n",
              "            '<a target=\"_blank\" href=https://colab.research.google.com/notebooks/data_table.ipynb>data table notebook</a>'\n",
              "            + ' to learn more about interactive tables.';\n",
              "          element.innerHTML = '';\n",
              "          dataTable['output_type'] = 'display_data';\n",
              "          await google.colab.output.renderOutput(dataTable, element);\n",
              "          const docLink = document.createElement('div');\n",
              "          docLink.innerHTML = docLinkHtml;\n",
              "          element.appendChild(docLink);\n",
              "        }\n",
              "      </script>\n",
              "    </div>\n",
              "  </div>\n",
              "  "
            ]
          },
          "metadata": {},
          "execution_count": 4241
        }
      ]
    },
    {
      "cell_type": "code",
      "source": [
        "#################################### How well/badly does the model work ##########################################\n",
        "\n",
        "# Evaluate the correctness of your predictions based on the original “Score” column\n",
        "print('Score:', lin_reg.score(X_test, Y_test))"
      ],
      "metadata": {
        "id": "Cq8M_pco_aKv",
        "colab": {
          "base_uri": "https://localhost:8080/"
        },
        "outputId": "1f6b50ba-a703-4faf-9fcd-66994d06f90f"
      },
      "id": "Cq8M_pco_aKv",
      "execution_count": null,
      "outputs": [
        {
          "output_type": "stream",
          "name": "stdout",
          "text": [
            "Score: 0.7426353989015173\n"
          ]
        }
      ]
    },
    {
      "cell_type": "markdown",
      "source": [
        "Prediction score is around 74% which is quite decent"
      ],
      "metadata": {
        "id": "ohf7XkidEXwq"
      },
      "id": "ohf7XkidEXwq"
    },
    {
      "cell_type": "code",
      "source": [
        "########################################### Root mean squared error #############################################\n",
        "\n",
        "MSE = mean_squared_error(Y_test, score_pred, squared=False)\n",
        "RMSE = np.sqrt(MSE) \n",
        "print('Mean Squared Error:', MSE)\n",
        "print('Root Mean Squared Error:', RMSE)"
      ],
      "metadata": {
        "id": "5oGICkxF_e-3",
        "colab": {
          "base_uri": "https://localhost:8080/"
        },
        "outputId": "883fc2c9-eadc-4eb6-ed32-efaeb8fe3cbf"
      },
      "id": "5oGICkxF_e-3",
      "execution_count": null,
      "outputs": [
        {
          "output_type": "stream",
          "name": "stdout",
          "text": [
            "Mean Squared Error: 0.5628852790041102\n",
            "Root Mean Squared Error: 0.7502568087022671\n"
          ]
        }
      ]
    },
    {
      "cell_type": "code",
      "source": [
        "# According to the sklearn library:\n",
        "# Mean squared error return: the best value is 0.0 \n",
        "\n",
        "# Lower values of MSE indicate better fit.\n",
        "# Since we have quite a low value of 0.56 (close to zero) that means our model did a good job at predicting\n",
        "# happiness scores and therefore accurate ranks"
      ],
      "metadata": {
        "id": "i_uRrsT8J79k"
      },
      "id": "i_uRrsT8J79k",
      "execution_count": null,
      "outputs": []
    },
    {
      "cell_type": "markdown",
      "source": [
        "## **K Nearest Neighbor Regression**\n",
        "### Model 2 (by Rahul Raja)"
      ],
      "metadata": {
        "id": "kHQYE64l0bUq"
      },
      "id": "kHQYE64l0bUq"
    },
    {
      "cell_type": "code",
      "source": [
        "from sklearn.neighbors import KNeighborsRegressor\n",
        "from sklearn.model_selection import GridSearchCV\n",
        "\n",
        "parameters = {\"n_neighbors\": range(1, 50)}\n",
        "gridsearch = GridSearchCV(KNeighborsRegressor(), parameters)\n",
        "gridsearch.fit(X_train, Y_train)\n",
        "\n",
        "gridsearch.best_params_\n",
        "\n",
        "## Reports best k value is 6"
      ],
      "metadata": {
        "id": "weDxzkYIPS4K",
        "colab": {
          "base_uri": "https://localhost:8080/"
        },
        "outputId": "ad3272c9-b3d3-46eb-e37a-abc0e90a403a"
      },
      "id": "weDxzkYIPS4K",
      "execution_count": null,
      "outputs": [
        {
          "output_type": "execute_result",
          "data": {
            "text/plain": [
              "{'n_neighbors': 6}"
            ]
          },
          "metadata": {},
          "execution_count": 4245
        }
      ]
    },
    {
      "cell_type": "code",
      "source": [
        "\n",
        "\n",
        "knn_model = KNeighborsRegressor(n_neighbors=6) ## can change this paramter\n",
        "\n",
        "knn_model.fit(X_train, Y_train)\n",
        "\n",
        "test_preds = knn_model.predict(X_test)\n",
        "score_pred = test_preds.flatten()\n",
        "score_pred"
      ],
      "metadata": {
        "id": "L34VrZ_f0dxS",
        "colab": {
          "base_uri": "https://localhost:8080/"
        },
        "outputId": "cf769e9d-f581-43f1-d0e9-2f05cc7a9429"
      },
      "id": "L34VrZ_f0dxS",
      "execution_count": null,
      "outputs": [
        {
          "output_type": "execute_result",
          "data": {
            "text/plain": [
              "array([7.25583333, 7.25283333, 7.09716667, 7.31216667, 6.78366668,\n",
              "       6.65933335, 6.78366668, 6.89916667, 7.05716667, 6.65850001,\n",
              "       7.009     , 6.45966667, 6.37216667, 6.75383333, 6.30849999,\n",
              "       6.82016667, 6.34916666, 6.30849999, 6.46849998, 6.5715    ,\n",
              "       7.24516665, 6.599     , 6.26133333, 6.37116666, 6.40716664,\n",
              "       6.65333333, 5.71199998, 6.38700001, 6.47916664, 6.38449998,\n",
              "       6.31183333, 5.77366667, 6.4905    , 6.10783337, 5.82650002,\n",
              "       6.38466668, 6.36400003, 6.41949998, 6.08316668, 6.37216667,\n",
              "       5.814     , 5.75950005, 6.48366667, 6.5805    , 5.75350002,\n",
              "       6.1515    , 6.49816667, 6.10166667, 6.18983333, 6.34566667,\n",
              "       6.58099999, 6.5785    , 5.65700004, 5.70383334, 6.48733333,\n",
              "       6.05766665, 6.51583333, 6.07666667, 5.75416668, 5.89666666,\n",
              "       5.67666666, 5.58100002, 5.92233331, 6.29433333, 6.24966667,\n",
              "       6.27383333, 5.33816667, 5.54516667, 5.52216665, 5.71983333,\n",
              "       5.17933332, 5.81116667, 5.59183333, 5.41566667, 6.25166666,\n",
              "       5.9521667 , 6.5465    , 5.06600001, 5.49483335, 5.8535    ,\n",
              "       5.27183337, 5.54033337, 5.23116666, 6.03616667, 4.46916665,\n",
              "       5.57550005, 5.48399999, 5.26500002, 4.95650003, 5.07916665,\n",
              "       5.09199998, 5.86599996, 5.94116667, 5.70666666, 5.63550002,\n",
              "       4.20066663, 5.4791667 , 5.1358333 , 4.33999998, 5.1453333 ,\n",
              "       5.37683333, 3.91833333, 4.89216664, 5.30483337, 5.48633333,\n",
              "       5.31116671, 5.22316668, 5.12500003, 5.3745    , 5.14300002,\n",
              "       5.08366662, 4.15266667, 5.46850004, 4.18833333, 3.95300001,\n",
              "       4.83166667, 5.40050001, 4.29033334, 4.5923333 , 4.32850001,\n",
              "       5.05733333, 4.36983329, 4.26099998, 4.99183335, 5.2755    ,\n",
              "       5.0631667 , 4.14583335, 3.90983332, 3.95349999, 6.44466667,\n",
              "       5.531     , 3.72666668, 4.78733337, 4.2665    , 4.64633333,\n",
              "       4.2825    , 4.83766668, 4.10383333, 4.12616667, 5.16100001,\n",
              "       4.08816665, 3.85916668, 4.03116668, 4.03483333, 3.671     ,\n",
              "       4.30249999, 3.82866665, 5.32350005, 4.00716665, 4.04766667,\n",
              "       4.06050001, 4.5335    , 4.448     , 3.71033331, 3.30300001,\n",
              "       3.63683331])"
            ]
          },
          "metadata": {},
          "execution_count": 4246
        }
      ]
    },
    {
      "cell_type": "code",
      "source": [
        "x = pd.DataFrame({'Country': testing[\"Country\"].values, 'Actual Score': Y_test['Score'].tolist(), 'Predicted Score': score_pred})\n",
        "x"
      ],
      "metadata": {
        "id": "XroPlFHF0d-8",
        "colab": {
          "base_uri": "https://localhost:8080/",
          "height": 423
        },
        "outputId": "76f4d37f-5a00-423e-eb5b-2072b7dc6605"
      },
      "id": "XroPlFHF0d-8",
      "execution_count": null,
      "outputs": [
        {
          "output_type": "execute_result",
          "data": {
            "text/plain": [
              "                      Country  Actual Score  Predicted Score\n",
              "0                     Finland         7.769         7.255833\n",
              "1                     Denmark         7.600         7.252833\n",
              "2                      Norway         7.554         7.097167\n",
              "3                     Iceland         7.494         7.312167\n",
              "4                 Netherlands         7.488         6.783667\n",
              "..                        ...           ...              ...\n",
              "151                    Rwanda         3.334         4.533500\n",
              "152                  Tanzania         3.231         4.448000\n",
              "153               Afghanistan         3.203         3.710333\n",
              "154  Central African Republic         3.083         3.303000\n",
              "155               South Sudan         2.853         3.636833\n",
              "\n",
              "[156 rows x 3 columns]"
            ],
            "text/html": [
              "\n",
              "  <div id=\"df-06a93f3e-85c1-45b7-96a1-ac18fe2bbf45\">\n",
              "    <div class=\"colab-df-container\">\n",
              "      <div>\n",
              "<style scoped>\n",
              "    .dataframe tbody tr th:only-of-type {\n",
              "        vertical-align: middle;\n",
              "    }\n",
              "\n",
              "    .dataframe tbody tr th {\n",
              "        vertical-align: top;\n",
              "    }\n",
              "\n",
              "    .dataframe thead th {\n",
              "        text-align: right;\n",
              "    }\n",
              "</style>\n",
              "<table border=\"1\" class=\"dataframe\">\n",
              "  <thead>\n",
              "    <tr style=\"text-align: right;\">\n",
              "      <th></th>\n",
              "      <th>Country</th>\n",
              "      <th>Actual Score</th>\n",
              "      <th>Predicted Score</th>\n",
              "    </tr>\n",
              "  </thead>\n",
              "  <tbody>\n",
              "    <tr>\n",
              "      <th>0</th>\n",
              "      <td>Finland</td>\n",
              "      <td>7.769</td>\n",
              "      <td>7.255833</td>\n",
              "    </tr>\n",
              "    <tr>\n",
              "      <th>1</th>\n",
              "      <td>Denmark</td>\n",
              "      <td>7.600</td>\n",
              "      <td>7.252833</td>\n",
              "    </tr>\n",
              "    <tr>\n",
              "      <th>2</th>\n",
              "      <td>Norway</td>\n",
              "      <td>7.554</td>\n",
              "      <td>7.097167</td>\n",
              "    </tr>\n",
              "    <tr>\n",
              "      <th>3</th>\n",
              "      <td>Iceland</td>\n",
              "      <td>7.494</td>\n",
              "      <td>7.312167</td>\n",
              "    </tr>\n",
              "    <tr>\n",
              "      <th>4</th>\n",
              "      <td>Netherlands</td>\n",
              "      <td>7.488</td>\n",
              "      <td>6.783667</td>\n",
              "    </tr>\n",
              "    <tr>\n",
              "      <th>...</th>\n",
              "      <td>...</td>\n",
              "      <td>...</td>\n",
              "      <td>...</td>\n",
              "    </tr>\n",
              "    <tr>\n",
              "      <th>151</th>\n",
              "      <td>Rwanda</td>\n",
              "      <td>3.334</td>\n",
              "      <td>4.533500</td>\n",
              "    </tr>\n",
              "    <tr>\n",
              "      <th>152</th>\n",
              "      <td>Tanzania</td>\n",
              "      <td>3.231</td>\n",
              "      <td>4.448000</td>\n",
              "    </tr>\n",
              "    <tr>\n",
              "      <th>153</th>\n",
              "      <td>Afghanistan</td>\n",
              "      <td>3.203</td>\n",
              "      <td>3.710333</td>\n",
              "    </tr>\n",
              "    <tr>\n",
              "      <th>154</th>\n",
              "      <td>Central African Republic</td>\n",
              "      <td>3.083</td>\n",
              "      <td>3.303000</td>\n",
              "    </tr>\n",
              "    <tr>\n",
              "      <th>155</th>\n",
              "      <td>South Sudan</td>\n",
              "      <td>2.853</td>\n",
              "      <td>3.636833</td>\n",
              "    </tr>\n",
              "  </tbody>\n",
              "</table>\n",
              "<p>156 rows × 3 columns</p>\n",
              "</div>\n",
              "      <button class=\"colab-df-convert\" onclick=\"convertToInteractive('df-06a93f3e-85c1-45b7-96a1-ac18fe2bbf45')\"\n",
              "              title=\"Convert this dataframe to an interactive table.\"\n",
              "              style=\"display:none;\">\n",
              "        \n",
              "  <svg xmlns=\"http://www.w3.org/2000/svg\" height=\"24px\"viewBox=\"0 0 24 24\"\n",
              "       width=\"24px\">\n",
              "    <path d=\"M0 0h24v24H0V0z\" fill=\"none\"/>\n",
              "    <path d=\"M18.56 5.44l.94 2.06.94-2.06 2.06-.94-2.06-.94-.94-2.06-.94 2.06-2.06.94zm-11 1L8.5 8.5l.94-2.06 2.06-.94-2.06-.94L8.5 2.5l-.94 2.06-2.06.94zm10 10l.94 2.06.94-2.06 2.06-.94-2.06-.94-.94-2.06-.94 2.06-2.06.94z\"/><path d=\"M17.41 7.96l-1.37-1.37c-.4-.4-.92-.59-1.43-.59-.52 0-1.04.2-1.43.59L10.3 9.45l-7.72 7.72c-.78.78-.78 2.05 0 2.83L4 21.41c.39.39.9.59 1.41.59.51 0 1.02-.2 1.41-.59l7.78-7.78 2.81-2.81c.8-.78.8-2.07 0-2.86zM5.41 20L4 18.59l7.72-7.72 1.47 1.35L5.41 20z\"/>\n",
              "  </svg>\n",
              "      </button>\n",
              "      \n",
              "  <style>\n",
              "    .colab-df-container {\n",
              "      display:flex;\n",
              "      flex-wrap:wrap;\n",
              "      gap: 12px;\n",
              "    }\n",
              "\n",
              "    .colab-df-convert {\n",
              "      background-color: #E8F0FE;\n",
              "      border: none;\n",
              "      border-radius: 50%;\n",
              "      cursor: pointer;\n",
              "      display: none;\n",
              "      fill: #1967D2;\n",
              "      height: 32px;\n",
              "      padding: 0 0 0 0;\n",
              "      width: 32px;\n",
              "    }\n",
              "\n",
              "    .colab-df-convert:hover {\n",
              "      background-color: #E2EBFA;\n",
              "      box-shadow: 0px 1px 2px rgba(60, 64, 67, 0.3), 0px 1px 3px 1px rgba(60, 64, 67, 0.15);\n",
              "      fill: #174EA6;\n",
              "    }\n",
              "\n",
              "    [theme=dark] .colab-df-convert {\n",
              "      background-color: #3B4455;\n",
              "      fill: #D2E3FC;\n",
              "    }\n",
              "\n",
              "    [theme=dark] .colab-df-convert:hover {\n",
              "      background-color: #434B5C;\n",
              "      box-shadow: 0px 1px 3px 1px rgba(0, 0, 0, 0.15);\n",
              "      filter: drop-shadow(0px 1px 2px rgba(0, 0, 0, 0.3));\n",
              "      fill: #FFFFFF;\n",
              "    }\n",
              "  </style>\n",
              "\n",
              "      <script>\n",
              "        const buttonEl =\n",
              "          document.querySelector('#df-06a93f3e-85c1-45b7-96a1-ac18fe2bbf45 button.colab-df-convert');\n",
              "        buttonEl.style.display =\n",
              "          google.colab.kernel.accessAllowed ? 'block' : 'none';\n",
              "\n",
              "        async function convertToInteractive(key) {\n",
              "          const element = document.querySelector('#df-06a93f3e-85c1-45b7-96a1-ac18fe2bbf45');\n",
              "          const dataTable =\n",
              "            await google.colab.kernel.invokeFunction('convertToInteractive',\n",
              "                                                     [key], {});\n",
              "          if (!dataTable) return;\n",
              "\n",
              "          const docLinkHtml = 'Like what you see? Visit the ' +\n",
              "            '<a target=\"_blank\" href=https://colab.research.google.com/notebooks/data_table.ipynb>data table notebook</a>'\n",
              "            + ' to learn more about interactive tables.';\n",
              "          element.innerHTML = '';\n",
              "          dataTable['output_type'] = 'display_data';\n",
              "          await google.colab.output.renderOutput(dataTable, element);\n",
              "          const docLink = document.createElement('div');\n",
              "          docLink.innerHTML = docLinkHtml;\n",
              "          element.appendChild(docLink);\n",
              "        }\n",
              "      </script>\n",
              "    </div>\n",
              "  </div>\n",
              "  "
            ]
          },
          "metadata": {},
          "execution_count": 4247
        }
      ]
    },
    {
      "cell_type": "code",
      "source": [
        "fig, ax = plt.subplots(figsize=(10, 8))\n",
        "plt.scatter(Y_test, score_pred ,s = 10)\n",
        "plt.xlabel('Actual Score',fontsize=15)\n",
        "plt.ylabel('Predicted Score',fontsize=15)\n",
        "plt.title('Actual vs Predicted Happiness Score 2019 (KNN)',fontweight='bold',fontsize=25)\n",
        "\n",
        "min = np.min([ax.get_xlim(), ax.get_ylim()])\n",
        "max = np.max([ax.get_xlim(), ax.get_ylim()])\n",
        "\n",
        "ax.plot([min, max], [min, max])\n",
        "ax.axis('equal')"
      ],
      "metadata": {
        "id": "87rsEtQV0eKw",
        "colab": {
          "base_uri": "https://localhost:8080/",
          "height": 545
        },
        "outputId": "f664f236-d4a1-499c-dfba-a518b13d8488"
      },
      "id": "87rsEtQV0eKw",
      "execution_count": null,
      "outputs": [
        {
          "output_type": "execute_result",
          "data": {
            "text/plain": [
              "(2.3368200000000003, 8.28518, 2.3368200000000003, 8.28518)"
            ]
          },
          "metadata": {},
          "execution_count": 4248
        },
        {
          "output_type": "display_data",
          "data": {
            "text/plain": [
              "<Figure size 720x576 with 1 Axes>"
            ],
            "image/png": "[encoded data removed]"
          },
          "metadata": {
            "needs_background": "light"
          }
        }
      ]
    },
    {
      "cell_type": "code",
      "source": [
        "Actual = pd.DataFrame({'Country': testing[\"Country\"].values, 'Actual': testing[\"Rank\"].values })\n",
        "Actual['Predicted'] = x['Predicted Score'].rank(ascending=False)\n",
        "Actual['Predicted'] = Actual['Predicted'].astype(int)\n",
        "Actual"
      ],
      "metadata": {
        "id": "RZbX7GbFOBjH",
        "colab": {
          "base_uri": "https://localhost:8080/",
          "height": 423
        },
        "outputId": "cc3f2505-fbab-4526-a552-edec17353e5a"
      },
      "id": "RZbX7GbFOBjH",
      "execution_count": null,
      "outputs": [
        {
          "output_type": "execute_result",
          "data": {
            "text/plain": [
              "                      Country  Actual  Predicted\n",
              "0                     Finland       1          2\n",
              "1                     Denmark       2          3\n",
              "2                      Norway       3          5\n",
              "3                     Iceland       4          1\n",
              "4                 Netherlands       5         11\n",
              "..                        ...     ...        ...\n",
              "151                    Rwanda     152        123\n",
              "152                  Tanzania     153        125\n",
              "153               Afghanistan     154        153\n",
              "154  Central African Republic     155        156\n",
              "155               South Sudan     156        155\n",
              "\n",
              "[156 rows x 3 columns]"
            ],
            "text/html": [
              "\n",
              "  <div id=\"df-6bc11bec-f552-4c74-867b-c7568ea3b2ae\">\n",
              "    <div class=\"colab-df-container\">\n",
              "      <div>\n",
              "<style scoped>\n",
              "    .dataframe tbody tr th:only-of-type {\n",
              "        vertical-align: middle;\n",
              "    }\n",
              "\n",
              "    .dataframe tbody tr th {\n",
              "        vertical-align: top;\n",
              "    }\n",
              "\n",
              "    .dataframe thead th {\n",
              "        text-align: right;\n",
              "    }\n",
              "</style>\n",
              "<table border=\"1\" class=\"dataframe\">\n",
              "  <thead>\n",
              "    <tr style=\"text-align: right;\">\n",
              "      <th></th>\n",
              "      <th>Country</th>\n",
              "      <th>Actual</th>\n",
              "      <th>Predicted</th>\n",
              "    </tr>\n",
              "  </thead>\n",
              "  <tbody>\n",
              "    <tr>\n",
              "      <th>0</th>\n",
              "      <td>Finland</td>\n",
              "      <td>1</td>\n",
              "      <td>2</td>\n",
              "    </tr>\n",
              "    <tr>\n",
              "      <th>1</th>\n",
              "      <td>Denmark</td>\n",
              "      <td>2</td>\n",
              "      <td>3</td>\n",
              "    </tr>\n",
              "    <tr>\n",
              "      <th>2</th>\n",
              "      <td>Norway</td>\n",
              "      <td>3</td>\n",
              "      <td>5</td>\n",
              "    </tr>\n",
              "    <tr>\n",
              "      <th>3</th>\n",
              "      <td>Iceland</td>\n",
              "      <td>4</td>\n",
              "      <td>1</td>\n",
              "    </tr>\n",
              "    <tr>\n",
              "      <th>4</th>\n",
              "      <td>Netherlands</td>\n",
              "      <td>5</td>\n",
              "      <td>11</td>\n",
              "    </tr>\n",
              "    <tr>\n",
              "      <th>...</th>\n",
              "      <td>...</td>\n",
              "      <td>...</td>\n",
              "      <td>...</td>\n",
              "    </tr>\n",
              "    <tr>\n",
              "      <th>151</th>\n",
              "      <td>Rwanda</td>\n",
              "      <td>152</td>\n",
              "      <td>123</td>\n",
              "    </tr>\n",
              "    <tr>\n",
              "      <th>152</th>\n",
              "      <td>Tanzania</td>\n",
              "      <td>153</td>\n",
              "      <td>125</td>\n",
              "    </tr>\n",
              "    <tr>\n",
              "      <th>153</th>\n",
              "      <td>Afghanistan</td>\n",
              "      <td>154</td>\n",
              "      <td>153</td>\n",
              "    </tr>\n",
              "    <tr>\n",
              "      <th>154</th>\n",
              "      <td>Central African Republic</td>\n",
              "      <td>155</td>\n",
              "      <td>156</td>\n",
              "    </tr>\n",
              "    <tr>\n",
              "      <th>155</th>\n",
              "      <td>South Sudan</td>\n",
              "      <td>156</td>\n",
              "      <td>155</td>\n",
              "    </tr>\n",
              "  </tbody>\n",
              "</table>\n",
              "<p>156 rows × 3 columns</p>\n",
              "</div>\n",
              "      <button class=\"colab-df-convert\" onclick=\"convertToInteractive('df-6bc11bec-f552-4c74-867b-c7568ea3b2ae')\"\n",
              "              title=\"Convert this dataframe to an interactive table.\"\n",
              "              style=\"display:none;\">\n",
              "        \n",
              "  <svg xmlns=\"http://www.w3.org/2000/svg\" height=\"24px\"viewBox=\"0 0 24 24\"\n",
              "       width=\"24px\">\n",
              "    <path d=\"M0 0h24v24H0V0z\" fill=\"none\"/>\n",
              "    <path d=\"M18.56 5.44l.94 2.06.94-2.06 2.06-.94-2.06-.94-.94-2.06-.94 2.06-2.06.94zm-11 1L8.5 8.5l.94-2.06 2.06-.94-2.06-.94L8.5 2.5l-.94 2.06-2.06.94zm10 10l.94 2.06.94-2.06 2.06-.94-2.06-.94-.94-2.06-.94 2.06-2.06.94z\"/><path d=\"M17.41 7.96l-1.37-1.37c-.4-.4-.92-.59-1.43-.59-.52 0-1.04.2-1.43.59L10.3 9.45l-7.72 7.72c-.78.78-.78 2.05 0 2.83L4 21.41c.39.39.9.59 1.41.59.51 0 1.02-.2 1.41-.59l7.78-7.78 2.81-2.81c.8-.78.8-2.07 0-2.86zM5.41 20L4 18.59l7.72-7.72 1.47 1.35L5.41 20z\"/>\n",
              "  </svg>\n",
              "      </button>\n",
              "      \n",
              "  <style>\n",
              "    .colab-df-container {\n",
              "      display:flex;\n",
              "      flex-wrap:wrap;\n",
              "      gap: 12px;\n",
              "    }\n",
              "\n",
              "    .colab-df-convert {\n",
              "      background-color: #E8F0FE;\n",
              "      border: none;\n",
              "      border-radius: 50%;\n",
              "      cursor: pointer;\n",
              "      display: none;\n",
              "      fill: #1967D2;\n",
              "      height: 32px;\n",
              "      padding: 0 0 0 0;\n",
              "      width: 32px;\n",
              "    }\n",
              "\n",
              "    .colab-df-convert:hover {\n",
              "      background-color: #E2EBFA;\n",
              "      box-shadow: 0px 1px 2px rgba(60, 64, 67, 0.3), 0px 1px 3px 1px rgba(60, 64, 67, 0.15);\n",
              "      fill: #174EA6;\n",
              "    }\n",
              "\n",
              "    [theme=dark] .colab-df-convert {\n",
              "      background-color: #3B4455;\n",
              "      fill: #D2E3FC;\n",
              "    }\n",
              "\n",
              "    [theme=dark] .colab-df-convert:hover {\n",
              "      background-color: #434B5C;\n",
              "      box-shadow: 0px 1px 3px 1px rgba(0, 0, 0, 0.15);\n",
              "      filter: drop-shadow(0px 1px 2px rgba(0, 0, 0, 0.3));\n",
              "      fill: #FFFFFF;\n",
              "    }\n",
              "  </style>\n",
              "\n",
              "      <script>\n",
              "        const buttonEl =\n",
              "          document.querySelector('#df-6bc11bec-f552-4c74-867b-c7568ea3b2ae button.colab-df-convert');\n",
              "        buttonEl.style.display =\n",
              "          google.colab.kernel.accessAllowed ? 'block' : 'none';\n",
              "\n",
              "        async function convertToInteractive(key) {\n",
              "          const element = document.querySelector('#df-6bc11bec-f552-4c74-867b-c7568ea3b2ae');\n",
              "          const dataTable =\n",
              "            await google.colab.kernel.invokeFunction('convertToInteractive',\n",
              "                                                     [key], {});\n",
              "          if (!dataTable) return;\n",
              "\n",
              "          const docLinkHtml = 'Like what you see? Visit the ' +\n",
              "            '<a target=\"_blank\" href=https://colab.research.google.com/notebooks/data_table.ipynb>data table notebook</a>'\n",
              "            + ' to learn more about interactive tables.';\n",
              "          element.innerHTML = '';\n",
              "          dataTable['output_type'] = 'display_data';\n",
              "          await google.colab.output.renderOutput(dataTable, element);\n",
              "          const docLink = document.createElement('div');\n",
              "          docLink.innerHTML = docLinkHtml;\n",
              "          element.appendChild(docLink);\n",
              "        }\n",
              "      </script>\n",
              "    </div>\n",
              "  </div>\n",
              "  "
            ]
          },
          "metadata": {},
          "execution_count": 4249
        }
      ]
    },
    {
      "cell_type": "code",
      "source": [
        "print('Score:', knn_model.score(X_test, Y_test)) ## Accuracy of around 77.30%"
      ],
      "metadata": {
        "id": "bgnaSL16OfMY",
        "colab": {
          "base_uri": "https://localhost:8080/"
        },
        "outputId": "4de91acf-619c-4a83-c8d1-50ae77455180"
      },
      "id": "bgnaSL16OfMY",
      "execution_count": null,
      "outputs": [
        {
          "output_type": "stream",
          "name": "stdout",
          "text": [
            "Score: 0.773050524334173\n"
          ]
        }
      ]
    },
    {
      "cell_type": "code",
      "source": [
        "test_mse = mean_squared_error(Y_test, score_pred, squared=False)\n",
        "test_rmse = np.sqrt(test_mse)\n",
        "print('Root Mean Squared Error:', test_rmse)"
      ],
      "metadata": {
        "id": "cAQtToqaPqV8",
        "colab": {
          "base_uri": "https://localhost:8080/"
        },
        "outputId": "1950d81b-4636-4795-822f-80914ef449a8"
      },
      "id": "cAQtToqaPqV8",
      "execution_count": null,
      "outputs": [
        {
          "output_type": "stream",
          "name": "stdout",
          "text": [
            "Root Mean Squared Error: 0.7270345307165752\n"
          ]
        }
      ]
    },
    {
      "cell_type": "markdown",
      "source": [
        "# **Random Forest Regression**\n",
        "\n",
        "---\n",
        "\n",
        "\n",
        "\n",
        "\n",
        "Model 3 (by Acero)"
      ],
      "metadata": {
        "id": "vYRiFO7Y0ene"
      },
      "id": "vYRiFO7Y0ene"
    },
    {
      "cell_type": "code",
      "source": [
        "# imports\n",
        "import numpy as np\n",
        "import matplotlib.pyplot as plt\n",
        "import pandas as pd\n",
        "from sklearn.ensemble import RandomForestRegressor\n",
        "\n",
        "\n",
        "# make instance of Regressor\n",
        "\n",
        "training2 = happiness[happiness.Year < 2019]\n",
        "\n",
        "Y_training2 = training['Score']\n",
        "X_training2 = training2[[\"GDP per Capita\", \"Life Expectancy\", 'Family/Social Support', 'Freedom']]\n",
        "\n",
        "\n",
        "\n",
        "\n",
        "regressor = RandomForestRegressor(n_estimators = 100, random_state = 0)\n",
        "regressor.fit(X_training2, Y_training2)\n",
        "prediction = regressor.predict(X_test)\n",
        "prediction = prediction.flatten()\n",
        "prediction"
      ],
      "metadata": {
        "colab": {
          "base_uri": "https://localhost:8080/"
        },
        "id": "Yx1Tq1mkhPT0",
        "outputId": "a9fea250-fc39-4f47-ab02-c03baa48e8b5"
      },
      "id": "Yx1Tq1mkhPT0",
      "execution_count": null,
      "outputs": [
        {
          "output_type": "execute_result",
          "data": {
            "text/plain": [
              "array([6.18689   , 6.18919   , 6.45103   , 6.17094   , 6.13121   ,\n",
              "       6.27309   , 6.19938   , 6.19413   , 6.16344999, 5.90277001,\n",
              "       6.08151   , 6.46843   , 6.22733998, 5.98183002, 6.09891   ,\n",
              "       5.84060003, 5.84103002, 6.01314001, 6.32539999, 6.345     ,\n",
              "       7.26867994, 6.12709   , 6.59627   , 6.07756   , 6.09478997,\n",
              "       6.00627999, 5.78578999, 6.53526998, 6.79410998, 6.18648998,\n",
              "       5.98529   , 5.27415   , 6.07559   , 6.38071001, 5.68678999,\n",
              "       5.90976001, 6.74468999, 6.19823999, 6.10709003, 6.26641   ,\n",
              "       5.7553    , 5.82605002, 6.65630999, 6.41417   , 5.98329   ,\n",
              "       5.92499   , 6.41711998, 6.12583   , 6.30029   , 6.1312    ,\n",
              "       6.53611003, 6.65967   , 5.64344003, 5.64020003, 6.39505001,\n",
              "       6.06945   , 6.14005001, 6.09831   , 6.049     , 6.09203001,\n",
              "       5.69286   , 5.57134003, 5.83231   , 6.20592   , 6.62942999,\n",
              "       6.07930001, 5.03757   , 5.91715   , 5.52635997, 5.08306   ,\n",
              "       5.28053999, 6.15134   , 5.39191   , 5.12658   , 5.56564001,\n",
              "       5.83388001, 6.19740999, 5.13406001, 5.55543002, 5.97692999,\n",
              "       5.31515   , 5.42977002, 5.09544   , 5.29928001, 4.48829997,\n",
              "       5.48891   , 5.82219   , 4.76967001, 4.94912001, 5.22313001,\n",
              "       5.06222002, 5.57842998, 6.42698   , 6.24092   , 5.37378999,\n",
              "       4.24287999, 5.3974    , 4.95417001, 4.36200999, 5.45835999,\n",
              "       5.31718   , 4.10138   , 5.22307001, 5.35990004, 5.48886   ,\n",
              "       5.27307   , 5.39408001, 4.86133003, 5.47938   , 5.31262996,\n",
              "       5.07895004, 4.31801   , 5.26230001, 4.1156    , 4.03527   ,\n",
              "       4.85378   , 5.17932   , 3.96368   , 4.80213999, 4.20203   ,\n",
              "       5.06381   , 4.63307002, 4.08123001, 4.91644   , 5.25951999,\n",
              "       5.34490003, 4.23943001, 4.08747999, 3.82846999, 6.51659999,\n",
              "       5.55632001, 3.90871   , 4.74449001, 4.95169001, 4.65048   ,\n",
              "       4.61683999, 5.07854001, 4.55435001, 4.1208    , 5.01655001,\n",
              "       4.66841   , 4.75897   , 4.79963   , 4.2472    , 3.65522001,\n",
              "       4.37255999, 3.86136998, 5.63720002, 3.94916998, 4.48791999,\n",
              "       4.60525002, 4.52362998, 4.91688998, 3.71498999, 3.13729003,\n",
              "       3.60563999])"
            ]
          },
          "metadata": {},
          "execution_count": 4252
        }
      ]
    },
    {
      "cell_type": "code",
      "source": [
        "# Comparing values\n",
        "compareFrame = pd.DataFrame({'Country': testing[\"Country\"].values, 'Actual Score': Y_test['Score'].tolist(), 'Predicted Score': prediction})\n",
        "compareFrame"
      ],
      "metadata": {
        "id": "qOPRA_LaOAZB",
        "colab": {
          "base_uri": "https://localhost:8080/"
        },
        "outputId": "00bd906b-2353-4699-ac39-006f64928ebe"
      },
      "id": "qOPRA_LaOAZB",
      "execution_count": null,
      "outputs": [
        {
          "output_type": "execute_result",
          "data": {
            "text/plain": [
              "                      Country  Actual Score  Predicted Score\n",
              "0                     Finland         7.769          6.18689\n",
              "1                     Denmark         7.600          6.18919\n",
              "2                      Norway         7.554          6.45103\n",
              "3                     Iceland         7.494          6.17094\n",
              "4                 Netherlands         7.488          6.13121\n",
              "..                        ...           ...              ...\n",
              "151                    Rwanda         3.334          4.52363\n",
              "152                  Tanzania         3.231          4.91689\n",
              "153               Afghanistan         3.203          3.71499\n",
              "154  Central African Republic         3.083          3.13729\n",
              "155               South Sudan         2.853          3.60564\n",
              "\n",
              "[156 rows x 3 columns]"
            ],
            "text/html": [
              "\n",
              "  <div id=\"df-f553b233-52c8-47cd-a051-2b31496a0cf7\">\n",
              "    <div class=\"colab-df-container\">\n",
              "      <div>\n",
              "<style scoped>\n",
              "    .dataframe tbody tr th:only-of-type {\n",
              "        vertical-align: middle;\n",
              "    }\n",
              "\n",
              "    .dataframe tbody tr th {\n",
              "        vertical-align: top;\n",
              "    }\n",
              "\n",
              "    .dataframe thead th {\n",
              "        text-align: right;\n",
              "    }\n",
              "</style>\n",
              "<table border=\"1\" class=\"dataframe\">\n",
              "  <thead>\n",
              "    <tr style=\"text-align: right;\">\n",
              "      <th></th>\n",
              "      <th>Country</th>\n",
              "      <th>Actual Score</th>\n",
              "      <th>Predicted Score</th>\n",
              "    </tr>\n",
              "  </thead>\n",
              "  <tbody>\n",
              "    <tr>\n",
              "      <th>0</th>\n",
              "      <td>Finland</td>\n",
              "      <td>7.769</td>\n",
              "      <td>6.18689</td>\n",
              "    </tr>\n",
              "    <tr>\n",
              "      <th>1</th>\n",
              "      <td>Denmark</td>\n",
              "      <td>7.600</td>\n",
              "      <td>6.18919</td>\n",
              "    </tr>\n",
              "    <tr>\n",
              "      <th>2</th>\n",
              "      <td>Norway</td>\n",
              "      <td>7.554</td>\n",
              "      <td>6.45103</td>\n",
              "    </tr>\n",
              "    <tr>\n",
              "      <th>3</th>\n",
              "      <td>Iceland</td>\n",
              "      <td>7.494</td>\n",
              "      <td>6.17094</td>\n",
              "    </tr>\n",
              "    <tr>\n",
              "      <th>4</th>\n",
              "      <td>Netherlands</td>\n",
              "      <td>7.488</td>\n",
              "      <td>6.13121</td>\n",
              "    </tr>\n",
              "    <tr>\n",
              "      <th>...</th>\n",
              "      <td>...</td>\n",
              "      <td>...</td>\n",
              "      <td>...</td>\n",
              "    </tr>\n",
              "    <tr>\n",
              "      <th>151</th>\n",
              "      <td>Rwanda</td>\n",
              "      <td>3.334</td>\n",
              "      <td>4.52363</td>\n",
              "    </tr>\n",
              "    <tr>\n",
              "      <th>152</th>\n",
              "      <td>Tanzania</td>\n",
              "      <td>3.231</td>\n",
              "      <td>4.91689</td>\n",
              "    </tr>\n",
              "    <tr>\n",
              "      <th>153</th>\n",
              "      <td>Afghanistan</td>\n",
              "      <td>3.203</td>\n",
              "      <td>3.71499</td>\n",
              "    </tr>\n",
              "    <tr>\n",
              "      <th>154</th>\n",
              "      <td>Central African Republic</td>\n",
              "      <td>3.083</td>\n",
              "      <td>3.13729</td>\n",
              "    </tr>\n",
              "    <tr>\n",
              "      <th>155</th>\n",
              "      <td>South Sudan</td>\n",
              "      <td>2.853</td>\n",
              "      <td>3.60564</td>\n",
              "    </tr>\n",
              "  </tbody>\n",
              "</table>\n",
              "<p>156 rows × 3 columns</p>\n",
              "</div>\n",
              "      <button class=\"colab-df-convert\" onclick=\"convertToInteractive('df-f553b233-52c8-47cd-a051-2b31496a0cf7')\"\n",
              "              title=\"Convert this dataframe to an interactive table.\"\n",
              "              style=\"display:none;\">\n",
              "        \n",
              "  <svg xmlns=\"http://www.w3.org/2000/svg\" height=\"24px\"viewBox=\"0 0 24 24\"\n",
              "       width=\"24px\">\n",
              "    <path d=\"M0 0h24v24H0V0z\" fill=\"none\"/>\n",
              "    <path d=\"M18.56 5.44l.94 2.06.94-2.06 2.06-.94-2.06-.94-.94-2.06-.94 2.06-2.06.94zm-11 1L8.5 8.5l.94-2.06 2.06-.94-2.06-.94L8.5 2.5l-.94 2.06-2.06.94zm10 10l.94 2.06.94-2.06 2.06-.94-2.06-.94-.94-2.06-.94 2.06-2.06.94z\"/><path d=\"M17.41 7.96l-1.37-1.37c-.4-.4-.92-.59-1.43-.59-.52 0-1.04.2-1.43.59L10.3 9.45l-7.72 7.72c-.78.78-.78 2.05 0 2.83L4 21.41c.39.39.9.59 1.41.59.51 0 1.02-.2 1.41-.59l7.78-7.78 2.81-2.81c.8-.78.8-2.07 0-2.86zM5.41 20L4 18.59l7.72-7.72 1.47 1.35L5.41 20z\"/>\n",
              "  </svg>\n",
              "      </button>\n",
              "      \n",
              "  <style>\n",
              "    .colab-df-container {\n",
              "      display:flex;\n",
              "      flex-wrap:wrap;\n",
              "      gap: 12px;\n",
              "    }\n",
              "\n",
              "    .colab-df-convert {\n",
              "      background-color: #E8F0FE;\n",
              "      border: none;\n",
              "      border-radius: 50%;\n",
              "      cursor: pointer;\n",
              "      display: none;\n",
              "      fill: #1967D2;\n",
              "      height: 32px;\n",
              "      padding: 0 0 0 0;\n",
              "      width: 32px;\n",
              "    }\n",
              "\n",
              "    .colab-df-convert:hover {\n",
              "      background-color: #E2EBFA;\n",
              "      box-shadow: 0px 1px 2px rgba(60, 64, 67, 0.3), 0px 1px 3px 1px rgba(60, 64, 67, 0.15);\n",
              "      fill: #174EA6;\n",
              "    }\n",
              "\n",
              "    [theme=dark] .colab-df-convert {\n",
              "      background-color: #3B4455;\n",
              "      fill: #D2E3FC;\n",
              "    }\n",
              "\n",
              "    [theme=dark] .colab-df-convert:hover {\n",
              "      background-color: #434B5C;\n",
              "      box-shadow: 0px 1px 3px 1px rgba(0, 0, 0, 0.15);\n",
              "      filter: drop-shadow(0px 1px 2px rgba(0, 0, 0, 0.3));\n",
              "      fill: #FFFFFF;\n",
              "    }\n",
              "  </style>\n",
              "\n",
              "      <script>\n",
              "        const buttonEl =\n",
              "          document.querySelector('#df-f553b233-52c8-47cd-a051-2b31496a0cf7 button.colab-df-convert');\n",
              "        buttonEl.style.display =\n",
              "          google.colab.kernel.accessAllowed ? 'block' : 'none';\n",
              "\n",
              "        async function convertToInteractive(key) {\n",
              "          const element = document.querySelector('#df-f553b233-52c8-47cd-a051-2b31496a0cf7');\n",
              "          const dataTable =\n",
              "            await google.colab.kernel.invokeFunction('convertToInteractive',\n",
              "                                                     [key], {});\n",
              "          if (!dataTable) return;\n",
              "\n",
              "          const docLinkHtml = 'Like what you see? Visit the ' +\n",
              "            '<a target=\"_blank\" href=https://colab.research.google.com/notebooks/data_table.ipynb>data table notebook</a>'\n",
              "            + ' to learn more about interactive tables.';\n",
              "          element.innerHTML = '';\n",
              "          dataTable['output_type'] = 'display_data';\n",
              "          await google.colab.output.renderOutput(dataTable, element);\n",
              "          const docLink = document.createElement('div');\n",
              "          docLink.innerHTML = docLinkHtml;\n",
              "          element.appendChild(docLink);\n",
              "        }\n",
              "      </script>\n",
              "    </div>\n",
              "  </div>\n",
              "  "
            ]
          },
          "metadata": {},
          "execution_count": 4253
        }
      ]
    },
    {
      "cell_type": "code",
      "source": [
        "# Figure with scatter plot\n",
        "fig, ax = plt.subplots(figsize=(10, 8))\n",
        "plt.scatter(Y_test, prediction, s = 10)\n",
        "plt.xlabel('Actual Score',fontsize=15)\n",
        "plt.ylabel('Predicted Score',fontsize=15)\n",
        "plt.title('Actual vs Predicted Happiness Score 2019 (Forest)',fontweight='bold',fontsize=25)\n",
        "\n",
        "min = np.min([ax.get_xlim(), ax.get_ylim()])\n",
        "max = np.max([ax.get_xlim(), ax.get_ylim()])\n",
        "\n",
        "ax.plot([min, max], [min, max])\n",
        "ax.axis('equal')"
      ],
      "metadata": {
        "id": "U5V5tXvL0i6x",
        "colab": {
          "base_uri": "https://localhost:8080/",
          "height": 545
        },
        "outputId": "e5e06104-d138-42ef-fa0b-688bf0861be3"
      },
      "id": "U5V5tXvL0i6x",
      "execution_count": null,
      "outputs": [
        {
          "output_type": "execute_result",
          "data": {
            "text/plain": [
              "(2.3368200000000003, 8.28518, 2.3368200000000003, 8.28518)"
            ]
          },
          "metadata": {},
          "execution_count": 4254
        },
        {
          "output_type": "display_data",
          "data": {
            "text/plain": [
              "<Figure size 720x576 with 1 Axes>"
            ],
            "image/png": "[encoded data removed]"
          },
          "metadata": {
            "needs_background": "light"
          }
        }
      ]
    },
    {
      "cell_type": "code",
      "source": [
        "Actual = pd.DataFrame({'Country': testing[\"Country\"].values, 'Actual': testing[\"Rank\"].values })\n",
        "Actual['Predicted'] = compareFrame['Predicted Score'].rank(ascending=False)\n",
        "Actual['Predicted'] = Actual['Predicted'].astype(int)\n",
        "Actual"
      ],
      "metadata": {
        "id": "5wWY4FwZ0jHX",
        "colab": {
          "base_uri": "https://localhost:8080/",
          "height": 423
        },
        "outputId": "8183f221-4eec-45f3-e34e-908f490e5896"
      },
      "id": "5wWY4FwZ0jHX",
      "execution_count": null,
      "outputs": [
        {
          "output_type": "execute_result",
          "data": {
            "text/plain": [
              "                      Country  Actual  Predicted\n",
              "0                     Finland       1         31\n",
              "1                     Denmark       2         30\n",
              "2                      Norway       3         12\n",
              "3                     Iceland       4         33\n",
              "4                 Netherlands       5         37\n",
              "..                        ...     ...        ...\n",
              "151                    Rwanda     152        132\n",
              "152                  Tanzania     153        117\n",
              "153               Afghanistan     154        153\n",
              "154  Central African Republic     155        156\n",
              "155               South Sudan     156        155\n",
              "\n",
              "[156 rows x 3 columns]"
            ],
            "text/html": [
              "\n",
              "  <div id=\"df-64f4bad9-8bf6-4198-b515-b4cb1dcf1ebd\">\n",
              "    <div class=\"colab-df-container\">\n",
              "      <div>\n",
              "<style scoped>\n",
              "    .dataframe tbody tr th:only-of-type {\n",
              "        vertical-align: middle;\n",
              "    }\n",
              "\n",
              "    .dataframe tbody tr th {\n",
              "        vertical-align: top;\n",
              "    }\n",
              "\n",
              "    .dataframe thead th {\n",
              "        text-align: right;\n",
              "    }\n",
              "</style>\n",
              "<table border=\"1\" class=\"dataframe\">\n",
              "  <thead>\n",
              "    <tr style=\"text-align: right;\">\n",
              "      <th></th>\n",
              "      <th>Country</th>\n",
              "      <th>Actual</th>\n",
              "      <th>Predicted</th>\n",
              "    </tr>\n",
              "  </thead>\n",
              "  <tbody>\n",
              "    <tr>\n",
              "      <th>0</th>\n",
              "      <td>Finland</td>\n",
              "      <td>1</td>\n",
              "      <td>31</td>\n",
              "    </tr>\n",
              "    <tr>\n",
              "      <th>1</th>\n",
              "      <td>Denmark</td>\n",
              "      <td>2</td>\n",
              "      <td>30</td>\n",
              "    </tr>\n",
              "    <tr>\n",
              "      <th>2</th>\n",
              "      <td>Norway</td>\n",
              "      <td>3</td>\n",
              "      <td>12</td>\n",
              "    </tr>\n",
              "    <tr>\n",
              "      <th>3</th>\n",
              "      <td>Iceland</td>\n",
              "      <td>4</td>\n",
              "      <td>33</td>\n",
              "    </tr>\n",
              "    <tr>\n",
              "      <th>4</th>\n",
              "      <td>Netherlands</td>\n",
              "      <td>5</td>\n",
              "      <td>37</td>\n",
              "    </tr>\n",
              "    <tr>\n",
              "      <th>...</th>\n",
              "      <td>...</td>\n",
              "      <td>...</td>\n",
              "      <td>...</td>\n",
              "    </tr>\n",
              "    <tr>\n",
              "      <th>151</th>\n",
              "      <td>Rwanda</td>\n",
              "      <td>152</td>\n",
              "      <td>132</td>\n",
              "    </tr>\n",
              "    <tr>\n",
              "      <th>152</th>\n",
              "      <td>Tanzania</td>\n",
              "      <td>153</td>\n",
              "      <td>117</td>\n",
              "    </tr>\n",
              "    <tr>\n",
              "      <th>153</th>\n",
              "      <td>Afghanistan</td>\n",
              "      <td>154</td>\n",
              "      <td>153</td>\n",
              "    </tr>\n",
              "    <tr>\n",
              "      <th>154</th>\n",
              "      <td>Central African Republic</td>\n",
              "      <td>155</td>\n",
              "      <td>156</td>\n",
              "    </tr>\n",
              "    <tr>\n",
              "      <th>155</th>\n",
              "      <td>South Sudan</td>\n",
              "      <td>156</td>\n",
              "      <td>155</td>\n",
              "    </tr>\n",
              "  </tbody>\n",
              "</table>\n",
              "<p>156 rows × 3 columns</p>\n",
              "</div>\n",
              "      <button class=\"colab-df-convert\" onclick=\"convertToInteractive('df-64f4bad9-8bf6-4198-b515-b4cb1dcf1ebd')\"\n",
              "              title=\"Convert this dataframe to an interactive table.\"\n",
              "              style=\"display:none;\">\n",
              "        \n",
              "  <svg xmlns=\"http://www.w3.org/2000/svg\" height=\"24px\"viewBox=\"0 0 24 24\"\n",
              "       width=\"24px\">\n",
              "    <path d=\"M0 0h24v24H0V0z\" fill=\"none\"/>\n",
              "    <path d=\"M18.56 5.44l.94 2.06.94-2.06 2.06-.94-2.06-.94-.94-2.06-.94 2.06-2.06.94zm-11 1L8.5 8.5l.94-2.06 2.06-.94-2.06-.94L8.5 2.5l-.94 2.06-2.06.94zm10 10l.94 2.06.94-2.06 2.06-.94-2.06-.94-.94-2.06-.94 2.06-2.06.94z\"/><path d=\"M17.41 7.96l-1.37-1.37c-.4-.4-.92-.59-1.43-.59-.52 0-1.04.2-1.43.59L10.3 9.45l-7.72 7.72c-.78.78-.78 2.05 0 2.83L4 21.41c.39.39.9.59 1.41.59.51 0 1.02-.2 1.41-.59l7.78-7.78 2.81-2.81c.8-.78.8-2.07 0-2.86zM5.41 20L4 18.59l7.72-7.72 1.47 1.35L5.41 20z\"/>\n",
              "  </svg>\n",
              "      </button>\n",
              "      \n",
              "  <style>\n",
              "    .colab-df-container {\n",
              "      display:flex;\n",
              "      flex-wrap:wrap;\n",
              "      gap: 12px;\n",
              "    }\n",
              "\n",
              "    .colab-df-convert {\n",
              "      background-color: #E8F0FE;\n",
              "      border: none;\n",
              "      border-radius: 50%;\n",
              "      cursor: pointer;\n",
              "      display: none;\n",
              "      fill: #1967D2;\n",
              "      height: 32px;\n",
              "      padding: 0 0 0 0;\n",
              "      width: 32px;\n",
              "    }\n",
              "\n",
              "    .colab-df-convert:hover {\n",
              "      background-color: #E2EBFA;\n",
              "      box-shadow: 0px 1px 2px rgba(60, 64, 67, 0.3), 0px 1px 3px 1px rgba(60, 64, 67, 0.15);\n",
              "      fill: #174EA6;\n",
              "    }\n",
              "\n",
              "    [theme=dark] .colab-df-convert {\n",
              "      background-color: #3B4455;\n",
              "      fill: #D2E3FC;\n",
              "    }\n",
              "\n",
              "    [theme=dark] .colab-df-convert:hover {\n",
              "      background-color: #434B5C;\n",
              "      box-shadow: 0px 1px 3px 1px rgba(0, 0, 0, 0.15);\n",
              "      filter: drop-shadow(0px 1px 2px rgba(0, 0, 0, 0.3));\n",
              "      fill: #FFFFFF;\n",
              "    }\n",
              "  </style>\n",
              "\n",
              "      <script>\n",
              "        const buttonEl =\n",
              "          document.querySelector('#df-64f4bad9-8bf6-4198-b515-b4cb1dcf1ebd button.colab-df-convert');\n",
              "        buttonEl.style.display =\n",
              "          google.colab.kernel.accessAllowed ? 'block' : 'none';\n",
              "\n",
              "        async function convertToInteractive(key) {\n",
              "          const element = document.querySelector('#df-64f4bad9-8bf6-4198-b515-b4cb1dcf1ebd');\n",
              "          const dataTable =\n",
              "            await google.colab.kernel.invokeFunction('convertToInteractive',\n",
              "                                                     [key], {});\n",
              "          if (!dataTable) return;\n",
              "\n",
              "          const docLinkHtml = 'Like what you see? Visit the ' +\n",
              "            '<a target=\"_blank\" href=https://colab.research.google.com/notebooks/data_table.ipynb>data table notebook</a>'\n",
              "            + ' to learn more about interactive tables.';\n",
              "          element.innerHTML = '';\n",
              "          dataTable['output_type'] = 'display_data';\n",
              "          await google.colab.output.renderOutput(dataTable, element);\n",
              "          const docLink = document.createElement('div');\n",
              "          docLink.innerHTML = docLinkHtml;\n",
              "          element.appendChild(docLink);\n",
              "        }\n",
              "      </script>\n",
              "    </div>\n",
              "  </div>\n",
              "  "
            ]
          },
          "metadata": {},
          "execution_count": 4255
        }
      ]
    },
    {
      "cell_type": "code",
      "source": [
        "print('Score:', regressor.score(X_test, Y_test))"
      ],
      "metadata": {
        "id": "4v8_sK0A0jRC",
        "colab": {
          "base_uri": "https://localhost:8080/"
        },
        "outputId": "4431d5b9-26c0-4c08-c684-215d956b5574"
      },
      "id": "4v8_sK0A0jRC",
      "execution_count": null,
      "outputs": [
        {
          "output_type": "stream",
          "name": "stdout",
          "text": [
            "Score: 0.6167312000408858\n"
          ]
        }
      ]
    },
    {
      "cell_type": "markdown",
      "source": [
        "**Accuracy of 61.67%, the worst of the three models**"
      ],
      "metadata": {
        "id": "ReFpL1nSx9jR"
      },
      "id": "ReFpL1nSx9jR"
    },
    {
      "cell_type": "code",
      "source": [
        "test_mse = mean_squared_error(Y_test, prediction, squared=False)\n",
        "test_rmse = np.sqrt(test_mse)\n",
        "print('Root Mean Squared Error:', test_rmse)"
      ],
      "metadata": {
        "colab": {
          "base_uri": "https://localhost:8080/"
        },
        "id": "FnJXacevyQLD",
        "outputId": "069035a1-1805-4980-fae2-79379e0e2170"
      },
      "id": "FnJXacevyQLD",
      "execution_count": null,
      "outputs": [
        {
          "output_type": "stream",
          "name": "stdout",
          "text": [
            "Root Mean Squared Error: 0.8287978372128348\n"
          ]
        }
      ]
    }
  ],
  "metadata": {
    "kernelspec": {
      "display_name": "Python 3 (ipykernel)",
      "language": "python",
      "name": "python3"
    },
    "language_info": {
      "codemirror_mode": {
        "name": "ipython",
        "version": 3
      },
      "file_extension": ".py",
      "mimetype": "text/x-python",
      "name": "python",
      "nbconvert_exporter": "python",
      "pygments_lexer": "ipython3",
      "version": "3.9.7"
    },
    "colab": {
      "name": "CountriesHappinessAnalysis.ipynb",
      "provenance": [],
      "collapsed_sections": []
    }
  },
  "nbformat": 4,
  "nbformat_minor": 5
}