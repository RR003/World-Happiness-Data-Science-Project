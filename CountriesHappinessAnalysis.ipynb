{
 "cells": [
  {
   "cell_type": "markdown",
   "id": "19b787b2",
   "metadata": {},
   "source": [
    "# CSE351 FINAL PROJECT\n",
    "\n",
    "## What makes people in a country happy?\n",
    "Iman Ali, Rahul &"
   ]
  },
  {
   "cell_type": "code",
   "execution_count": 5,
   "id": "e2448577",
   "metadata": {},
   "outputs": [],
   "source": [
    "# Import required libraries\n",
    "import pandas as pd\n",
    "import numpy as np\n",
    "import seaborn as sns\n",
    "import matplotlib.pyplot as plt\n",
    "from sklearn.linear_model import LinearRegression"
   ]
  },
  {
   "cell_type": "markdown",
   "id": "810e31a0",
   "metadata": {},
   "source": [
    "## Load the data\n",
    "Data Source: https://worldhappiness.report"
   ]
  },
  {
   "cell_type": "code",
   "execution_count": 8,
   "id": "3a80504a",
   "metadata": {},
   "outputs": [],
   "source": [
    "# Use pandas to load data frames\n",
    "happiness15 = pd.read_csv(\"world_happiness/2015.csv\")\n",
    "happiness15 = pd.read_csv(\"world_happiness/2016.csv\")\n",
    "happiness17 = pd.read_csv(\"world_happiness/2017.csv\")\n",
    "happiness18 = pd.read_csv(\"world_happiness/2018.csv\")\n",
    "happiness19 = pd.read_csv(\"world_happiness/2019.csv\")"
   ]
  },
  {
   "cell_type": "markdown",
   "id": "72702307",
   "metadata": {},
   "source": [
    "## EDA\n",
    "Get familiar with the dataset and decide what features and observations will be useful"
   ]
  },
  {
   "cell_type": "code",
   "execution_count": null,
   "id": "dfffc265",
   "metadata": {},
   "outputs": [],
   "source": []
  }
 ],
 "metadata": {
  "kernelspec": {
   "display_name": "Python 3 (ipykernel)",
   "language": "python",
   "name": "python3"
  },
  "language_info": {
   "codemirror_mode": {
    "name": "ipython",
    "version": 3
   },
   "file_extension": ".py",
   "mimetype": "text/x-python",
   "name": "python",
   "nbconvert_exporter": "python",
   "pygments_lexer": "ipython3",
   "version": "3.9.7"
  }
 },
 "nbformat": 4,
 "nbformat_minor": 5
}
